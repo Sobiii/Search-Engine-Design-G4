{
  "nbformat": 4,
  "nbformat_minor": 0,
  "metadata": {
    "colab": {
      "provenance": [],
      "authorship_tag": "ABX9TyN9TQ0SiUUwo4OPAu+0sOKw",
      "include_colab_link": true
    },
    "kernelspec": {
      "name": "python3",
      "display_name": "Python 3"
    },
    "language_info": {
      "name": "python"
    }
  },
  "cells": [
    {
      "cell_type": "markdown",
      "metadata": {
        "id": "view-in-github",
        "colab_type": "text"
      },
      "source": [
        "<a href=\"https://colab.research.google.com/github/Sobiii/Search-Engine-Design-G4/blob/Sobii/Sobs_Attempt.ipynb\" target=\"_parent\"><img src=\"https://colab.research.google.com/assets/colab-badge.svg\" alt=\"Open In Colab\"/></a>"
      ]
    },
    {
      "cell_type": "markdown",
      "source": [
        "## Extracting Documents"
      ],
      "metadata": {
        "id": "Ti-dcJdwOW0A"
      }
    },
    {
      "cell_type": "markdown",
      "source": [
        "## CISI ALL extraction"
      ],
      "metadata": {
        "id": "MEFRqQbfzffR"
      }
    },
    {
      "cell_type": "code",
      "execution_count": 72,
      "metadata": {
        "id": "Rr7nk6RBvfL4"
      },
      "outputs": [],
      "source": [
        "import os as os\n",
        "\n",
        "# get the current working directory\n",
        "notebook_dir = os.getcwd()\n",
        "\n",
        "# define paths to CISI dataset files\n",
        "cisi_all_path = os.path.join(notebook_dir, 'CISI.ALL')\n",
        "cisi_qry_path = os.path.join(notebook_dir, 'CISI.QRY')\n",
        "cisi_rel_path = os.path.join(notebook_dir, 'CISI.REL')"
      ]
    },
    {
      "cell_type": "markdown",
      "source": [
        "## Debugging round 1\n",
        "changes:<br>\n",
        "1) Alternate methods for extracting document ID[mistakenly done- can keep sabrinas version]<br>\n",
        "2) Code able to extract author info correctly regardless of title lenght/ spanning 2 lines. Previous iteration contained .A tag before author list whenever a title was more than a line. This has been solved. Author lists can now also be more than 1 person.<br>\n",
        "3) Code can now extract abstract information a little better than the previous iteration. Having multiple authors no longer results in the .W tag being extracted as part of the abstract.\n",
        "\n",
        "### Improvements to point 3 still needed: abstract is incorrectly extracted if there are other tags such as .B still left in the document. Look at file 26 as an example. Unwanted tags will be extracted as part of the abstract unless removed. This leads to the accumilation of unwanted tags, names and dates in the abstract. Write code to remove unwanted tags from the source data or change approach to extracting abstract \n"
      ],
      "metadata": {
        "id": "Bc9gr9OppmIn"
      }
    },
    {
      "cell_type": "code",
      "source": [
        "import re\n",
        "\n",
        "def extraction(file_name_path):\n",
        "    with open(file_name_path) as f:\n",
        "        file_lines = f.readlines()\n",
        "\n",
        "    doc_ids = []\n",
        "    documents = []\n",
        "    i = 0\n",
        "    while i < len(file_lines):\n",
        "        if file_lines[i].startswith(\".I\"):\n",
        "            doc_id = file_lines[i].split()[1]\n",
        "            doc_ids.append(doc_id)\n",
        "            if file_lines[i+1].startswith(\".T\") and file_lines[i+3].startswith(\".A\"):\n",
        "                title = file_lines[i+2][:].strip()\n",
        "            else:\n",
        "                title = file_lines[i+2].strip() + \" \" + file_lines[i+3].strip()\n",
        "            authors = \"\"\n",
        "            if any([line.startswith(\".A\") for line in file_lines[i+1:]]):\n",
        "                author_start = i+4\n",
        "                author_end = author_start\n",
        "                while author_end < len(file_lines) and not any([file_lines[author_end].startswith(tag) for tag in [\".T\", \".B\", \".W\"]]):\n",
        "                    author_end += 1\n",
        "                authors = \" \".join([file_lines[j].strip() for j in range(author_start, author_end)]).strip()\n",
        "                authors = re.sub(r\"^\\s*\\.\\s*A\\s*\", \"\", authors)\n",
        "                abstract_start = author_end\n",
        "            else:\n",
        "                abstract_start = i+4\n",
        "\n",
        "            for t in range(i+4, len(file_lines)):\n",
        "                if file_lines[t].startswith(\".X\"):\n",
        "                    abstract_end = t\n",
        "                    break\n",
        "            else:\n",
        "                abstract_end = len(file_lines)\n",
        "            abstract = \" \".join(file_lines[abstract_start:abstract_end]).strip().replace('\\n', ' ')\n",
        "            abstract = re.sub(r\"^\\s*\\.\\s*W\\s*\", \"\", abstract)\n",
        "            abstract = \" \".join(abstract.split())\n",
        "            documents.append({\"document_id\": doc_id, \"title\": title, \"authors\": authors, \"abstract\": abstract})\n",
        "            i = abstract_end\n",
        "        else:\n",
        "            i += 1\n",
        "\n",
        "    return documents\n",
        "\n"
      ],
      "metadata": {
        "id": "ad6jvX5nmwk6"
      },
      "execution_count": 73,
      "outputs": []
    },
    {
      "cell_type": "code",
      "source": [
        "documents = extraction(cisi_all_path)\n",
        "documents"
      ],
      "metadata": {
        "id": "wQmUotyNoROz"
      },
      "execution_count": null,
      "outputs": []
    },
    {
      "cell_type": "markdown",
      "source": [
        "## CISI QRY extraction"
      ],
      "metadata": {
        "id": "RnTpJR7NzmpV"
      }
    },
    {
      "cell_type": "markdown",
      "source": [
        "The following code is correct and works for the first 57 queries (1-57) how wever the remaining queiries have a different format and thus different code to extract those. Work on that next."
      ],
      "metadata": {
        "id": "1T6Jh0at1LoZ"
      }
    },
    {
      "cell_type": "markdown",
      "source": [
        "1) Possible approach is to split the CISI.QRY file into 2 and work with two different qry files. I think this is the easiet option. If all else fails just stick to the first files of 57."
      ],
      "metadata": {
        "id": "FkpZ_Jyy1qlz"
      }
    },
    {
      "cell_type": "markdown",
      "source": [
        "# Code for first 57 Queries"
      ],
      "metadata": {
        "id": "zQektJNM2Mhu"
      }
    },
    {
      "cell_type": "code",
      "source": [
        "# query extraction for the CISI.QRY file\n",
        "def extraction_query(file_name_path):\n",
        "    with open(file_name_path) as f:\n",
        "        file_lines = f.readlines()\n",
        "\n",
        "    queries = []\n",
        "    i = 0\n",
        "    while i < len(file_lines):\n",
        "        if file_lines[i].startswith(\".I\"):\n",
        "            query_id = int(file_lines[i][3:])\n",
        "            if file_lines[i+1].startswith(\".W\"):\n",
        "                query_text = file_lines[i+2].strip()\n",
        "                for t in range(i+3, len(file_lines)):\n",
        "                    if file_lines[t].startswith(\".I\"):\n",
        "                        break\n",
        "                    query_text += \" \" + file_lines[t].strip()\n",
        "            else:\n",
        "                query_text = \"\"\n",
        "            queries.append({\"query_id\": query_id, \"query_text\": query_text})\n",
        "        i += 1\n",
        "\n",
        "    return queries"
      ],
      "metadata": {
        "id": "EGCN97qcoSO0"
      },
      "execution_count": 75,
      "outputs": []
    },
    {
      "cell_type": "code",
      "source": [
        "queries = extraction_query(cisi_qry_path)\n",
        "queries"
      ],
      "metadata": {
        "id": "cPcdjGcqzxpu"
      },
      "execution_count": null,
      "outputs": []
    },
    {
      "cell_type": "markdown",
      "source": [
        "# Code for remaining queries"
      ],
      "metadata": {
        "id": "b-xokzK02RvG"
      }
    },
    {
      "cell_type": "code",
      "source": [
        "# insert code"
      ],
      "metadata": {
        "id": "iaGrtyRPz1I2"
      },
      "execution_count": null,
      "outputs": []
    }
  ]
}