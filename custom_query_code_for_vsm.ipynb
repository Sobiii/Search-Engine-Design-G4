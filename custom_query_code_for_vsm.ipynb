{
  "nbformat": 4,
  "nbformat_minor": 0,
  "metadata": {
    "colab": {
      "provenance": []
    },
    "kernelspec": {
      "name": "python3",
      "display_name": "Python 3"
    },
    "language_info": {
      "name": "python"
    }
  },
  "cells": [
    {
      "cell_type": "code",
      "execution_count": null,
      "metadata": {
        "id": "xZu6x5NAmEqL"
      },
      "outputs": [],
      "source": [
        "def VSM2(corpus, num_results):\n",
        "    # creates document-term frequency matrix and generates TF-IDF matrix\n",
        "    vectorizer = CountVectorizer()\n",
        "    term_matrix = vectorizer.fit_transform(corpus)\n",
        "    tfidf_transformer = TfidfTransformer()\n",
        "    tfidf_matrix = tfidf_transformer.fit_transform(term_matrix)\n",
        "\n",
        "    # allows custom query from the user\n",
        "    while True:\n",
        "        query = input(\"Enter your query here (type 'x' to exit): \")\n",
        "        if query == 'x':\n",
        "            break\n",
        "\n",
        "        # create query vector and calculate cosine similarity for individual documents\n",
        "        query_matrix = vectorizer.transform([query])\n",
        "        query_tfidf = tfidf_transformer.transform(query_matrix)\n",
        "        cosine_similarities = cosine_similarity(query_tfidf, tfidf_matrix).flatten()\n",
        "        top_results = cosine_similarities.argsort()[::-1][:num_results]\n",
        "\n",
        "        # prints out the top-n matching documents for the query\n",
        "        # prints out the top-n matching documents for each query\n",
        "        print(f\"Top {num_results} matching documents for query {query_id+1}: '{query}'\")\n",
        "        for i, index in enumerate(top_results):\n",
        "            print(f\"Rank {i+1}: {documents[index]}\")\n",
        "        print()"
      ]
    }
  ]
}