{
  "cells": [
    {
      "cell_type": "markdown",
      "id": "a44ce63f-4719-49a4-ba56-1ed8b314dfc4",
      "metadata": {
        "id": "a44ce63f-4719-49a4-ba56-1ed8b314dfc4"
      },
      "source": [
        "# Data Loading and Extraction"
      ]
    },
    {
      "cell_type": "markdown",
      "source": [
        "The section below extracts the 3 files from the CISI data collection:\n",
        "- CISI.ALL: containing information about the documents.\n",
        "- CISI.QRY: containing a list of queries to be executed against our retrieval system.\n",
        "- CISI.REL: contains appropriate relevance assessments to be used in the evaluation of our models.\n",
        "\n"
      ],
      "metadata": {
        "id": "3VUTlXKW79gm"
      },
      "id": "3VUTlXKW79gm"
    },
    {
      "cell_type": "markdown",
      "source": [
        "**Supporting Documents have been provided in the CISI supporting documents file**"
      ],
      "metadata": {
        "id": "frGsBJQmQlSq"
      },
      "id": "frGsBJQmQlSq"
    },
    {
      "cell_type": "markdown",
      "source": [
        "##### **Loading the files**"
      ],
      "metadata": {
        "id": "1IZXxp8T8trn"
      },
      "id": "1IZXxp8T8trn"
    },
    {
      "cell_type": "code",
      "execution_count": null,
      "id": "d44a2f7e-1aee-4ae9-87f3-da8a9a7628b2",
      "metadata": {
        "id": "d44a2f7e-1aee-4ae9-87f3-da8a9a7628b2"
      },
      "outputs": [],
      "source": [
        "import os as os\n",
        "import re\n",
        "\n",
        "# obtains the current working directory of the notebook\n",
        "directory = os.getcwd()\n",
        "\n",
        "# defines paths to CISI dataset files\n",
        "cisi_all_path = os.path.join(directory, 'CISI.ALL')\n",
        "cisi_qry_path = os.path.join(directory, 'CISI.QRY')\n",
        "cisi_rel_path = os.path.join(directory, 'CISI.REL')"
      ]
    },
    {
      "cell_type": "markdown",
      "id": "f3d54de2-c44f-467a-9a51-463baecff1c3",
      "metadata": {
        "id": "f3d54de2-c44f-467a-9a51-463baecff1c3"
      },
      "source": [
        "##### **CISI.ALL Extraction**"
      ]
    },
    {
      "cell_type": "markdown",
      "source": [
        "The CISI.ALL file contains a collection of text documents, where each document represents a bibliographic record and contains various tags that provide metadata about the document.\n",
        "\n",
        "These tags are:\n",
        "\n",
        "1) [.I] Document ID: A unique identifier assigned to each document in the collection.<br>\n",
        "2) [.T ]Title: The title of the document, which provides a brief description of the content.<br>\n",
        "3) [.A] Author: The name(s) of the author(s) of the document.<br>\n",
        "4) [.B] Source: The source of the document.<br>\n",
        "4) [.W] Abstract: A summary or brief description of the content of the document.<br>\n",
        "5) [.y] Publication Date: The date of publication of the document.<br>\n",
        "6) [.X ]Keywords: Terms or phrases that represent the main topics or subjects covered in the document.<br>\n",
        "\n",
        "However not all tags and metadata are included for each document."
      ],
      "metadata": {
        "id": "OB_i-sIQY_sw"
      },
      "id": "OB_i-sIQY_sw"
    },
    {
      "cell_type": "code",
      "execution_count": null,
      "id": "fa9c956d-e50c-48d1-ab5e-3722a19d7614",
      "metadata": {
        "id": "fa9c956d-e50c-48d1-ab5e-3722a19d7614"
      },
      "outputs": [],
      "source": [
        "# function extracting text in the CISI.ALL file line by line and populating id, title, author, abstract and publication information fields\n",
        "def all_extraction(file_name_path):\n",
        "    with open(file_name_path) as f:\n",
        "        file_lines = f.readlines()\n",
        "\n",
        "    doc_ids = []\n",
        "    documents = []\n",
        "    i = 0\n",
        "    while i < len(file_lines):\n",
        "        if file_lines[i].startswith(\".I\"): # if a line starts with '.I', the following line will be the document ID\n",
        "            doc_id = file_lines[i].split()[1]\n",
        "            doc_ids.append(doc_id)\n",
        "            if file_lines[i+1].startswith(\".T\") and file_lines[i+3].startswith(\".A\"): # selecting text between the .T and .A tags\n",
        "                title = file_lines[i+2][:].strip() # saved into the title tag\n",
        "            else:\n",
        "                title = file_lines[i+2].strip() + \" \" + file_lines[i+3].strip()\n",
        "            authors = \"\"\n",
        "            if any([line.startswith(\".A\") for line in file_lines[i+1:]]): # selecting text after the .A tag\n",
        "                author_start = i+4 # saved as author\n",
        "                author_end = author_start\n",
        "                while author_end < len(file_lines) and not any([file_lines[author_end].startswith(tag) for tag in [\".T\", \".B\", \".W\", \".Y\"]]):\n",
        "                    author_end += 1 # checks for documents with multiple authors\n",
        "                authors = \" \".join([file_lines[j].strip() for j in range(author_start, author_end)]).strip()\n",
        "                authors = re.sub(r\"^\\s*\\.\\s*A\\s*\", \"\", authors)\n",
        "                abstract_start = author_end # selects text after the author lines as the start of the abstract\n",
        "            else:\n",
        "                abstract_start = i+4\n",
        "\n",
        "            for t in range(i+4, len(file_lines)):\n",
        "                if file_lines[t].startswith(\".X\"): # abstract text ends before the .X keywords tag\n",
        "                    abstract_end = t\n",
        "                    break\n",
        "            else:\n",
        "                abstract_end = len(file_lines)\n",
        "            abstract = \" \".join(file_lines[abstract_start:abstract_end]).strip().replace('\\n', ' ')\n",
        "            abstract = re.sub(r\"^\\s*\\.\\s*W\\s*\", \"\", abstract)\n",
        "            abstract = \" \".join(abstract.split())\n",
        "            source = re.search(r\"\\.B\\s+(.*)\\.W\", abstract)\n",
        "            if source: # saves source information (.B) if present\n",
        "                source = source.group(1)\n",
        "                source = re.sub(r\"^\\s*\\.\\s*A\\s*\", \"\", source)\n",
        "                source = re.sub(r\"^\\s*\\.\\s*B\\s*\", \"\", source)\n",
        "            else:\n",
        "                source = \"\"\n",
        "            abstract = re.sub(r\"^\\s*\\.\\s*B\\s*(.*)\\.W\", \"\", abstract)\n",
        "            abstract = \" \".join(abstract.split())\n",
        "            year = re.search(r\"\\.Y\\s+(\\d{4})\", abstract)\n",
        "            if year: # saves publication date (.Y) if present\n",
        "                year = int(year.group(1))\n",
        "            else:\n",
        "                year = \"\"\n",
        "            abstract = re.sub(r\"^\\s*\\.\\s*Y\\s*\\d{4}\\s*\", \"\", abstract)\n",
        "            abstract = \" \".join(abstract.split())\n",
        "            documents.append({\"document_id\": doc_id, \"title\": title, \"authors\": authors, \"abstract\": abstract, \"source\": source, \"year\": year})\n",
        "            i = abstract_end\n",
        "        else:\n",
        "            i += 1\n",
        "\n",
        "    return documents"
      ]
    },
    {
      "cell_type": "code",
      "execution_count": null,
      "id": "399ab28b-7185-4568-bc6d-0407b05b6b02",
      "metadata": {
        "id": "399ab28b-7185-4568-bc6d-0407b05b6b02"
      },
      "outputs": [],
      "source": [
        "documents = all_extraction(cisi_all_path) # Extracted CISI.ALL docunemnts\n",
        "documents"
      ]
    },
    {
      "cell_type": "markdown",
      "id": "8340675c-b2e9-4b5a-8df7-6bf61d9e7d05",
      "metadata": {
        "id": "8340675c-b2e9-4b5a-8df7-6bf61d9e7d05"
      },
      "source": [
        "##### **CISI.QRY Extraction**"
      ]
    },
    {
      "cell_type": "markdown",
      "source": [
        "The CISI.QRY file contains a list of queries, where each query is associated with certain tags that provide additional information about the query.\n",
        "\n",
        "The first 57 queries in the file vary informat from the remaining queiries. Therefore the queries have been extracted in two stages. The specific tags can vary from one query to another and not all queries contain all tags.\n",
        "\n",
        "The tags present in the file are:\n",
        "\n",
        "1) [.I] Query ID: A unique identifier or number assigned to each query for reference and identification purposes.<br>\n",
        "2) [.W] Query Text: The actual text or content of the query, which represents the information need of the user.<br>\n",
        "3) [.T] Query Title: The title or heading of the query, which provides a brief summary or description of the query.<br>\n",
        "4) [.A] Query Author: The author or source of the query, which indicates the origin or creator of the query.<br>\n",
        "5) [.B] Query Source: The source of the Query.<br>\n",
        "\n",
        "\n"
      ],
      "metadata": {
        "id": "l9q6tyarbc6P"
      },
      "id": "l9q6tyarbc6P"
    },
    {
      "cell_type": "code",
      "source": [
        "# query extraction from CISI.QRY file (1st 57 queries only)\n",
        "def extraction_query(file_name_path):\n",
        "    with open(file_name_path) as f:\n",
        "        file_lines = f.readlines()\n",
        "\n",
        "    queries_1 = []\n",
        "    i = 0\n",
        "    while i < len(file_lines):\n",
        "        if file_lines[i].startswith(\".I\"):\n",
        "            query_id = int(file_lines[i][3:])\n",
        "            if query_id > 57:\n",
        "                break\n",
        "            if file_lines[i+1].startswith(\".W\"):\n",
        "                query_text = file_lines[i+2].strip()\n",
        "                for t in range(i+3, len(file_lines)):\n",
        "                    if file_lines[t].startswith(\".I\"):\n",
        "                        break\n",
        "                    query_text += \" \" + file_lines[t].strip()\n",
        "            else:\n",
        "                query_text = \"\"\n",
        "            queries_1.append({\"query_id\": query_id, \"query_text\": query_text})\n",
        "        i += 1\n",
        "\n",
        "    return queries_1\n",
        ""
      ],
      "metadata": {
        "id": "CqM3U2rHYsFS"
      },
      "id": "CqM3U2rHYsFS",
      "execution_count": null,
      "outputs": []
    },
    {
      "cell_type": "code",
      "source": [
        "# query extraction from CISI.QRY file (58th query onwards)\n",
        "def extraction_remaining_queries(file_name_path):\n",
        "    with open(file_name_path) as f:\n",
        "        file_lines = f.readlines()\n",
        "\n",
        "    queries = []\n",
        "    i = 0\n",
        "    while i < len(file_lines):\n",
        "        if file_lines[i].startswith(\".I\"):\n",
        "            query_id = int(file_lines[i][3:])\n",
        "            if query_id > 57:\n",
        "                query_title = \"\"\n",
        "                query_author = \"\"\n",
        "                query_text = \"\"\n",
        "                query_source = \"\"\n",
        "                found_text_field = False\n",
        "                found_source_field = False\n",
        "                for t in range(i+1, len(file_lines)):\n",
        "                    if file_lines[t].startswith(\".I\"):\n",
        "                        break\n",
        "                    elif file_lines[t].startswith(\".T\"):\n",
        "                        query_title += file_lines[t][3:].strip()\n",
        "                        # Check if the next line starts with .A and the line after that starts with .T\n",
        "                        next_t = t+1\n",
        "                        if next_t < len(file_lines) and file_lines[next_t].startswith(\".A\") and (next_t+1) < len(file_lines) and file_lines[next_t+1].startswith(\".T\"):\n",
        "                            query_title += \" \" + file_lines[next_t].strip()\n",
        "                            next_t += 1\n",
        "                        # Check if the next line also contains title text\n",
        "                        while next_t < len(file_lines) and not file_lines[next_t].startswith(\".I\") and not file_lines[next_t].startswith(\".A\") and not file_lines[next_t].startswith(\".W\") and not file_lines[next_t].startswith(\".B\"):\n",
        "                            query_title += \" \" + file_lines[next_t].strip()\n",
        "                            next_t += 1\n",
        "                    elif file_lines[t].startswith(\".A\"):\n",
        "                        query_author += file_lines[t+1][3:].strip()\n",
        "                        # Check if the next line also contains author text\n",
        "                        next_t = t+1\n",
        "                        while next_t < len(file_lines) and not file_lines[next_t].startswith(\".I\") and not file_lines[next_t].startswith(\".T\") and not file_lines[next_t].startswith(\".W\") and not file_lines[next_t].startswith(\".B\") and not file_lines[next_t].startswith(\".A\"):\n",
        "                            query_author += \", \" + file_lines[next_t].strip()\n",
        "                            next_t += 1\n",
        "                            query_author += \", \" + file_lines[next_t].strip()\n",
        "                            next_t += 1\n",
        "                    elif file_lines[t].startswith(\".W\"):\n",
        "                        found_text_field = True\n",
        "                        query_text = re.sub(r'^\\.W\\s*', '', file_lines[t].strip())  # Use regex to remove \".W\" tag from the beginning of the line\n",
        "                        for u in range(t+2, len(file_lines)):\n",
        "                            if file_lines[u].startswith(\".I\") or file_lines[u].startswith(\".B\"):\n",
        "                                break\n",
        "                            query_text += \" \" + file_lines[u].strip()\n",
        "                    elif file_lines[t].startswith(\".B\"):\n",
        "                        found_source_field = True\n",
        "                        query_source = file_lines[t][3:].strip()\n",
        "                        for u in range(t+1, len(file_lines)):\n",
        "                            if file_lines[u].startswith(\".I\"):\n",
        "                                break\n",
        "                            query_source += \" \" + file_lines[u].strip()\n",
        "                    elif not found_text_field and not found_source_field:\n",
        "                        # Assume any field that appears before the .W and .B field is either the title or author\n",
        "                        if not query_title:\n",
        "                            query_title = file_lines[t].strip()\n",
        "                        elif query_author:\n",
        "                            query_author = file_lines[t-1].strip()\n",
        "                            query_author += file_lines[t].strip()\n",
        "                queries.append({\"query_id\": query_id, \"query_title\": query_title, \"query_author\": query_author, \"query_text\": query_text, \"query_source\": query_source})\n",
        "        i += 1\n",
        "\n",
        "    return queries"
      ],
      "metadata": {
        "id": "yx7Vl5MnYyAy"
      },
      "id": "yx7Vl5MnYyAy",
      "execution_count": null,
      "outputs": []
    },
    {
      "cell_type": "code",
      "source": [
        "# Creating one variable with all extrcated queries\n",
        "queries_1 = extraction_query(cisi_qry_path)\n",
        "queries_2 = extraction_remaining_queries(cisi_qry_path)\n",
        "queries = queries_1 + queries_2"
      ],
      "metadata": {
        "id": "5t11aYjdY13i"
      },
      "id": "5t11aYjdY13i",
      "execution_count": null,
      "outputs": []
    },
    {
      "cell_type": "markdown",
      "id": "33ad2e92-0aec-4261-8ed7-c49849b164e6",
      "metadata": {
        "id": "33ad2e92-0aec-4261-8ed7-c49849b164e6"
      },
      "source": [
        "##### **CISI.REL Extraction**"
      ]
    },
    {
      "cell_type": "markdown",
      "source": [
        "The CISI.REL file contains relevance judgments that are assessments of the relevance of documents in a collection to a set of query topics. The file maps ech query to the relevant documents that the query is related to. However it is worth noting that unlike other relevancy file there is no notion of relvancy or how one document can be more relavent to a query compared to another document."
      ],
      "metadata": {
        "id": "6ZExIliRdfrh"
      },
      "id": "6ZExIliRdfrh"
    },
    {
      "cell_type": "code",
      "execution_count": null,
      "id": "3280e328-d333-4f77-be57-475de94c0ccf",
      "metadata": {
        "colab": {
          "base_uri": "https://localhost:8080/",
          "height": 224
        },
        "id": "3280e328-d333-4f77-be57-475de94c0ccf",
        "outputId": "d44be92f-f8c0-4bb5-964e-e758ebd175b0"
      },
      "outputs": [
        {
          "output_type": "stream",
          "name": "stdout",
          "text": [
            "False\n"
          ]
        },
        {
          "output_type": "execute_result",
          "data": {
            "text/plain": [
              "   query_id  document_id\n",
              "0         1           28\n",
              "1         1           35\n",
              "2         1           38\n",
              "3         1           42\n",
              "4         1           43"
            ],
            "text/html": [
              "\n",
              "  <div id=\"df-6ae6b7e0-067d-45c4-8f8e-324394927464\">\n",
              "    <div class=\"colab-df-container\">\n",
              "      <div>\n",
              "<style scoped>\n",
              "    .dataframe tbody tr th:only-of-type {\n",
              "        vertical-align: middle;\n",
              "    }\n",
              "\n",
              "    .dataframe tbody tr th {\n",
              "        vertical-align: top;\n",
              "    }\n",
              "\n",
              "    .dataframe thead th {\n",
              "        text-align: right;\n",
              "    }\n",
              "</style>\n",
              "<table border=\"1\" class=\"dataframe\">\n",
              "  <thead>\n",
              "    <tr style=\"text-align: right;\">\n",
              "      <th></th>\n",
              "      <th>query_id</th>\n",
              "      <th>document_id</th>\n",
              "    </tr>\n",
              "  </thead>\n",
              "  <tbody>\n",
              "    <tr>\n",
              "      <th>0</th>\n",
              "      <td>1</td>\n",
              "      <td>28</td>\n",
              "    </tr>\n",
              "    <tr>\n",
              "      <th>1</th>\n",
              "      <td>1</td>\n",
              "      <td>35</td>\n",
              "    </tr>\n",
              "    <tr>\n",
              "      <th>2</th>\n",
              "      <td>1</td>\n",
              "      <td>38</td>\n",
              "    </tr>\n",
              "    <tr>\n",
              "      <th>3</th>\n",
              "      <td>1</td>\n",
              "      <td>42</td>\n",
              "    </tr>\n",
              "    <tr>\n",
              "      <th>4</th>\n",
              "      <td>1</td>\n",
              "      <td>43</td>\n",
              "    </tr>\n",
              "  </tbody>\n",
              "</table>\n",
              "</div>\n",
              "      <button class=\"colab-df-convert\" onclick=\"convertToInteractive('df-6ae6b7e0-067d-45c4-8f8e-324394927464')\"\n",
              "              title=\"Convert this dataframe to an interactive table.\"\n",
              "              style=\"display:none;\">\n",
              "        \n",
              "  <svg xmlns=\"http://www.w3.org/2000/svg\" height=\"24px\"viewBox=\"0 0 24 24\"\n",
              "       width=\"24px\">\n",
              "    <path d=\"M0 0h24v24H0V0z\" fill=\"none\"/>\n",
              "    <path d=\"M18.56 5.44l.94 2.06.94-2.06 2.06-.94-2.06-.94-.94-2.06-.94 2.06-2.06.94zm-11 1L8.5 8.5l.94-2.06 2.06-.94-2.06-.94L8.5 2.5l-.94 2.06-2.06.94zm10 10l.94 2.06.94-2.06 2.06-.94-2.06-.94-.94-2.06-.94 2.06-2.06.94z\"/><path d=\"M17.41 7.96l-1.37-1.37c-.4-.4-.92-.59-1.43-.59-.52 0-1.04.2-1.43.59L10.3 9.45l-7.72 7.72c-.78.78-.78 2.05 0 2.83L4 21.41c.39.39.9.59 1.41.59.51 0 1.02-.2 1.41-.59l7.78-7.78 2.81-2.81c.8-.78.8-2.07 0-2.86zM5.41 20L4 18.59l7.72-7.72 1.47 1.35L5.41 20z\"/>\n",
              "  </svg>\n",
              "      </button>\n",
              "      \n",
              "  <style>\n",
              "    .colab-df-container {\n",
              "      display:flex;\n",
              "      flex-wrap:wrap;\n",
              "      gap: 12px;\n",
              "    }\n",
              "\n",
              "    .colab-df-convert {\n",
              "      background-color: #E8F0FE;\n",
              "      border: none;\n",
              "      border-radius: 50%;\n",
              "      cursor: pointer;\n",
              "      display: none;\n",
              "      fill: #1967D2;\n",
              "      height: 32px;\n",
              "      padding: 0 0 0 0;\n",
              "      width: 32px;\n",
              "    }\n",
              "\n",
              "    .colab-df-convert:hover {\n",
              "      background-color: #E2EBFA;\n",
              "      box-shadow: 0px 1px 2px rgba(60, 64, 67, 0.3), 0px 1px 3px 1px rgba(60, 64, 67, 0.15);\n",
              "      fill: #174EA6;\n",
              "    }\n",
              "\n",
              "    [theme=dark] .colab-df-convert {\n",
              "      background-color: #3B4455;\n",
              "      fill: #D2E3FC;\n",
              "    }\n",
              "\n",
              "    [theme=dark] .colab-df-convert:hover {\n",
              "      background-color: #434B5C;\n",
              "      box-shadow: 0px 1px 3px 1px rgba(0, 0, 0, 0.15);\n",
              "      filter: drop-shadow(0px 1px 2px rgba(0, 0, 0, 0.3));\n",
              "      fill: #FFFFFF;\n",
              "    }\n",
              "  </style>\n",
              "\n",
              "      <script>\n",
              "        const buttonEl =\n",
              "          document.querySelector('#df-6ae6b7e0-067d-45c4-8f8e-324394927464 button.colab-df-convert');\n",
              "        buttonEl.style.display =\n",
              "          google.colab.kernel.accessAllowed ? 'block' : 'none';\n",
              "\n",
              "        async function convertToInteractive(key) {\n",
              "          const element = document.querySelector('#df-6ae6b7e0-067d-45c4-8f8e-324394927464');\n",
              "          const dataTable =\n",
              "            await google.colab.kernel.invokeFunction('convertToInteractive',\n",
              "                                                     [key], {});\n",
              "          if (!dataTable) return;\n",
              "\n",
              "          const docLinkHtml = 'Like what you see? Visit the ' +\n",
              "            '<a target=\"_blank\" href=https://colab.research.google.com/notebooks/data_table.ipynb>data table notebook</a>'\n",
              "            + ' to learn more about interactive tables.';\n",
              "          element.innerHTML = '';\n",
              "          dataTable['output_type'] = 'display_data';\n",
              "          await google.colab.output.renderOutput(dataTable, element);\n",
              "          const docLink = document.createElement('div');\n",
              "          docLink.innerHTML = docLinkHtml;\n",
              "          element.appendChild(docLink);\n",
              "        }\n",
              "      </script>\n",
              "    </div>\n",
              "  </div>\n",
              "  "
            ]
          },
          "metadata": {},
          "execution_count": 329
        }
      ],
      "source": [
        "# Extracting relavancy info as dataframe\n",
        "import pandas as pd\n",
        "\n",
        "rel_df = pd.read_csv('CISI.REL', names=['query_id', 'document_id', 'relevance', 'score'], delimiter='\\s+') # reads the file and loads in as a dataframe\n",
        "rel_df = rel_df.drop(columns=['relevance', 'score']) # drop relevance and score columns because they are 0.\n",
        "print(rel_df.isnull().values.any()) # checking for any NaN values or errors in the extraction\n",
        "rel_df.head()"
      ]
    },
    {
      "cell_type": "code",
      "source": [
        "# converting dataframe into a dictionary using query id as key and document ids as values\n",
        "query_ids = rel_df['query_id'].unique()\n",
        "rel_dict = {}\n",
        "\n",
        "for query_id in query_ids:\n",
        "    documents1 = rel_df[rel_df['query_id'] == query_id]['document_id'].tolist()\n",
        "    rel_dict[query_id] = documents1\n",
        "\n",
        "# converting our dictionary into a list for easier visualisation\n",
        "rel_list = [(k, v) for k, v in rel_dict.items()]"
      ],
      "metadata": {
        "id": "GRZmd2cG-Tmn"
      },
      "execution_count": null,
      "outputs": [],
      "id": "GRZmd2cG-Tmn"
    },
    {
      "cell_type": "code",
      "source": [
        "# reformatting 'rel_list' for easier visualisation\n",
        "relevant_documents = [(query_id, document_ids) for query_id, document_ids in rel_list]\n",
        "relevant_documents = [{'query_id': query_id, 'relevant_document_ids': document_ids} for query_id, document_ids in rel_list]\n",
        "relevant_documents[2] # print out the first query and its top 10 results just to see the formatting"
      ],
      "metadata": {
        "colab": {
          "base_uri": "https://localhost:8080/"
        },
        "id": "nz4qdpoABPI8",
        "outputId": "c0fe3da8-9da9-47a7-84bc-ba89fdc4f3f7"
      },
      "id": "nz4qdpoABPI8",
      "execution_count": null,
      "outputs": [
        {
          "output_type": "execute_result",
          "data": {
            "text/plain": [
              "{'query_id': 3,\n",
              " 'relevant_document_ids': [60,\n",
              "  85,\n",
              "  114,\n",
              "  123,\n",
              "  126,\n",
              "  131,\n",
              "  133,\n",
              "  136,\n",
              "  138,\n",
              "  140,\n",
              "  346,\n",
              "  359,\n",
              "  363,\n",
              "  372,\n",
              "  412,\n",
              "  445,\n",
              "  454,\n",
              "  461,\n",
              "  463,\n",
              "  469,\n",
              "  532,\n",
              "  537,\n",
              "  540,\n",
              "  553,\n",
              "  554,\n",
              "  555,\n",
              "  585,\n",
              "  590,\n",
              "  599,\n",
              "  640,\n",
              "  660,\n",
              "  664,\n",
              "  803,\n",
              "  901,\n",
              "  909,\n",
              "  911,\n",
              "  1027,\n",
              "  1053,\n",
              "  1169,\n",
              "  1179,\n",
              "  1181,\n",
              "  1190,\n",
              "  1191,\n",
              "  1326]}"
            ]
          },
          "metadata": {},
          "execution_count": 331
        }
      ]
    },
    {
      "cell_type": "markdown",
      "source": [
        "# **Pre-processing the Data**"
      ],
      "metadata": {
        "id": "07EziRhOZ1bL"
      },
      "id": "07EziRhOZ1bL"
    },
    {
      "cell_type": "markdown",
      "source": [
        "The following NLP preprocessing steps will be administered to both the document and query data:\n",
        "\n",
        "1.   Tokenizing\n",
        "2.   Converting text to lowercase\n",
        "3.   Removing stopwords\n",
        "4.   Removing special characters, numbers, and punctuation marks\n",
        "5.   lemmatization"
      ],
      "metadata": {
        "id": "m4dRDR0MFDwF"
      },
      "id": "m4dRDR0MFDwF"
    },
    {
      "cell_type": "markdown",
      "source": [
        "Why lemmatization was chosen?:<br> Lemmatization typically produces more accurate results compared to stemming. It takes into account the grammatical and semantic context of words, it is able to generate meaningful and valid base forms that are real words and are closer to the original word's meaning. In contrast, stemming relies on rule-based truncation that can result in stemming errors or produce stems that are not always valid words or may not represent the actual root form of the word."
      ],
      "metadata": {
        "id": "0RmP1vVYgY_y"
      },
      "id": "0RmP1vVYgY_y"
    },
    {
      "cell_type": "code",
      "source": [
        "# importing relevant NLP pre-processing libraries\n",
        "import string\n",
        "import nltk\n",
        "from nltk.corpus import stopwords\n",
        "from nltk.tokenize import word_tokenize\n",
        "from nltk.stem import WordNetLemmatizer\n",
        "\n",
        "nltk.download('punkt')\n",
        "nltk.download('stopwords')\n",
        "nltk.download('wordnet')"
      ],
      "metadata": {
        "colab": {
          "base_uri": "https://localhost:8080/"
        },
        "id": "PugiN_zgBuhm",
        "outputId": "c2c2dec7-f5aa-4afd-fad1-8fccc02549bf"
      },
      "id": "PugiN_zgBuhm",
      "execution_count": null,
      "outputs": [
        {
          "output_type": "stream",
          "name": "stderr",
          "text": [
            "[nltk_data] Downloading package punkt to /root/nltk_data...\n",
            "[nltk_data]   Package punkt is already up-to-date!\n",
            "[nltk_data] Downloading package stopwords to /root/nltk_data...\n",
            "[nltk_data]   Package stopwords is already up-to-date!\n",
            "[nltk_data] Downloading package wordnet to /root/nltk_data...\n",
            "[nltk_data]   Package wordnet is already up-to-date!\n"
          ]
        },
        {
          "output_type": "execute_result",
          "data": {
            "text/plain": [
              "True"
            ]
          },
          "metadata": {},
          "execution_count": 332
        }
      ]
    },
    {
      "cell_type": "markdown",
      "source": [
        "**Pre-processing the document data and generating the corpus**"
      ],
      "metadata": {
        "id": "E6swVIRwB_ce"
      },
      "id": "E6swVIRwB_ce"
    },
    {
      "cell_type": "code",
      "source": [
        "# defining pre-processing tools\n",
        "stop_words = set(stopwords.words('english'))\n",
        "lemmatizer = WordNetLemmatizer()\n",
        "\n",
        "corpus = []\n",
        "\n",
        "for document in documents:\n",
        "    text = \"\"\n",
        "    if \"title\" in document and document[\"title\"]:\n",
        "        text += document[\"title\"]\n",
        "    if \"authors\" in document and document[\"authors\"]:\n",
        "        text += \" \" + document[\"authors\"]\n",
        "    if \"abstract\" in document and document[\"abstract\"]:\n",
        "        text += \" \" + document[\"abstract\"]\n",
        "    if text:  # only add non-empty strings to corpus\n",
        "        # removes special characters, numbers, and punctuation marks\n",
        "        text = text.translate(str.maketrans('', '', string.punctuation + string.digits))\n",
        "        # removes quotation marks\n",
        "        text = text.replace(\"'\", \"\").replace('\"', '')\n",
        "        # tokenizes and converts to lowercase\n",
        "        tokens = word_tokenize(text.lower())\n",
        "        # remove stop words\n",
        "        filtered_text = [word for word in tokens if word not in stop_words]\n",
        "        # performs lemmatization\n",
        "        lemmatized_text = [lemmatizer.lemmatize(word) for word in filtered_text]\n",
        "        # join tokens back to form a string to generate corpus\n",
        "        preprocessed_text = ' '.join(lemmatized_text)\n",
        "        corpus.append(preprocessed_text)"
      ],
      "metadata": {
        "id": "VCakO4roZ0eF"
      },
      "id": "VCakO4roZ0eF",
      "execution_count": null,
      "outputs": []
    },
    {
      "cell_type": "code",
      "source": [
        "# Printing the 3rd document from corpus to check against CISI.ALL\n",
        "print(corpus[1])"
      ],
      "metadata": {
        "colab": {
          "base_uri": "https://localhost:8080/"
        },
        "id": "7yxKdrzlZ4Ow",
        "outputId": "c967cc2f-dfa3-4cfb-e426-c9396342ef51"
      },
      "id": "7yxKdrzlZ4Ow",
      "execution_count": null,
      "outputs": [
        {
          "output_type": "stream",
          "name": "stdout",
          "text": [
            "use made technical library slater report analysis act use technical library united kingdom library use one aspect wider pattern information use information transfer library restricted use document take account document used outside library still le information transferred orally person person library act channel proportion situation information transferred taking technical information transfer whole doubt proportion major one user technical information particularly technology rather science visit library rarely relying desk collection handbook current periodical personal contact colleague people organization even regular library user also receive information way\n"
          ]
        }
      ]
    },
    {
      "cell_type": "markdown",
      "source": [
        "**Pre-processing the query terms**"
      ],
      "metadata": {
        "id": "YPRqAbtgCE31"
      },
      "id": "YPRqAbtgCE31"
    },
    {
      "cell_type": "code",
      "source": [
        "# defining pre-processing tools\n",
        "stop_words = set(stopwords.words('english'))\n",
        "lemmatizer = WordNetLemmatizer()\n",
        "\n",
        "preprocessed_queries = []\n",
        "\n",
        "for query in queries:\n",
        "    query_text = query['query_text']  # extracts query_text from the dictionary\n",
        "\n",
        "    # tokenizes and converts to lowercase\n",
        "    tokens = word_tokenize(query_text.lower())\n",
        "    # removes special characters, numbers, and punctuation marks\n",
        "    filtered_query = [word for word in tokens if word not in string.punctuation + string.digits]\n",
        "    # remove quotation marks\n",
        "    filtered_query = [word.replace(\"'\", \"\").replace('\"', '') for word in filtered_query]\n",
        "    # remove stop words\n",
        "    filtered_query = [word for word in filtered_query if word not in stop_words]\n",
        "    # performs lemmatization\n",
        "    lemmatized_query = [lemmatizer.lemmatize(word) for word in filtered_query]\n",
        "    # join tokens back to form a string\n",
        "    preprocessed_query = ' '.join(lemmatized_query)\n",
        "    preprocessed_queries.append(preprocessed_query)\n",
        "    qry_terms_all = preprocessed_queries\n"
      ],
      "metadata": {
        "id": "IvoPRJbfZ-I3"
      },
      "id": "IvoPRJbfZ-I3",
      "execution_count": null,
      "outputs": []
    },
    {
      "cell_type": "code",
      "source": [
        "# Printing the 3rd document from the queries to check against CISI.QRY\n",
        "qry_terms_all[2]"
      ],
      "metadata": {
        "colab": {
          "base_uri": "https://localhost:8080/",
          "height": 35
        },
        "id": "g2d2fIfDa3bT",
        "outputId": "d53b71c2-af40-488d-a8c5-95a8cce4fdff"
      },
      "id": "g2d2fIfDa3bT",
      "execution_count": null,
      "outputs": [
        {
          "output_type": "execute_result",
          "data": {
            "text/plain": [
              "'information science give definition possible'"
            ],
            "application/vnd.google.colaboratory.intrinsic+json": {
              "type": "string"
            }
          },
          "metadata": {},
          "execution_count": 336
        }
      ]
    },
    {
      "cell_type": "markdown",
      "metadata": {
        "id": "VB6B6gNpNP21"
      },
      "source": [
        "# **Indexing**"
      ],
      "id": "VB6B6gNpNP21"
    },
    {
      "cell_type": "code",
      "source": [
        "# loading in appropriate packages\n",
        "from sklearn.metrics.pairwise import cosine_similarity\n",
        "from sklearn.feature_extraction.text import CountVectorizer, TfidfTransformer, TfidfVectorizer"
      ],
      "metadata": {
        "id": "ld5EylFHi96J"
      },
      "id": "ld5EylFHi96J",
      "execution_count": null,
      "outputs": []
    },
    {
      "cell_type": "code",
      "source": [
        "# creating TFIDF matrix for our corpus\n",
        "vectorizer = TfidfVectorizer(stop_words='english')\n",
        "documents_vectorized = vectorizer.fit_transform(corpus)"
      ],
      "metadata": {
        "id": "IIV7dX9maUtE"
      },
      "id": "IIV7dX9maUtE",
      "execution_count": null,
      "outputs": []
    },
    {
      "cell_type": "code",
      "source": [
        "print('We have a {} document corpus with a {} term vocabulary'.format(*documents_vectorized.shape))"
      ],
      "metadata": {
        "colab": {
          "base_uri": "https://localhost:8080/"
        },
        "id": "g0ShH2QxiJ5q",
        "outputId": "aca0a10c-596a-40aa-8af6-4eb1aee678e7"
      },
      "id": "g0ShH2QxiJ5q",
      "execution_count": null,
      "outputs": [
        {
          "output_type": "stream",
          "name": "stdout",
          "text": [
            "We have a 1460 document corpus with a 10290 term vocabulary\n"
          ]
        }
      ]
    },
    {
      "cell_type": "markdown",
      "source": [
        "**NOTE - the TFIDF matrices for the documents and queries are created within the VSM/BM25 implementation. This way, changes made to the preprocessing of the corpus or queries only require re-running the implementation steps.**"
      ],
      "metadata": {
        "id": "eWBVNUK1C2Bx"
      },
      "id": "eWBVNUK1C2Bx"
    },
    {
      "cell_type": "markdown",
      "source": [
        "# **VSM Implementation**"
      ],
      "metadata": {
        "id": "DS2DdGJRp96H"
      },
      "id": "DS2DdGJRp96H"
    },
    {
      "cell_type": "markdown",
      "source": [
        "The VSM function below implements a Vector Space Model (VSM) for information retrieval using the TF-IDF weighting. The model generates a TF-IDF matrix from a document-term frequency matrix, and then computes the cosine similarity between each query and document using the TF-IDF matrix. The top matching documents are then ranked by their cosine similarity score. The function then returns a list of the top N results for each query."
      ],
      "metadata": {
        "id": "86MS1JfeOLUt"
      },
      "id": "86MS1JfeOLUt"
    },
    {
      "cell_type": "code",
      "source": [
        "# function to automatically generate TFIDF matrices and return a list of the top 10 results for each query\n",
        "def VSM(corpus, queries, num_results):\n",
        "    # creates document-term frequency matrix and generates TF-IDF matrix\n",
        "    vectorizer = CountVectorizer()\n",
        "    term_matrix = vectorizer.fit_transform(corpus)\n",
        "    tfidf_transformer = TfidfTransformer()\n",
        "    tfidf_matrix = tfidf_transformer.fit_transform(term_matrix)\n",
        "\n",
        "    # empty list to store results\n",
        "    results = []\n",
        "\n",
        "    # loops through queries, creates query vector and calculates cosine similarity for individual documents\n",
        "    for query_id, query in enumerate(queries):\n",
        "        query_matrix = vectorizer.transform([query])\n",
        "        query_tfidf = tfidf_transformer.transform(query_matrix)\n",
        "        cosine_similarities = cosine_similarity(query_tfidf, tfidf_matrix).flatten()\n",
        "        top_results = cosine_similarities.argsort()[::-1][:num_results]\n",
        "\n",
        "        results.append((query_id+1, [index+1 for index in top_results])) # appends query-document results to list\n",
        "\n",
        "    return results"
      ],
      "metadata": {
        "id": "us8DejNb6VZr"
      },
      "id": "us8DejNb6VZr",
      "execution_count": null,
      "outputs": []
    },
    {
      "cell_type": "code",
      "source": [
        "# Creating an instance of VSM using our data\n",
        "# using the time module to time the VSM model\n",
        "import time\n",
        "\n",
        "VSMstart_time = time.time() # starting timer\n",
        "\n",
        "results = VSM(corpus, qry_terms_all, 5) # executes all queries against the search engine\n",
        "\n",
        "VSMend_time = time.time() # ending timer\n",
        "VSMelapsed_time = VSMend_time - VSMstart_time # to be analysed later"
      ],
      "metadata": {
        "id": "lRvXWGI66Vfx"
      },
      "id": "lRvXWGI66Vfx",
      "execution_count": null,
      "outputs": []
    },
    {
      "cell_type": "code",
      "source": [
        "# Mapping retrieved documents to queries\n",
        "retrieved_documents = [(query_id, document_ids) for query_id, document_ids in results]\n",
        "retrieved_documents = [{'query_id': query_id, 'retrieved_document_ids': document_ids} for query_id, document_ids in results]\n",
        "retrieved_documents[0] # print out the first query and its top 10 results just to see the formatting"
      ],
      "metadata": {
        "colab": {
          "base_uri": "https://localhost:8080/"
        },
        "id": "i73GAoxBNU9k",
        "outputId": "79e529b2-9ca2-4704-8170-81b0fbed3603"
      },
      "id": "i73GAoxBNU9k",
      "execution_count": null,
      "outputs": [
        {
          "output_type": "execute_result",
          "data": {
            "text/plain": [
              "{'query_id': 1, 'retrieved_document_ids': [722, 429, 589, 1281, 1299]}"
            ]
          },
          "metadata": {},
          "execution_count": 342
        }
      ]
    },
    {
      "cell_type": "code",
      "source": [
        "relevant_documents[0] # from the cisi.rel file - put here to compare"
      ],
      "metadata": {
        "colab": {
          "base_uri": "https://localhost:8080/"
        },
        "id": "jrgC2AQ6CN2V",
        "outputId": "d1c6e79b-ca01-4e06-e359-bc569c631534"
      },
      "id": "jrgC2AQ6CN2V",
      "execution_count": null,
      "outputs": [
        {
          "output_type": "execute_result",
          "data": {
            "text/plain": [
              "{'query_id': 1,\n",
              " 'relevant_document_ids': [28,\n",
              "  35,\n",
              "  38,\n",
              "  42,\n",
              "  43,\n",
              "  52,\n",
              "  65,\n",
              "  76,\n",
              "  86,\n",
              "  150,\n",
              "  189,\n",
              "  192,\n",
              "  193,\n",
              "  195,\n",
              "  215,\n",
              "  269,\n",
              "  291,\n",
              "  320,\n",
              "  429,\n",
              "  465,\n",
              "  466,\n",
              "  482,\n",
              "  483,\n",
              "  510,\n",
              "  524,\n",
              "  541,\n",
              "  576,\n",
              "  582,\n",
              "  589,\n",
              "  603,\n",
              "  650,\n",
              "  680,\n",
              "  711,\n",
              "  722,\n",
              "  726,\n",
              "  783,\n",
              "  813,\n",
              "  820,\n",
              "  868,\n",
              "  869,\n",
              "  894,\n",
              "  1162,\n",
              "  1164,\n",
              "  1195,\n",
              "  1196,\n",
              "  1281]}"
            ]
          },
          "metadata": {},
          "execution_count": 343
        }
      ]
    },
    {
      "cell_type": "markdown",
      "metadata": {
        "id": "wo747rNrve72"
      },
      "source": [
        "# **BM25 Implementation**"
      ],
      "id": "wo747rNrve72"
    },
    {
      "cell_type": "markdown",
      "metadata": {
        "id": "yyYQKYzeAc-z"
      },
      "source": [
        "The following function calculates BM25 scores and outputs a pandas dataframe containing the scores with matching index and column names. It takes values for paramaters such as df and k1, k2, k3, b and term_weights that can be used to finetune the BM25 model. The BM25 scores can be calculated ahead of time/independantly from the queries. [The final instance of the BM25 model contains the parameters of the final fine-tuned model. Tuning was conducted via an iterative process of altering paramters in reponse to changes to the evalaution metrics. The final aim was to increase performance metrics with specific focus on MAP. ]"
      ],
      "id": "yyYQKYzeAc-z"
    },
    {
      "cell_type": "code",
      "source": [
        "import numpy as np\n",
        "\n",
        "def calculate_bm25_score( k1, k2, k3, b, term_weights):\n",
        "\n",
        "    vocabulary = vectorizer.get_feature_names_out()\n",
        "    df = pd.DataFrame(documents_vectorized.toarray(), columns=vocabulary)\n",
        "    doc_ids = df.index.values\n",
        "\n",
        "    # Calculate DF\n",
        "    dfs = (df > 0).sum(axis=0)\n",
        "\n",
        "    # Calculate IDFs\n",
        "    N = len(df)\n",
        "    idfs = np.log10(N/dfs)\n",
        "\n",
        "    # Calculate average document length\n",
        "    dls = df.sum(axis=1).tolist()\n",
        "    avgdl = np.mean(dls)\n",
        "\n",
        "    # Calculate BM25 score\n",
        "    numerator = np.array((k1 + 1) * df)\n",
        "    denominator = np.array(k1 * ((1 - b) + b * (dls / avgdl))).reshape(N, 1) + np.array(df)\n",
        "    BM25_tf = numerator / denominator\n",
        "    idfs = np.array(idfs)\n",
        "    BM25_score = (idfs * BM25_tf * term_weights) + ((k2 + 1) * term_weights * df) / ((k2 * (1 - b + b * (dls / avgdl))).reshape(N, 1) + df) + (k3 * term_weights)\n",
        "\n",
        "    # Convert BM25 score to a pandas DataFrame with matching index and column names\n",
        "    BM25_score = pd.DataFrame(BM25_score, columns=df.columns, index=df.index)\n",
        "\n",
        "    return BM25_score"
      ],
      "metadata": {
        "id": "L0nr7BwShHNU"
      },
      "id": "L0nr7BwShHNU",
      "execution_count": null,
      "outputs": []
    },
    {
      "cell_type": "code",
      "source": [
        "# Instance of BM25 for CISI documents\n",
        "# using the time module to time the BM25 model\n",
        "\n",
        "BM25start_time = time.time() # starting timer\n",
        "\n",
        "bm25_scores = calculate_bm25_score(k1=2.4, k2=6, k3=1, b=0.21, term_weights=0.8) # Final Tuned model\n",
        "\n",
        "BM25end_time = time.time() # ending timer\n",
        "BM25elapsed_time = BM25end_time - BM25start_time\n",
        "\n",
        "bm25_scores.head() #  not empty just sparse"
      ],
      "metadata": {
        "colab": {
          "base_uri": "https://localhost:8080/",
          "height": 236
        },
        "id": "r7G_bqhmhO_A",
        "outputId": "fa81d760-30b8-4092-a4f7-6a0802ef5b19"
      },
      "id": "r7G_bqhmhO_A",
      "execution_count": null,
      "outputs": [
        {
          "output_type": "execute_result",
          "data": {
            "text/plain": [
              "    aa  aacr  aacrthere   ab  abandon  abandonment  abbot  abbreviated  \\\n",
              "0  0.8   0.8        0.8  0.8      0.8          0.8    0.8          0.8   \n",
              "1  0.8   0.8        0.8  0.8      0.8          0.8    0.8          0.8   \n",
              "2  0.8   0.8        0.8  0.8      0.8          0.8    0.8          0.8   \n",
              "3  0.8   0.8        0.8  0.8      0.8          0.8    0.8          0.8   \n",
              "4  0.8   0.8        0.8  0.8      0.8          0.8    0.8          0.8   \n",
              "\n",
              "   abbreviating  abbreviation  ...  zipfian  zipfs  zipperer  zone  zoology  \\\n",
              "0           0.8           0.8  ...      0.8    0.8       0.8   0.8      0.8   \n",
              "1           0.8           0.8  ...      0.8    0.8       0.8   0.8      0.8   \n",
              "2           0.8           0.8  ...      0.8    0.8       0.8   0.8      0.8   \n",
              "3           0.8           0.8  ...      0.8    0.8       0.8   0.8      0.8   \n",
              "4           0.8           0.8  ...      0.8    0.8       0.8   0.8      0.8   \n",
              "\n",
              "   zuckerman  zuckermans  zunde  zvezhinskii  zyabrev  \n",
              "0        0.8         0.8    0.8          0.8      0.8  \n",
              "1        0.8         0.8    0.8          0.8      0.8  \n",
              "2        0.8         0.8    0.8          0.8      0.8  \n",
              "3        0.8         0.8    0.8          0.8      0.8  \n",
              "4        0.8         0.8    0.8          0.8      0.8  \n",
              "\n",
              "[5 rows x 10290 columns]"
            ],
            "text/html": [
              "\n",
              "  <div id=\"df-03282112-acf3-4ba7-a921-d130d92e5c4c\">\n",
              "    <div class=\"colab-df-container\">\n",
              "      <div>\n",
              "<style scoped>\n",
              "    .dataframe tbody tr th:only-of-type {\n",
              "        vertical-align: middle;\n",
              "    }\n",
              "\n",
              "    .dataframe tbody tr th {\n",
              "        vertical-align: top;\n",
              "    }\n",
              "\n",
              "    .dataframe thead th {\n",
              "        text-align: right;\n",
              "    }\n",
              "</style>\n",
              "<table border=\"1\" class=\"dataframe\">\n",
              "  <thead>\n",
              "    <tr style=\"text-align: right;\">\n",
              "      <th></th>\n",
              "      <th>aa</th>\n",
              "      <th>aacr</th>\n",
              "      <th>aacrthere</th>\n",
              "      <th>ab</th>\n",
              "      <th>abandon</th>\n",
              "      <th>abandonment</th>\n",
              "      <th>abbot</th>\n",
              "      <th>abbreviated</th>\n",
              "      <th>abbreviating</th>\n",
              "      <th>abbreviation</th>\n",
              "      <th>...</th>\n",
              "      <th>zipfian</th>\n",
              "      <th>zipfs</th>\n",
              "      <th>zipperer</th>\n",
              "      <th>zone</th>\n",
              "      <th>zoology</th>\n",
              "      <th>zuckerman</th>\n",
              "      <th>zuckermans</th>\n",
              "      <th>zunde</th>\n",
              "      <th>zvezhinskii</th>\n",
              "      <th>zyabrev</th>\n",
              "    </tr>\n",
              "  </thead>\n",
              "  <tbody>\n",
              "    <tr>\n",
              "      <th>0</th>\n",
              "      <td>0.8</td>\n",
              "      <td>0.8</td>\n",
              "      <td>0.8</td>\n",
              "      <td>0.8</td>\n",
              "      <td>0.8</td>\n",
              "      <td>0.8</td>\n",
              "      <td>0.8</td>\n",
              "      <td>0.8</td>\n",
              "      <td>0.8</td>\n",
              "      <td>0.8</td>\n",
              "      <td>...</td>\n",
              "      <td>0.8</td>\n",
              "      <td>0.8</td>\n",
              "      <td>0.8</td>\n",
              "      <td>0.8</td>\n",
              "      <td>0.8</td>\n",
              "      <td>0.8</td>\n",
              "      <td>0.8</td>\n",
              "      <td>0.8</td>\n",
              "      <td>0.8</td>\n",
              "      <td>0.8</td>\n",
              "    </tr>\n",
              "    <tr>\n",
              "      <th>1</th>\n",
              "      <td>0.8</td>\n",
              "      <td>0.8</td>\n",
              "      <td>0.8</td>\n",
              "      <td>0.8</td>\n",
              "      <td>0.8</td>\n",
              "      <td>0.8</td>\n",
              "      <td>0.8</td>\n",
              "      <td>0.8</td>\n",
              "      <td>0.8</td>\n",
              "      <td>0.8</td>\n",
              "      <td>...</td>\n",
              "      <td>0.8</td>\n",
              "      <td>0.8</td>\n",
              "      <td>0.8</td>\n",
              "      <td>0.8</td>\n",
              "      <td>0.8</td>\n",
              "      <td>0.8</td>\n",
              "      <td>0.8</td>\n",
              "      <td>0.8</td>\n",
              "      <td>0.8</td>\n",
              "      <td>0.8</td>\n",
              "    </tr>\n",
              "    <tr>\n",
              "      <th>2</th>\n",
              "      <td>0.8</td>\n",
              "      <td>0.8</td>\n",
              "      <td>0.8</td>\n",
              "      <td>0.8</td>\n",
              "      <td>0.8</td>\n",
              "      <td>0.8</td>\n",
              "      <td>0.8</td>\n",
              "      <td>0.8</td>\n",
              "      <td>0.8</td>\n",
              "      <td>0.8</td>\n",
              "      <td>...</td>\n",
              "      <td>0.8</td>\n",
              "      <td>0.8</td>\n",
              "      <td>0.8</td>\n",
              "      <td>0.8</td>\n",
              "      <td>0.8</td>\n",
              "      <td>0.8</td>\n",
              "      <td>0.8</td>\n",
              "      <td>0.8</td>\n",
              "      <td>0.8</td>\n",
              "      <td>0.8</td>\n",
              "    </tr>\n",
              "    <tr>\n",
              "      <th>3</th>\n",
              "      <td>0.8</td>\n",
              "      <td>0.8</td>\n",
              "      <td>0.8</td>\n",
              "      <td>0.8</td>\n",
              "      <td>0.8</td>\n",
              "      <td>0.8</td>\n",
              "      <td>0.8</td>\n",
              "      <td>0.8</td>\n",
              "      <td>0.8</td>\n",
              "      <td>0.8</td>\n",
              "      <td>...</td>\n",
              "      <td>0.8</td>\n",
              "      <td>0.8</td>\n",
              "      <td>0.8</td>\n",
              "      <td>0.8</td>\n",
              "      <td>0.8</td>\n",
              "      <td>0.8</td>\n",
              "      <td>0.8</td>\n",
              "      <td>0.8</td>\n",
              "      <td>0.8</td>\n",
              "      <td>0.8</td>\n",
              "    </tr>\n",
              "    <tr>\n",
              "      <th>4</th>\n",
              "      <td>0.8</td>\n",
              "      <td>0.8</td>\n",
              "      <td>0.8</td>\n",
              "      <td>0.8</td>\n",
              "      <td>0.8</td>\n",
              "      <td>0.8</td>\n",
              "      <td>0.8</td>\n",
              "      <td>0.8</td>\n",
              "      <td>0.8</td>\n",
              "      <td>0.8</td>\n",
              "      <td>...</td>\n",
              "      <td>0.8</td>\n",
              "      <td>0.8</td>\n",
              "      <td>0.8</td>\n",
              "      <td>0.8</td>\n",
              "      <td>0.8</td>\n",
              "      <td>0.8</td>\n",
              "      <td>0.8</td>\n",
              "      <td>0.8</td>\n",
              "      <td>0.8</td>\n",
              "      <td>0.8</td>\n",
              "    </tr>\n",
              "  </tbody>\n",
              "</table>\n",
              "<p>5 rows × 10290 columns</p>\n",
              "</div>\n",
              "      <button class=\"colab-df-convert\" onclick=\"convertToInteractive('df-03282112-acf3-4ba7-a921-d130d92e5c4c')\"\n",
              "              title=\"Convert this dataframe to an interactive table.\"\n",
              "              style=\"display:none;\">\n",
              "        \n",
              "  <svg xmlns=\"http://www.w3.org/2000/svg\" height=\"24px\"viewBox=\"0 0 24 24\"\n",
              "       width=\"24px\">\n",
              "    <path d=\"M0 0h24v24H0V0z\" fill=\"none\"/>\n",
              "    <path d=\"M18.56 5.44l.94 2.06.94-2.06 2.06-.94-2.06-.94-.94-2.06-.94 2.06-2.06.94zm-11 1L8.5 8.5l.94-2.06 2.06-.94-2.06-.94L8.5 2.5l-.94 2.06-2.06.94zm10 10l.94 2.06.94-2.06 2.06-.94-2.06-.94-.94-2.06-.94 2.06-2.06.94z\"/><path d=\"M17.41 7.96l-1.37-1.37c-.4-.4-.92-.59-1.43-.59-.52 0-1.04.2-1.43.59L10.3 9.45l-7.72 7.72c-.78.78-.78 2.05 0 2.83L4 21.41c.39.39.9.59 1.41.59.51 0 1.02-.2 1.41-.59l7.78-7.78 2.81-2.81c.8-.78.8-2.07 0-2.86zM5.41 20L4 18.59l7.72-7.72 1.47 1.35L5.41 20z\"/>\n",
              "  </svg>\n",
              "      </button>\n",
              "      \n",
              "  <style>\n",
              "    .colab-df-container {\n",
              "      display:flex;\n",
              "      flex-wrap:wrap;\n",
              "      gap: 12px;\n",
              "    }\n",
              "\n",
              "    .colab-df-convert {\n",
              "      background-color: #E8F0FE;\n",
              "      border: none;\n",
              "      border-radius: 50%;\n",
              "      cursor: pointer;\n",
              "      display: none;\n",
              "      fill: #1967D2;\n",
              "      height: 32px;\n",
              "      padding: 0 0 0 0;\n",
              "      width: 32px;\n",
              "    }\n",
              "\n",
              "    .colab-df-convert:hover {\n",
              "      background-color: #E2EBFA;\n",
              "      box-shadow: 0px 1px 2px rgba(60, 64, 67, 0.3), 0px 1px 3px 1px rgba(60, 64, 67, 0.15);\n",
              "      fill: #174EA6;\n",
              "    }\n",
              "\n",
              "    [theme=dark] .colab-df-convert {\n",
              "      background-color: #3B4455;\n",
              "      fill: #D2E3FC;\n",
              "    }\n",
              "\n",
              "    [theme=dark] .colab-df-convert:hover {\n",
              "      background-color: #434B5C;\n",
              "      box-shadow: 0px 1px 3px 1px rgba(0, 0, 0, 0.15);\n",
              "      filter: drop-shadow(0px 1px 2px rgba(0, 0, 0, 0.3));\n",
              "      fill: #FFFFFF;\n",
              "    }\n",
              "  </style>\n",
              "\n",
              "      <script>\n",
              "        const buttonEl =\n",
              "          document.querySelector('#df-03282112-acf3-4ba7-a921-d130d92e5c4c button.colab-df-convert');\n",
              "        buttonEl.style.display =\n",
              "          google.colab.kernel.accessAllowed ? 'block' : 'none';\n",
              "\n",
              "        async function convertToInteractive(key) {\n",
              "          const element = document.querySelector('#df-03282112-acf3-4ba7-a921-d130d92e5c4c');\n",
              "          const dataTable =\n",
              "            await google.colab.kernel.invokeFunction('convertToInteractive',\n",
              "                                                     [key], {});\n",
              "          if (!dataTable) return;\n",
              "\n",
              "          const docLinkHtml = 'Like what you see? Visit the ' +\n",
              "            '<a target=\"_blank\" href=https://colab.research.google.com/notebooks/data_table.ipynb>data table notebook</a>'\n",
              "            + ' to learn more about interactive tables.';\n",
              "          element.innerHTML = '';\n",
              "          dataTable['output_type'] = 'display_data';\n",
              "          await google.colab.output.renderOutput(dataTable, element);\n",
              "          const docLink = document.createElement('div');\n",
              "          docLink.innerHTML = docLinkHtml;\n",
              "          element.appendChild(docLink);\n",
              "        }\n",
              "      </script>\n",
              "    </div>\n",
              "  </div>\n",
              "  "
            ]
          },
          "metadata": {},
          "execution_count": 345
        }
      ]
    },
    {
      "cell_type": "code",
      "source": [
        "def retrieve_ranking(query, bm25_scores):\n",
        "    q_terms = query.split(' ')\n",
        "    common_terms = list(set(q_terms) & set(bm25_scores.columns))\n",
        "    q_terms_only = bm25_scores[common_terms]\n",
        "    score_q_d = q_terms_only.sum(axis=1)\n",
        "    return sorted(zip(bm25_scores.index.values, score_q_d.values),\n",
        "                  key=lambda tup: tup[1],\n",
        "                  reverse=True)\n",
        "\n",
        "def run_bm25_per_query(qry_terms_all, bm25_scores):\n",
        "    results_df = pd.DataFrame(columns=[\"QueryID\", \"DocumentID\", \"BM25Score\"])\n",
        "\n",
        "    for i, query in enumerate(qry_terms_all, start=1):\n",
        "        ranking = retrieve_ranking(query, bm25_scores)\n",
        "        query_results_df = pd.DataFrame(ranking, columns=[\"DocumentID\", \"BM25Score\"])\n",
        "        query_results_df[\"QueryID\"] = i\n",
        "        query_results_df.sort_values(\"BM25Score\", ascending=False, inplace=True) # Sort BM25 scores in descending order\n",
        "        results_df = pd.concat([results_df, query_results_df], ignore_index=True)\n",
        "\n",
        "    return results_df\n",
        "\n",
        "# Setting another timer to measure document ranking execution time\n",
        "BMresultstart_time = time.time()\n",
        "\n",
        "results_df = run_bm25_per_query(qry_terms_all, bm25_scores)\n",
        "results_df"
      ],
      "metadata": {
        "colab": {
          "base_uri": "https://localhost:8080/",
          "height": 424
        },
        "id": "2GG4bJeOhR9H",
        "outputId": "5c95a79f-7840-44a8-9866-74ed0988cc0a"
      },
      "id": "2GG4bJeOhR9H",
      "execution_count": null,
      "outputs": [
        {
          "output_type": "execute_result",
          "data": {
            "text/plain": [
              "       QueryID DocumentID  BM25Score\n",
              "0            1        448  12.793863\n",
              "1            1        651  12.686589\n",
              "2            1        446  12.617242\n",
              "3            1        428  12.599656\n",
              "4            1       1280  12.568301\n",
              "...        ...        ...        ...\n",
              "163515     112        468  17.600000\n",
              "163516     112        467  17.600000\n",
              "163517     112        463  17.600000\n",
              "163518     112        462  17.600000\n",
              "163519     112       1458  17.600000\n",
              "\n",
              "[163520 rows x 3 columns]"
            ],
            "text/html": [
              "\n",
              "  <div id=\"df-71bc6db2-0260-42ad-a8b9-acb98089f941\">\n",
              "    <div class=\"colab-df-container\">\n",
              "      <div>\n",
              "<style scoped>\n",
              "    .dataframe tbody tr th:only-of-type {\n",
              "        vertical-align: middle;\n",
              "    }\n",
              "\n",
              "    .dataframe tbody tr th {\n",
              "        vertical-align: top;\n",
              "    }\n",
              "\n",
              "    .dataframe thead th {\n",
              "        text-align: right;\n",
              "    }\n",
              "</style>\n",
              "<table border=\"1\" class=\"dataframe\">\n",
              "  <thead>\n",
              "    <tr style=\"text-align: right;\">\n",
              "      <th></th>\n",
              "      <th>QueryID</th>\n",
              "      <th>DocumentID</th>\n",
              "      <th>BM25Score</th>\n",
              "    </tr>\n",
              "  </thead>\n",
              "  <tbody>\n",
              "    <tr>\n",
              "      <th>0</th>\n",
              "      <td>1</td>\n",
              "      <td>448</td>\n",
              "      <td>12.793863</td>\n",
              "    </tr>\n",
              "    <tr>\n",
              "      <th>1</th>\n",
              "      <td>1</td>\n",
              "      <td>651</td>\n",
              "      <td>12.686589</td>\n",
              "    </tr>\n",
              "    <tr>\n",
              "      <th>2</th>\n",
              "      <td>1</td>\n",
              "      <td>446</td>\n",
              "      <td>12.617242</td>\n",
              "    </tr>\n",
              "    <tr>\n",
              "      <th>3</th>\n",
              "      <td>1</td>\n",
              "      <td>428</td>\n",
              "      <td>12.599656</td>\n",
              "    </tr>\n",
              "    <tr>\n",
              "      <th>4</th>\n",
              "      <td>1</td>\n",
              "      <td>1280</td>\n",
              "      <td>12.568301</td>\n",
              "    </tr>\n",
              "    <tr>\n",
              "      <th>...</th>\n",
              "      <td>...</td>\n",
              "      <td>...</td>\n",
              "      <td>...</td>\n",
              "    </tr>\n",
              "    <tr>\n",
              "      <th>163515</th>\n",
              "      <td>112</td>\n",
              "      <td>468</td>\n",
              "      <td>17.600000</td>\n",
              "    </tr>\n",
              "    <tr>\n",
              "      <th>163516</th>\n",
              "      <td>112</td>\n",
              "      <td>467</td>\n",
              "      <td>17.600000</td>\n",
              "    </tr>\n",
              "    <tr>\n",
              "      <th>163517</th>\n",
              "      <td>112</td>\n",
              "      <td>463</td>\n",
              "      <td>17.600000</td>\n",
              "    </tr>\n",
              "    <tr>\n",
              "      <th>163518</th>\n",
              "      <td>112</td>\n",
              "      <td>462</td>\n",
              "      <td>17.600000</td>\n",
              "    </tr>\n",
              "    <tr>\n",
              "      <th>163519</th>\n",
              "      <td>112</td>\n",
              "      <td>1458</td>\n",
              "      <td>17.600000</td>\n",
              "    </tr>\n",
              "  </tbody>\n",
              "</table>\n",
              "<p>163520 rows × 3 columns</p>\n",
              "</div>\n",
              "      <button class=\"colab-df-convert\" onclick=\"convertToInteractive('df-71bc6db2-0260-42ad-a8b9-acb98089f941')\"\n",
              "              title=\"Convert this dataframe to an interactive table.\"\n",
              "              style=\"display:none;\">\n",
              "        \n",
              "  <svg xmlns=\"http://www.w3.org/2000/svg\" height=\"24px\"viewBox=\"0 0 24 24\"\n",
              "       width=\"24px\">\n",
              "    <path d=\"M0 0h24v24H0V0z\" fill=\"none\"/>\n",
              "    <path d=\"M18.56 5.44l.94 2.06.94-2.06 2.06-.94-2.06-.94-.94-2.06-.94 2.06-2.06.94zm-11 1L8.5 8.5l.94-2.06 2.06-.94-2.06-.94L8.5 2.5l-.94 2.06-2.06.94zm10 10l.94 2.06.94-2.06 2.06-.94-2.06-.94-.94-2.06-.94 2.06-2.06.94z\"/><path d=\"M17.41 7.96l-1.37-1.37c-.4-.4-.92-.59-1.43-.59-.52 0-1.04.2-1.43.59L10.3 9.45l-7.72 7.72c-.78.78-.78 2.05 0 2.83L4 21.41c.39.39.9.59 1.41.59.51 0 1.02-.2 1.41-.59l7.78-7.78 2.81-2.81c.8-.78.8-2.07 0-2.86zM5.41 20L4 18.59l7.72-7.72 1.47 1.35L5.41 20z\"/>\n",
              "  </svg>\n",
              "      </button>\n",
              "      \n",
              "  <style>\n",
              "    .colab-df-container {\n",
              "      display:flex;\n",
              "      flex-wrap:wrap;\n",
              "      gap: 12px;\n",
              "    }\n",
              "\n",
              "    .colab-df-convert {\n",
              "      background-color: #E8F0FE;\n",
              "      border: none;\n",
              "      border-radius: 50%;\n",
              "      cursor: pointer;\n",
              "      display: none;\n",
              "      fill: #1967D2;\n",
              "      height: 32px;\n",
              "      padding: 0 0 0 0;\n",
              "      width: 32px;\n",
              "    }\n",
              "\n",
              "    .colab-df-convert:hover {\n",
              "      background-color: #E2EBFA;\n",
              "      box-shadow: 0px 1px 2px rgba(60, 64, 67, 0.3), 0px 1px 3px 1px rgba(60, 64, 67, 0.15);\n",
              "      fill: #174EA6;\n",
              "    }\n",
              "\n",
              "    [theme=dark] .colab-df-convert {\n",
              "      background-color: #3B4455;\n",
              "      fill: #D2E3FC;\n",
              "    }\n",
              "\n",
              "    [theme=dark] .colab-df-convert:hover {\n",
              "      background-color: #434B5C;\n",
              "      box-shadow: 0px 1px 3px 1px rgba(0, 0, 0, 0.15);\n",
              "      filter: drop-shadow(0px 1px 2px rgba(0, 0, 0, 0.3));\n",
              "      fill: #FFFFFF;\n",
              "    }\n",
              "  </style>\n",
              "\n",
              "      <script>\n",
              "        const buttonEl =\n",
              "          document.querySelector('#df-71bc6db2-0260-42ad-a8b9-acb98089f941 button.colab-df-convert');\n",
              "        buttonEl.style.display =\n",
              "          google.colab.kernel.accessAllowed ? 'block' : 'none';\n",
              "\n",
              "        async function convertToInteractive(key) {\n",
              "          const element = document.querySelector('#df-71bc6db2-0260-42ad-a8b9-acb98089f941');\n",
              "          const dataTable =\n",
              "            await google.colab.kernel.invokeFunction('convertToInteractive',\n",
              "                                                     [key], {});\n",
              "          if (!dataTable) return;\n",
              "\n",
              "          const docLinkHtml = 'Like what you see? Visit the ' +\n",
              "            '<a target=\"_blank\" href=https://colab.research.google.com/notebooks/data_table.ipynb>data table notebook</a>'\n",
              "            + ' to learn more about interactive tables.';\n",
              "          element.innerHTML = '';\n",
              "          dataTable['output_type'] = 'display_data';\n",
              "          await google.colab.output.renderOutput(dataTable, element);\n",
              "          const docLink = document.createElement('div');\n",
              "          docLink.innerHTML = docLinkHtml;\n",
              "          element.appendChild(docLink);\n",
              "        }\n",
              "      </script>\n",
              "    </div>\n",
              "  </div>\n",
              "  "
            ]
          },
          "metadata": {},
          "execution_count": 346
        }
      ]
    },
    {
      "cell_type": "code",
      "source": [
        "results_df[\"DocumentID\"] = results_df[\"DocumentID\"] + 1 # adds +1 to the index of the document_IDs so they match"
      ],
      "metadata": {
        "id": "eUeV72pQoxY1"
      },
      "id": "eUeV72pQoxY1",
      "execution_count": null,
      "outputs": []
    },
    {
      "cell_type": "code",
      "source": [
        "# BM25 relevant documents list\n",
        "\n",
        "grouped_results = results_df.groupby(\"QueryID\")\n",
        "top_5_documents = grouped_results.head(5)\n",
        "\n",
        "\n",
        "BM25_relevant = top_5_documents.loc[:, [\"QueryID\", \"DocumentID\"]]\n",
        "BM25_relevant_docs = []\n",
        "\n",
        "for query_id, query_group in BM25_relevant.groupby(\"QueryID\"):\n",
        "    query_dict = {}\n",
        "    query_dict[\"query_id\"] = query_id\n",
        "    query_dict[\"retrieved_document_ids\"] = query_group[\"DocumentID\"].tolist()[:5]\n",
        "    BM25_relevant_docs.append(query_dict)\n",
        "\n",
        "BMresultend_time = time.time() # stop timer\n",
        "BM25resultselapsed_time = BMresultend_time - BMresultstart_time\n",
        "\n",
        "BM25_relevant_docs[4]"
      ],
      "metadata": {
        "colab": {
          "base_uri": "https://localhost:8080/"
        },
        "id": "xSNckSODhZpe",
        "outputId": "9fcb109a-0445-4892-9293-3cca758999b8"
      },
      "id": "xSNckSODhZpe",
      "execution_count": null,
      "outputs": [
        {
          "output_type": "execute_result",
          "data": {
            "text/plain": [
              "{'query_id': 5, 'retrieved_document_ids': [1166, 1105, 656, 122, 648]}"
            ]
          },
          "metadata": {},
          "execution_count": 348
        }
      ]
    },
    {
      "cell_type": "code",
      "source": [
        "relevant_documents[4] # To compare to the relevancy file"
      ],
      "metadata": {
        "colab": {
          "base_uri": "https://localhost:8080/"
        },
        "id": "E4c_Z_7shcfv",
        "outputId": "8594539d-ae02-4291-dbb6-1f304b60f3ec"
      },
      "id": "E4c_Z_7shcfv",
      "execution_count": null,
      "outputs": [
        {
          "output_type": "execute_result",
          "data": {
            "text/plain": [
              "{'query_id': 5,\n",
              " 'relevant_document_ids': [32,\n",
              "  56,\n",
              "  65,\n",
              "  114,\n",
              "  124,\n",
              "  137,\n",
              "  187,\n",
              "  188,\n",
              "  191,\n",
              "  241,\n",
              "  339,\n",
              "  370,\n",
              "  400,\n",
              "  451,\n",
              "  453,\n",
              "  471,\n",
              "  525,\n",
              "  528,\n",
              "  642,\n",
              "  648,\n",
              "  692,\n",
              "  1035,\n",
              "  1246,\n",
              "  1356]}"
            ]
          },
          "metadata": {},
          "execution_count": 349
        }
      ]
    },
    {
      "cell_type": "markdown",
      "source": [
        "# **Evaluation**"
      ],
      "metadata": {
        "id": "Q66rNiFeBsbE"
      },
      "id": "Q66rNiFeBsbE"
    },
    {
      "cell_type": "markdown",
      "source": [
        "**VSM Evaluation**"
      ],
      "metadata": {
        "id": "wM56yxO6YELU"
      },
      "id": "wM56yxO6YELU"
    },
    {
      "cell_type": "markdown",
      "source": [
        "One limitation of our evaluation is that the relevance assessments for our queries are not ranked in any way, nor do all queries actually have relevance assessments.\n",
        "\n",
        "\n",
        "This has made our evaluation particularly tricky. We have calculated the precision, recall and F1 scores for individual queries for both models, as well as the mean average precision. Additionally, our models use ranking systems to rank all documents based on how relevant they are to the query and then displays the top-n results. As such, it makes more sense that our model focuses on the precision (proportion of retrieved documents that are considered relevant) rather than the recall or F1 score."
      ],
      "metadata": {
        "id": "lk5undfmahI4"
      },
      "id": "lk5undfmahI4"
    },
    {
      "cell_type": "code",
      "source": [
        "# selects retrieval information for queries that have relevance assessments\n",
        "relevant_query_ids = [rd['query_id'] for rd in relevant_documents]\n",
        "rel_retrieved_documents = [rd for rd in retrieved_documents if rd['query_id'] in relevant_query_ids]"
      ],
      "metadata": {
        "id": "F-AaX6C2LD-g"
      },
      "id": "F-AaX6C2LD-g",
      "execution_count": null,
      "outputs": []
    },
    {
      "cell_type": "code",
      "source": [
        "print('The number of queries that have relevance assessments is', len(rel_retrieved_documents))"
      ],
      "metadata": {
        "colab": {
          "base_uri": "https://localhost:8080/"
        },
        "id": "U5CB6oHaTIOl",
        "outputId": "ae64ba73-9260-4bab-d66b-31be1241a7df"
      },
      "id": "U5CB6oHaTIOl",
      "execution_count": null,
      "outputs": [
        {
          "output_type": "stream",
          "name": "stdout",
          "text": [
            "The number of queries that have relevance assessments is 76\n"
          ]
        }
      ]
    },
    {
      "cell_type": "markdown",
      "source": [
        "**Visualising precision, recall and F1-scores**"
      ],
      "metadata": {
        "id": "1x1CtIS3DggN"
      },
      "id": "1x1CtIS3DggN"
    },
    {
      "cell_type": "code",
      "source": [
        "# creating function to plot the precisions of all queries\n",
        "# create lists to store query numbers and precisions\n",
        "vsm_query_num_precision = []\n",
        "vsm_precisions = []\n",
        "\n",
        "# loop to calculate precision for all of the queries\n",
        "for i, retrieved_doc in enumerate(rel_retrieved_documents):\n",
        "    # obtains corresponding relevant documents for the query\n",
        "    relevant_doc = next(rd for rd in relevant_documents if rd['query_id'] == retrieved_doc['query_id'])\n",
        "\n",
        "    # Calculate precision\n",
        "    retrieved_set = set(retrieved_doc['retrieved_document_ids'])\n",
        "    relevant_set = set(relevant_doc['relevant_document_ids'])\n",
        "    true_positives = len(retrieved_set.intersection(relevant_set))\n",
        "    precision = true_positives / len(retrieved_set)\n",
        "\n",
        "    # Append query number and precision to lists\n",
        "    vsm_query_num_precision.append(i+1) # appends the query number to the list\n",
        "    vsm_precisions.append(precision) # appends the query precision to the list\n",
        "\n",
        "# creating function to plot the recalls of all queries\n",
        "# create lists to store query numbers and recalls\n",
        "vsm_query_num_recall = []\n",
        "vsm_recalls = []\n",
        "\n",
        "# loop to calculate recall for all of the queries\n",
        "for i, retrieved_doc in enumerate(rel_retrieved_documents):\n",
        "    # obtains corresponding relevant documents for the query\n",
        "    relevant_doc = next(rd for rd in relevant_documents if rd['query_id'] == retrieved_doc['query_id'])\n",
        "\n",
        "    # calculates recall\n",
        "    retrieved_set = set(retrieved_doc['retrieved_document_ids'])\n",
        "    relevant_set = set(relevant_doc['relevant_document_ids'])\n",
        "    true_positives = len(retrieved_set.intersection(relevant_set))\n",
        "    recall = true_positives / len(relevant_set)\n",
        "\n",
        "    vsm_query_num_recall.append(i+1) # appends the query number to the list\n",
        "    vsm_recalls.append(recall)  # appends query precision to the list\n",
        "\n",
        "# creating function to plot the F1-scores of all queries\n",
        "# create lists to store query numberss and F1-scores\n",
        "vsm_query_num_f1 = []\n",
        "vsm_f1_scores = []\n",
        "\n",
        "# loop to calculate f1 for all of the queries\n",
        "for i, retrieved_doc in enumerate(rel_retrieved_documents[:]):\n",
        "    # obtains corresponding relevant documents for the query\n",
        "    relevant_doc = next(rd for rd in relevant_documents if rd['query_id'] == retrieved_doc['query_id'])\n",
        "\n",
        "    # calculates precision, recall, and F1-score\n",
        "    retrieved_set = set(retrieved_doc['retrieved_document_ids'])\n",
        "    relevant_set = set(relevant_doc['relevant_document_ids'])\n",
        "    true_positives = len(retrieved_set.intersection(relevant_set))\n",
        "    precision = true_positives / len(retrieved_set) if len(retrieved_set) > 0 else 0  # adds error handling for division by zero\n",
        "    recall = true_positives / len(relevant_set) if len(relevant_set) > 0 else 0  # adds error handling for division by zero\n",
        "    f1_score = 2 * (precision * recall) / (precision + recall) if (precision + recall) > 0 else 0  # add error handling for division by zero\n",
        "\n",
        "    vsm_query_num_f1.append(i+1) # appends the query number to the list\n",
        "    vsm_f1_scores.append(f1_score) # appends the f1-score to the list\n"
      ],
      "metadata": {
        "id": "6cK-qs0oSgWt"
      },
      "id": "6cK-qs0oSgWt",
      "execution_count": null,
      "outputs": []
    },
    {
      "cell_type": "markdown",
      "source": [
        "**Visualisation of VSM performance**"
      ],
      "metadata": {
        "id": "fWbvSQK5fwbn"
      },
      "id": "fWbvSQK5fwbn"
    },
    {
      "cell_type": "code",
      "source": [
        "import matplotlib.pyplot as plt\n",
        "\n",
        "plt.bar(vsm_query_num_precision, vsm_precisions)\n",
        "plt.xlabel(\"Query Number\")\n",
        "plt.ylabel(\"Precision\")\n",
        "plt.title(\"VSM - Precision For All Queries\")\n",
        "plt.show()\n",
        "\n",
        "plt.bar(vsm_query_num_recall, vsm_recalls)\n",
        "plt.xlabel(\"Query Number\")\n",
        "plt.ylabel(\"Recall\")\n",
        "plt.title(\"VSM - Recall For All Queries\")\n",
        "plt.show()\n",
        "\n",
        "plt.bar(vsm_query_num_f1, vsm_f1_scores)\n",
        "plt.xlabel(\"Query Number\")\n",
        "plt.ylabel(\"F1 Score\")\n",
        "plt.title(\"VSM - F1-Score for All Queries\")\n",
        "plt.show()\n"
      ],
      "metadata": {
        "colab": {
          "base_uri": "https://localhost:8080/",
          "height": 1000
        },
        "id": "42LrWDEgfe_P",
        "outputId": "e6e24ae3-4dc4-49f3-9e7f-828d14aec42f"
      },
      "id": "42LrWDEgfe_P",
      "execution_count": null,
      "outputs": [
        {
          "output_type": "display_data",
          "data": {
            "text/plain": [
              "<Figure size 640x480 with 1 Axes>"
            ],
            "image/png": "[encoded data removed]"
          },
          "metadata": {}
        },
        {
          "output_type": "display_data",
          "data": {
            "text/plain": [
              "<Figure size 640x480 with 1 Axes>"
            ],
            "image/png": "[encoded data removed]"
          },
          "metadata": {}
        },
        {
          "output_type": "display_data",
          "data": {
            "text/plain": [
              "<Figure size 640x480 with 1 Axes>"
            ],
            "image/png": "[encoded data removed]"
          },
          "metadata": {}
        }
      ]
    },
    {
      "cell_type": "code",
      "source": [
        "# Printing the Average scores for the VSM model\n",
        "\n",
        "print('The Mean Average Precision for the VSM model is: ',(sum(vsm_precisions)/len(vsm_precisions))*100,'%')\n",
        "print('The Mean Average Recall for the VSM model is: ',(sum(vsm_recalls)/len(vsm_recalls))*100,'%')\n",
        "print('The Mean Average F1-Score for the VSM model is: ',(sum(vsm_f1_scores)/len(vsm_f1_scores))*100,'%')"
      ],
      "metadata": {
        "colab": {
          "base_uri": "https://localhost:8080/"
        },
        "id": "ZDDUVbzM61ww",
        "outputId": "58cc4e4b-6a43-4416-f970-7a44bbaf49fd"
      },
      "id": "ZDDUVbzM61ww",
      "execution_count": null,
      "outputs": [
        {
          "output_type": "stream",
          "name": "stdout",
          "text": [
            "The Mean Average Precision for the VSM model is:  37.105263157894726 %\n",
            "The Mean Average Recall for the VSM model is:  8.78203547372032 %\n",
            "The Mean Average F1-Score for the VSM model is:  11.774070001142452 %\n"
          ]
        }
      ]
    },
    {
      "cell_type": "code",
      "source": [
        "for i, retrieved_doc in enumerate(rel_retrieved_documents):\n",
        "    # retrieves relevant documents for the query\n",
        "    relevant_doc = next(rd for rd in relevant_documents if rd['query_id'] == retrieved_doc['query_id'])\n",
        "    retrieved_set = set(retrieved_doc['retrieved_document_ids'])\n",
        "    relevant_set = set(relevant_doc['relevant_document_ids'])\n",
        "    true_positives = len(retrieved_set.intersection(relevant_set))\n",
        "    precision = true_positives / len(retrieved_set) # calculates precision\n",
        "\n",
        "    # prints out individual precision values for each query based on the VS model\n",
        "    #print(f\"Query: {relevant_doc['query_id']} Precision: {precision}\")\n"
      ],
      "metadata": {
        "id": "rLr7LvUcGBtI"
      },
      "id": "rLr7LvUcGBtI",
      "execution_count": null,
      "outputs": []
    },
    {
      "cell_type": "markdown",
      "source": [
        "**BM25 Evaluation**"
      ],
      "metadata": {
        "id": "-q9fMopmpHSl"
      },
      "id": "-q9fMopmpHSl"
    },
    {
      "cell_type": "code",
      "source": [
        "# Create lists to store query numbers and precisions\n",
        "BM25query_nums_precision = []\n",
        "BM25precisions = []\n",
        "\n",
        "# Calculate precision for each of the first 5 queries\n",
        "for i, BM25_relevant_doc in enumerate(BM25_relevant_docs):\n",
        "\n",
        "    try:\n",
        "        # Get the corresponding relevant documents for the query\n",
        "        retrieved_doc = next(rd for rd in rel_retrieved_documents if rd['query_id'] == BM25_relevant_doc['query_id'])\n",
        "        relevant_doc = next(rd for rd in relevant_documents if rd['query_id'] == BM25_relevant_doc['query_id'])\n",
        "\n",
        "        # Calculate precision\n",
        "        BM25retrieved_set = set(BM25_relevant_doc['retrieved_document_ids'])\n",
        "        BM25relevant_set = set(relevant_doc['relevant_document_ids'])\n",
        "        BM25true_positives = len(BM25relevant_set.intersection(BM25retrieved_set))\n",
        "        BM25precision = BM25true_positives / len(BM25retrieved_set)\n",
        "\n",
        "        # Append query number and precision to lists\n",
        "        BM25query_nums_precision.append(i+1)\n",
        "        BM25precisions.append(BM25precision)\n",
        "    except StopIteration:\n",
        "        pass  # do nothing move on to the next iteration"
      ],
      "metadata": {
        "id": "X1K2ZX9NRBiC"
      },
      "id": "X1K2ZX9NRBiC",
      "execution_count": null,
      "outputs": []
    },
    {
      "cell_type": "code",
      "source": [
        "# Define a function to calculate recall\n",
        "def calculate_recall(relevant_docs, retrieved_docs):\n",
        "    retrieved_set = set(retrieved_docs)\n",
        "    relevant_set = set(relevant_docs)\n",
        "    true_positives = len(relevant_set.intersection(retrieved_set))\n",
        "    recall = true_positives / len(relevant_set)\n",
        "    return recall\n",
        "\n",
        "# Calculate recall for each of the first 5 queries\n",
        "BM25query_nums_recall = []\n",
        "BM25recalls = []\n",
        "\n",
        "for i, BM25_relevant_doc in enumerate(BM25_relevant_docs):\n",
        "\n",
        "    try:\n",
        "        # Get the corresponding relevant documents for the query\n",
        "        retrieved_doc = next(rd for rd in rel_retrieved_documents if rd['query_id'] == BM25_relevant_doc['query_id'])\n",
        "        relevant_doc = next(rd for rd in relevant_documents if rd['query_id'] == BM25_relevant_doc['query_id'])\n",
        "\n",
        "        # Calculate recall\n",
        "        BM25retrieved_docs = BM25_relevant_doc['retrieved_document_ids']\n",
        "        BM25relevant_docs = relevant_doc['relevant_document_ids']\n",
        "        BM25recall = calculate_recall(BM25relevant_docs, BM25retrieved_docs)\n",
        "\n",
        "        # Append query number and recall to lists\n",
        "        BM25query_nums_recall.append(i+1)\n",
        "        BM25recalls.append(BM25recall)\n",
        "    except StopIteration:\n",
        "        pass\n"
      ],
      "metadata": {
        "id": "AU0a0EsARJQn"
      },
      "id": "AU0a0EsARJQn",
      "execution_count": null,
      "outputs": []
    },
    {
      "cell_type": "code",
      "source": [
        "# Define a function to calculate precision\n",
        "def calculate_precision(relevant_docs, retrieved_docs):\n",
        "    # Convert the lists to sets for faster calculations\n",
        "    relevant_docs_set = set(relevant_docs)\n",
        "    retrieved_docs_set = set(retrieved_docs)\n",
        "\n",
        "    # Calculate the intersection of relevant_docs_set and retrieved_docs_set\n",
        "    intersection = relevant_docs_set.intersection(retrieved_docs_set)\n",
        "\n",
        "    # Calculate precision\n",
        "    precision = len(intersection) / len(retrieved_docs)\n",
        "\n",
        "    return precision\n",
        "\n",
        "# Define a function to calculate recall\n",
        "def calculate_recall(relevant_docs, retrieved_docs):\n",
        "    # Convert the lists to sets for faster calculations\n",
        "    relevant_docs_set = set(relevant_docs)\n",
        "    retrieved_docs_set = set(retrieved_docs)\n",
        "\n",
        "    # Calculate the intersection of relevant_docs_set and retrieved_docs_set\n",
        "    intersection = relevant_docs_set.intersection(retrieved_docs_set)\n",
        "\n",
        "    # Calculate recall\n",
        "    recall = len(intersection) / len(relevant_docs)\n",
        "\n",
        "    return recall\n",
        "\n",
        "# Define a function to calculate F1 score\n",
        "def calculate_f1_score(precision, recall):\n",
        "    if precision == 0 or recall == 0:\n",
        "        return 0\n",
        "    else:\n",
        "        f1_score = 2 * (precision * recall) / (precision + recall)\n",
        "        return f1_score\n",
        "\n",
        "# Calculate F1 score for each of the first 5 queries\n",
        "BM25query_nums_f1_score = []\n",
        "BM25f1_scores = []\n",
        "\n",
        "for i, BM25_relevant_doc in enumerate(BM25_relevant_docs):\n",
        "\n",
        "    try:\n",
        "        # Get the corresponding relevant documents for the query\n",
        "        retrieved_doc = next(rd for rd in rel_retrieved_documents if rd['query_id'] == BM25_relevant_doc['query_id'])\n",
        "        relevant_doc = next(rd for rd in relevant_documents if rd['query_id'] == BM25_relevant_doc['query_id'])\n",
        "\n",
        "        # Calculate precision and recall\n",
        "        BM25retrieved_docs = BM25_relevant_doc['retrieved_document_ids']\n",
        "        BM25relevant_docs = relevant_doc['relevant_document_ids']\n",
        "        BM25precision = calculate_precision(BM25relevant_docs, BM25retrieved_docs)\n",
        "        BM25recall = calculate_recall(BM25relevant_docs, BM25retrieved_docs)\n",
        "\n",
        "        # Calculate F1 score\n",
        "        BM25f1_score = calculate_f1_score(BM25precision, BM25recall)\n",
        "\n",
        "        # Append query number and F1 score to lists\n",
        "        BM25query_nums_f1_score.append(i+1)\n",
        "        BM25f1_scores.append(BM25f1_score)\n",
        "    except StopIteration:\n",
        "        pass\n"
      ],
      "metadata": {
        "id": "Xdx3jM4Rsm5L"
      },
      "id": "Xdx3jM4Rsm5L",
      "execution_count": null,
      "outputs": []
    },
    {
      "cell_type": "markdown",
      "source": [
        "**Visualisation of BM25**"
      ],
      "metadata": {
        "id": "9OaogFfixAZ7"
      },
      "id": "9OaogFfixAZ7"
    },
    {
      "cell_type": "code",
      "source": [
        "# Create bar chart\n",
        "bar_width = 1.2\n",
        "plt.bar(BM25query_nums_precision, BM25precisions, width=bar_width)\n",
        "plt.xlabel(\"Query Number\")\n",
        "plt.ylabel(\"Precision\")\n",
        "plt.title(\"BM25 - Precision For All Queries\")\n",
        "plt.show()\n",
        "\n",
        "print('The BM25 Mean Average Precision across all Queries is:',(sum(BM25precisions)/len(BM25precisions)*100),'%')\n",
        "\n",
        "# Create bar chart for recall\n",
        "bar_width = 1.2\n",
        "plt.bar(BM25query_nums_recall, BM25recalls, width=bar_width)\n",
        "plt.xlabel(\"Query Number\")\n",
        "plt.ylabel(\"Recall\")\n",
        "plt.title(\"BM25 - Recall For All Queries\")\n",
        "plt.show()\n",
        "\n",
        "print('The BM25 Average Recall across all Queries is:',(sum(BM25recalls)/len(BM25recalls)*100),'%')\n",
        "\n",
        "# Create bar chart for F1 score\n",
        "bar_width = 1.2\n",
        "plt.bar(BM25query_nums_f1_score, BM25f1_scores, width=bar_width)\n",
        "plt.xlabel(\"Query Number\")\n",
        "plt.ylabel(\"F1 Score\")\n",
        "plt.title(\"BM25 - F1 Score For All Queries\")\n",
        "plt.show()\n",
        "\n",
        "print('The BM25 Average F1-Score across all Queries is:',(sum(BM25f1_scores)/len(BM25f1_scores)*100),'%')"
      ],
      "metadata": {
        "colab": {
          "base_uri": "https://localhost:8080/",
          "height": 1000
        },
        "id": "5jTmOtcJpCu8",
        "outputId": "24f079b4-b372-45bc-8877-434c5a077a83"
      },
      "id": "5jTmOtcJpCu8",
      "execution_count": null,
      "outputs": [
        {
          "output_type": "display_data",
          "data": {
            "text/plain": [
              "<Figure size 640x480 with 1 Axes>"
            ],
            "image/png": "[encoded data removed]"
          },
          "metadata": {}
        },
        {
          "output_type": "stream",
          "name": "stdout",
          "text": [
            "The BM25 Mean Average Precision across all Queries is: 33.157894736842096 %\n"
          ]
        },
        {
          "output_type": "display_data",
          "data": {
            "text/plain": [
              "<Figure size 640x480 with 1 Axes>"
            ],
            "image/png": "[encoded data removed]"
          },
          "metadata": {}
        },
        {
          "output_type": "stream",
          "name": "stdout",
          "text": [
            "The BM25 Average Recall across all Queries is: 5.5646061951658385 %\n"
          ]
        },
        {
          "output_type": "display_data",
          "data": {
            "text/plain": [
              "<Figure size 640x480 with 1 Axes>"
            ],
            "image/png": "[encoded data removed]"
          },
          "metadata": {}
        },
        {
          "output_type": "stream",
          "name": "stdout",
          "text": [
            "The BM25 Average F1-Score across all Queries is: 8.773443043552364 %\n"
          ]
        }
      ]
    },
    {
      "cell_type": "code",
      "source": [
        "# Printing the Average scores for the BM25 model\n",
        "\n",
        "print('The BM25 Mean Average Precision across all Queries is:',(sum(BM25precisions)/len(BM25precisions)*100),'%')\n",
        "print('The BM25 Average Recall across all Queries is:',(sum(BM25recalls)/len(BM25recalls)*100),'%')\n",
        "print('The BM25 Average F1-Score across all Queries is:',(sum(BM25f1_scores)/len(BM25f1_scores)*100),'%')"
      ],
      "metadata": {
        "colab": {
          "base_uri": "https://localhost:8080/"
        },
        "id": "9xweWljL8Qu2",
        "outputId": "58a4c3b7-7537-43f3-be5f-60b55289ae6d"
      },
      "id": "9xweWljL8Qu2",
      "execution_count": null,
      "outputs": [
        {
          "output_type": "stream",
          "name": "stdout",
          "text": [
            "The BM25 Mean Average Precision across all Queries is: 33.157894736842096 %\n",
            "The BM25 Average Recall across all Queries is: 5.5646061951658385 %\n",
            "The BM25 Average F1-Score across all Queries is: 8.773443043552364 %\n"
          ]
        }
      ]
    },
    {
      "cell_type": "markdown",
      "source": [
        "# **Comparative Analysis**"
      ],
      "metadata": {
        "id": "BtqIAOYgYPPJ"
      },
      "id": "BtqIAOYgYPPJ"
    },
    {
      "cell_type": "markdown",
      "source": [
        "Below we have a visualisation comparing the Mean Average Precision (MAP) scores for both models we have created. MAP takes the precision of each individual query, sums it and divides against the total number of queries. It acts as a robust comparative tool that can assist us in determining which of our models performs best against our project aim."
      ],
      "metadata": {
        "id": "hLJZ9zfjZjeB"
      },
      "id": "hLJZ9zfjZjeB"
    },
    {
      "cell_type": "code",
      "source": [
        "# Plotting the MAP performance of VSM and BM25 models\n",
        "\n",
        "VSM_map = sum(vsm_precisions) / len(vsm_precisions)\n",
        "BM25_map = sum(BM25precisions)/len(BM25precisions)\n",
        "\n",
        "plt.bar(['VSM', 'BM25'], [VSM_map, BM25_map])\n",
        "\n",
        "# Set the axis labels and title\n",
        "plt.xlabel('Model Type')\n",
        "plt.ylabel('Mean Average Precision')\n",
        "plt.title('Performance of VSM and BM25 Retrieval Models')\n",
        "\n",
        "# Display the plot\n",
        "plt.show()"
      ],
      "metadata": {
        "colab": {
          "base_uri": "https://localhost:8080/",
          "height": 472
        },
        "id": "FU6bEM5yGB4S",
        "outputId": "664e4bf2-6627-466e-96b6-5920467b775d"
      },
      "id": "FU6bEM5yGB4S",
      "execution_count": null,
      "outputs": [
        {
          "output_type": "display_data",
          "data": {
            "text/plain": [
              "<Figure size 640x480 with 1 Axes>"
            ],
            "image/png": "[encoded data removed]"
          },
          "metadata": {}
        }
      ]
    },
    {
      "cell_type": "markdown",
      "source": [
        "Graphs comparing the Average Recall and the F1-scores of our models have been produced, although MAP will be the main focus of our performance metric evaluation"
      ],
      "metadata": {
        "id": "PKSC3rDwxgpv"
      },
      "id": "PKSC3rDwxgpv"
    },
    {
      "cell_type": "code",
      "source": [
        "# Plotting the Average Recall performance of VSM and BM25 models\n",
        "\n",
        "VSM_recall = sum(vsm_recalls)/len(vsm_recalls)\n",
        "BM25_recall = sum(BM25recalls)/len(BM25recalls)\n",
        "\n",
        "plt.bar(['VSM', 'BM25'], [VSM_recall, BM25_recall])\n",
        "\n",
        "# Set the axis labels and title\n",
        "plt.xlabel('Model Type')\n",
        "plt.ylabel('Average Recall')\n",
        "plt.title('Performance of VSM and BM25 Retrieval Models')\n",
        "\n",
        "# Display the plot\n",
        "plt.show()"
      ],
      "metadata": {
        "colab": {
          "base_uri": "https://localhost:8080/",
          "height": 472
        },
        "id": "t47akz2s9uiw",
        "outputId": "62f03034-aac5-4b65-de59-4f1adda930e4"
      },
      "id": "t47akz2s9uiw",
      "execution_count": null,
      "outputs": [
        {
          "output_type": "display_data",
          "data": {
            "text/plain": [
              "<Figure size 640x480 with 1 Axes>"
            ],
            "image/png": "[encoded data removed]"
          },
          "metadata": {}
        }
      ]
    },
    {
      "cell_type": "code",
      "source": [
        "# Plotting the Average Recall performance of VSM and BM25 models\n",
        "\n",
        "VSM_f1 = sum(vsm_f1_scores)/len(vsm_f1_scores)\n",
        "BM25_f1 = sum(BM25f1_scores)/len(BM25f1_scores)\n",
        "\n",
        "plt.bar(['VSM', 'BM25'], [VSM_f1, BM25_f1])\n",
        "\n",
        "# Set the axis labels and title\n",
        "plt.xlabel('Model Type')\n",
        "plt.ylabel('Average F1-score')\n",
        "plt.title('Performance of VSM and BM25 Retrieval Models')\n",
        "\n",
        "# Display the plot\n",
        "plt.show()"
      ],
      "metadata": {
        "colab": {
          "base_uri": "https://localhost:8080/",
          "height": 472
        },
        "id": "xSK3fg4i9u-F",
        "outputId": "20f2662d-c4b2-4211-f452-7ab354499499"
      },
      "id": "xSK3fg4i9u-F",
      "execution_count": null,
      "outputs": [
        {
          "output_type": "display_data",
          "data": {
            "text/plain": [
              "<Figure size 640x480 with 1 Axes>"
            ],
            "image/png": "[encoded data removed]"
          },
          "metadata": {}
        }
      ]
    },
    {
      "cell_type": "markdown",
      "source": [
        "### Calculating the Execution time of Both models"
      ],
      "metadata": {
        "id": "qvEQjU3TYR0i"
      },
      "id": "qvEQjU3TYR0i"
    },
    {
      "cell_type": "code",
      "source": [
        "print('The exectution time of the VSM model is: ', VSMelapsed_time ,'Seconds')\n",
        "print('The exectution time of the BM25score computation from the documents is: ', BM25elapsed_time ,'Seconds')\n",
        "print('The exectution time of BM25 document ranking is:',BM25resultselapsed_time,'Seconds' )\n",
        "print('The total exectution time of the BM25 model is:',BM25elapsed_time+BM25resultselapsed_time,'Seconds' )"
      ],
      "metadata": {
        "colab": {
          "base_uri": "https://localhost:8080/"
        },
        "id": "6Jd4GN4MXGEQ",
        "outputId": "61e79056-f995-4d8a-9f48-d4d11c1dd6f7"
      },
      "id": "6Jd4GN4MXGEQ",
      "execution_count": null,
      "outputs": [
        {
          "output_type": "stream",
          "name": "stdout",
          "text": [
            "The exectution time of the VSM model is:  0.30428433418273926 Seconds\n",
            "The exectution time of the BM25score computation from the documents is:  0.6059117317199707 Seconds\n",
            "The exectution time of BM25 document ranking is: 1.333832025527954 Seconds\n",
            "The total exectution time of the BM25 model is: 1.9397437572479248 Seconds\n"
          ]
        }
      ]
    },
    {
      "cell_type": "markdown",
      "source": [
        "## **Concluding statements**\n"
      ],
      "metadata": {
        "id": "zDPtUUkLttTb"
      },
      "id": "zDPtUUkLttTb"
    },
    {
      "cell_type": "markdown",
      "source": [
        "To conclude we can see that the VSM model performs better than the BM25 model based on our analysis of all performance metrics. The VSM model is able to achive higher scores on all metrics such as MAP, average Recall and F1-Score.\n",
        "\n",
        "The VSM model has an MAP value of 37.11%, average recall of 8.78% and an average F1-score of 11.77%.\n",
        "\n",
        "The BM25 model has an MAP value of 33.16%, average recall of 8.56% and an average F1-score of 8.77%.\n",
        "\n",
        "Furthermore, on our specific dataset the VSM model is able to return the top 5 results faster than the BM25 model. It takes around 1.03 seconds for the VSM model and around 2.8 seconds for the BM25 model to return retrieved documents.\n",
        "\n",
        "Its worth noting that the total execution time for the BM25 model from start to finish is 3.69 seconds but since the BM25 scores can be calculated in advance before queries are interpretted we focus only on how long the model/system requires to return relevant documents instead.\n"
      ],
      "metadata": {
        "id": "JXHorCQ7ty_D"
      },
      "id": "JXHorCQ7ty_D"
    },
    {
      "cell_type": "markdown",
      "source": [
        "# **Optimisation Steps performed/attempted**\n",
        "\n",
        "1.   Iterative process used to manually fine tune the BM25 model parameters to increase MAP and other performance metrics.\n",
        "2.   Attempted to use Elastic search for Indexing but manual indexing was used due to problems encountered with elastic search.\n",
        "3.Preprocessing optimisations: Preprocessing steps such as stopword removal & lemmatization we used to improve the efficiency and effectiveness. The aim was to use the  apropriate preprocessing techniques to reduce the size of the index, reduce the processing overhead, and improve the recall and precision of results."
      ],
      "metadata": {
        "id": "zS3gpzPWXLj6"
      },
      "id": "zS3gpzPWXLj6"
    },
    {
      "cell_type": "markdown",
      "source": [
        "# Demonstrating/Testing both models on Custom Queries"
      ],
      "metadata": {
        "id": "nf5kkFjc-yW0"
      },
      "id": "nf5kkFjc-yW0"
    },
    {
      "cell_type": "code",
      "source": [
        "# VSM model for demosntration on custom queries\n",
        "\n",
        "def VSM2(corpus, num_results):\n",
        "    # creates document-term frequency matrix and generates TF-IDF matrix\n",
        "    vectorizer = CountVectorizer()\n",
        "    term_matrix = vectorizer.fit_transform(corpus)\n",
        "    tfidf_transformer = TfidfTransformer()\n",
        "    tfidf_matrix = tfidf_transformer.fit_transform(term_matrix)\n",
        "\n",
        "    # allows custom query from the user\n",
        "    while True:\n",
        "        query = input(\"Enter your query here (type 'x' to exit): \")\n",
        "        if query == 'x':\n",
        "            break\n",
        "\n",
        "        # tokenize and convert to lowercase\n",
        "        tokens = word_tokenize(query.lower())\n",
        "        # remove special characters, numbers, and punctuation marks\n",
        "        query = [word for word in tokens if word not in string.punctuation + string.digits]\n",
        "        # remove quotation marks\n",
        "        query = [word.replace(\"'\", \"\").replace('\"', '') for word in query]\n",
        "        # remove stop words\n",
        "        query = [word for word in query if word not in stop_words]\n",
        "        # Perform lemmatization\n",
        "        query = [lemmatizer.lemmatize(word) for word in query]\n",
        "        # join tokens back to form a string\n",
        "        query = ' '.join(query)\n",
        "\n",
        "        # create query vector and calculate cosine similarity for individual documents\n",
        "        query_matrix = vectorizer.transform([query])\n",
        "        query_tfidf = tfidf_transformer.transform(query_matrix)\n",
        "        cosine_similarities = cosine_similarity(query_tfidf, tfidf_matrix).flatten()\n",
        "        top_results = cosine_similarities.argsort()[::-1][:num_results]\n",
        "\n",
        "        # prints out the top-n matching documents for the query\n",
        "        # prints out the top-n matching documents for each query\n",
        "        print(f\"Top {num_results} matching documents for query {query_id+1}: '{query}'\")\n",
        "        for doc_id in top_results:\n",
        "            document_info = documents[doc_id]\n",
        "            print(\"DocumentID:\", doc_id+1)\n",
        "            print(\"Document Title:\", document_info[\"title\"])\n",
        "            print(\"Document Author:\", document_info[\"authors\"])\n",
        "            print(\"Document Source:\", document_info[\"source\"])\n",
        "            print(\"Document Year:\", document_info[\"year\"])\n",
        "            print(\"Document Content:\", document_info[\"abstract\"])\n",
        "            print(\"------------------------------\")"
      ],
      "metadata": {
        "id": "noxvk90ltx0a"
      },
      "id": "noxvk90ltx0a",
      "execution_count": null,
      "outputs": []
    },
    {
      "cell_type": "code",
      "source": [
        "VSM2(corpus,5)"
      ],
      "metadata": {
        "colab": {
          "base_uri": "https://localhost:8080/"
        },
        "id": "Iiq8PGBU3MdW",
        "outputId": "882d9175-40ec-4332-ff01-966f3ed3dfa3"
      },
      "id": "Iiq8PGBU3MdW",
      "execution_count": null,
      "outputs": [
        {
          "name": "stdout",
          "output_type": "stream",
          "text": [
            "Enter your query here (type 'x' to exit): Linear regression analysis\n",
            "Top 5 matching documents for query 113: 'linear regression analysis'\n",
            "DocumentID: 833\n",
            "Document Title: A New Linear Notation System Based on Combinations of Carbon and Hydrogen\n",
            "Document Author: Skolnic, Herman\n",
            "Document Source: \n",
            "Document Year: \n",
            "Document Content: A new linear notation system is described which was designed to have a one-to-one correspondence with the chemical structures represented by the notations.. Each notation is unique and unambiguous, yet simple and compatible with computer input and output characters.. The symbols used in the notation system denote carbon in terms of bounds and attached hydrogen(s).. The notation system is illustrated with acyclic, carbocyclic, and heterocyclic examples..\n",
            "------------------------------\n",
            "DocumentID: 1092\n",
            "Document Title: Method for Relating the Structure and  Properties of Chemical Compounds\n",
            "Document Author: Adamson, G.W.\n",
            "Document Source: \n",
            "Document Year: \n",
            "Document Content: The structure diagrams of chemical compounds are widely used in the communication of chemistry. They are also used in chemical information systems, mainly as keys for the retrieval of associated information. However some chemical information systems hold property data as well as structure diagrams in machine-readable forms. If structure-property relationships could be investigated easily within chemical information systems, then the usefulness of the systems would be considerably increased. Described below are some results which have been obtained during investigation of structure- property relationships using a combination of regression analysis and some techniques of chemical structure handling used in information systems.\n",
            "------------------------------\n",
            "DocumentID: 1347\n",
            "Document Title: Inputs, Outputs, and the Prestige of University Science Departments\n",
            "Document Author: Hagstrom, Warren O.\n",
            "Document Source: \n",
            "Document Year: \n",
            "Document Content: This paper reports correlates of departmental prestige (American Council on Education rating of the quality of graduate faculty, 1966) for a sample of 125 departments in mathematics, physics, chemistry, and biology.. The analysis mostly uses multivariate linear regression.. Large and significant correlations with departmental prestige exist for measures of department size, research production, research opportunities, faculty background (including quality of PhD university), and faculty awards and offices.. Combinations of from six to nine indicators of these variables account for about three-fourths of the variance in departmental prestige; when other types of variables are held constant, indicators of all except research opportunities remain significantly associated with departmental prestige.. Correlations of prestige with rates of inbreeding and the proportion of foreign doctorates are discussed.. Differences in the correlates of prestige are small among the four fields studied.. It is shown that prestige is correlated with average amount of informal scientific communication and with departmental morale even after possible confounding variables are held constant..\n",
            "------------------------------\n",
            "DocumentID: 616\n",
            "Document Title: A Bibliometric Analysis of Certain Information Science Literature\n",
            "Document Author: Donohue, Joseph C.\n",
            "Document Source: \n",
            "Document Year: \n",
            "Document Content: Several bibliometric techniques previously applied to separate scientific literatures were used together in the analysis of a single corpus of journal articles relating to information science.. Techniques included are (a) Bradford analysis, (b) epidemic analysis, (c) identification of research front, and (d) bibliographic coupling.. Similar analysis was made of writings cited by the main corpus articles, and of the literature which in turn cites the main corpus.. Results were analyzed in terms of structure and processes observable in patterns of authorship, publication, and citation.. Their significance is discussed with potential application of the method to the solution of problems in the management of large research libraries..\n",
            "------------------------------\n",
            "DocumentID: 306\n",
            "Document Title: From Economic to Political Analysis of Library Decision Making\n",
            "Document Author: Raffel, Jeffrey A.\n",
            "Document Source: \n",
            "Document Year: \n",
            "Document Content: In general, the more critical the decision, the less useful a cost-benefit analysis is to library decision makers.. Political analysis is required, and Easton's conceptual framework is presented to suggest the utility of political analysis.. A list of normative issues is derived from raising descriptive questions about the politics of university libraries..\n",
            "------------------------------\n",
            "Enter your query here (type 'x' to exit): x\n"
          ]
        }
      ]
    },
    {
      "cell_type": "code",
      "source": [
        "# BM25 model for demosntration on custom queries\n",
        "class BM25Retrieval:\n",
        "    def __init__(self, bm25_scores):\n",
        "        self.bm25_scores = bm25_scores\n",
        "        self.stop_words = set(stopwords.words('english'))\n",
        "        self.lemmatizer = WordNetLemmatizer()\n",
        "\n",
        "    def preprocess_query(self, query_text):\n",
        "        # tokenize and convert to lowercase\n",
        "        tokens = word_tokenize(query_text.lower())\n",
        "        # remove special characters, numbers, and punctuation marks\n",
        "        filtered_query = [word for word in tokens if word not in string.punctuation + string.digits]\n",
        "        # remove quotation marks\n",
        "        filtered_query = [word.replace(\"'\", \"\").replace('\"', '') for word in filtered_query]\n",
        "        # remove stop words\n",
        "        filtered_query = [word for word in filtered_query if word not in self.stop_words]\n",
        "        # perform lemmatization\n",
        "        lemmatized_query = [self.lemmatizer.lemmatize(word) for word in filtered_query]\n",
        "        # join tokens back to form a string\n",
        "        preprocessed_query = ' '.join(lemmatized_query)\n",
        "        return preprocessed_query\n",
        "\n",
        "    def retrieve_ranking(self, query):\n",
        "        q_terms = query.split(' ')\n",
        "        common_terms = list(set(q_terms) & set(self.bm25_scores.columns))\n",
        "        q_terms_only = self.bm25_scores[common_terms]\n",
        "        score_q_d = q_terms_only.sum(axis=1)\n",
        "        return sorted(zip(self.bm25_scores.index.values, score_q_d.values),\n",
        "                      key=lambda tup: tup[1],\n",
        "                      reverse=True)\n",
        "\n",
        "    def run_bm25_on_query(self, query_text):\n",
        "        preprocessed_query = self.preprocess_query(query_text)\n",
        "        ranking = self.retrieve_ranking(preprocessed_query)\n",
        "        top_5_documents = ranking[:5]\n",
        "        top_5_document_ids = [doc_id for doc_id, _ in top_5_documents]\n",
        "\n",
        "        print(\"Top 5 Relevant Documents:\")\n",
        "        for doc_id in top_5_document_ids:\n",
        "            document_info = documents[doc_id]\n",
        "            print(\"DocumentID:\", doc_id+1)\n",
        "            print(\"Document Title:\", document_info[\"title\"])\n",
        "            print(\"Document Author:\", document_info[\"authors\"])\n",
        "            print(\"Document Source:\", document_info[\"source\"])\n",
        "            print(\"Document Year:\", document_info[\"year\"])\n",
        "            print(\"Document Content:\", document_info[\"abstract\"])\n",
        "            print(\"------------------------------\")\n",
        "\n",
        "        return top_5_document_ids"
      ],
      "metadata": {
        "id": "cG1qReSf6Le1"
      },
      "id": "cG1qReSf6Le1",
      "execution_count": null,
      "outputs": []
    },
    {
      "cell_type": "code",
      "source": [
        "# instance of BM25Retrieval\n",
        "bm25_retrieval = BM25Retrieval(bm25_scores)\n",
        "\n",
        "# getting user input for query\n",
        "query_text = input(\"Enter your query: \")\n",
        "\n",
        "# run BM25 on the query and get the top 5 relevant document IDs\n",
        "top_5_document_ids = bm25_retrieval.run_bm25_on_query(query_text)"
      ],
      "metadata": {
        "colab": {
          "base_uri": "https://localhost:8080/"
        },
        "id": "RoDzSTbg6ws5",
        "outputId": "73b94767-78c5-4eed-f213-63d98a288ece"
      },
      "id": "RoDzSTbg6ws5",
      "execution_count": null,
      "outputs": [
        {
          "output_type": "stream",
          "name": "stdout",
          "text": [
            "Enter your query: Linear regression Analysis\n",
            "Top 5 Relevant Documents:\n",
            "DocumentID: 1092\n",
            "Document Title: Method for Relating the Structure and  Properties of Chemical Compounds\n",
            "Document Author: Adamson, G.W.\n",
            "Document Source: \n",
            "Document Year: \n",
            "Document Content: The structure diagrams of chemical compounds are widely used in the communication of chemistry. They are also used in chemical information systems, mainly as keys for the retrieval of associated information. However some chemical information systems hold property data as well as structure diagrams in machine-readable forms. If structure-property relationships could be investigated easily within chemical information systems, then the usefulness of the systems would be considerably increased. Described below are some results which have been obtained during investigation of structure- property relationships using a combination of regression analysis and some techniques of chemical structure handling used in information systems.\n",
            "------------------------------\n",
            "DocumentID: 833\n",
            "Document Title: A New Linear Notation System Based on Combinations of Carbon and Hydrogen\n",
            "Document Author: Skolnic, Herman\n",
            "Document Source: \n",
            "Document Year: \n",
            "Document Content: A new linear notation system is described which was designed to have a one-to-one correspondence with the chemical structures represented by the notations.. Each notation is unique and unambiguous, yet simple and compatible with computer input and output characters.. The symbols used in the notation system denote carbon in terms of bounds and attached hydrogen(s).. The notation system is illustrated with acyclic, carbocyclic, and heterocyclic examples..\n",
            "------------------------------\n",
            "DocumentID: 1347\n",
            "Document Title: Inputs, Outputs, and the Prestige of University Science Departments\n",
            "Document Author: Hagstrom, Warren O.\n",
            "Document Source: \n",
            "Document Year: \n",
            "Document Content: This paper reports correlates of departmental prestige (American Council on Education rating of the quality of graduate faculty, 1966) for a sample of 125 departments in mathematics, physics, chemistry, and biology.. The analysis mostly uses multivariate linear regression.. Large and significant correlations with departmental prestige exist for measures of department size, research production, research opportunities, faculty background (including quality of PhD university), and faculty awards and offices.. Combinations of from six to nine indicators of these variables account for about three-fourths of the variance in departmental prestige; when other types of variables are held constant, indicators of all except research opportunities remain significantly associated with departmental prestige.. Correlations of prestige with rates of inbreeding and the proportion of foreign doctorates are discussed.. Differences in the correlates of prestige are small among the four fields studied.. It is shown that prestige is correlated with average amount of informal scientific communication and with departmental morale even after possible confounding variables are held constant..\n",
            "------------------------------\n",
            "DocumentID: 616\n",
            "Document Title: A Bibliometric Analysis of Certain Information Science Literature\n",
            "Document Author: Donohue, Joseph C.\n",
            "Document Source: \n",
            "Document Year: \n",
            "Document Content: Several bibliometric techniques previously applied to separate scientific literatures were used together in the analysis of a single corpus of journal articles relating to information science.. Techniques included are (a) Bradford analysis, (b) epidemic analysis, (c) identification of research front, and (d) bibliographic coupling.. Similar analysis was made of writings cited by the main corpus articles, and of the literature which in turn cites the main corpus.. Results were analyzed in terms of structure and processes observable in patterns of authorship, publication, and citation.. Their significance is discussed with potential application of the method to the solution of problems in the management of large research libraries..\n",
            "------------------------------\n",
            "DocumentID: 306\n",
            "Document Title: From Economic to Political Analysis of Library Decision Making\n",
            "Document Author: Raffel, Jeffrey A.\n",
            "Document Source: \n",
            "Document Year: \n",
            "Document Content: In general, the more critical the decision, the less useful a cost-benefit analysis is to library decision makers.. Political analysis is required, and Easton's conceptual framework is presented to suggest the utility of political analysis.. A list of normative issues is derived from raising descriptive questions about the politics of university libraries..\n",
            "------------------------------\n"
          ]
        }
      ]
    },
    {
      "cell_type": "code",
      "source": [],
      "metadata": {
        "id": "OeP1n9A27s6Y"
      },
      "id": "OeP1n9A27s6Y",
      "execution_count": null,
      "outputs": []
    }
  ],
  "metadata": {
    "kernelspec": {
      "display_name": "Python 3 (ipykernel)",
      "language": "python",
      "name": "python3"
    },
    "language_info": {
      "codemirror_mode": {
        "name": "ipython",
        "version": 3
      },
      "file_extension": ".py",
      "mimetype": "text/x-python",
      "name": "python",
      "nbconvert_exporter": "python",
      "pygments_lexer": "ipython3",
      "version": "3.9.13"
    },
    "colab": {
      "provenance": []
    }
  },
  "nbformat": 4,
  "nbformat_minor": 5
}