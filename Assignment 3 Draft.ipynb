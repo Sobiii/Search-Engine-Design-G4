{
 "cells": [
  {
   "cell_type": "markdown",
   "id": "a44ce63f-4719-49a4-ba56-1ed8b314dfc4",
   "metadata": {},
   "source": [
    "# Extraction"
   ]
  },
  {
   "cell_type": "code",
   "execution_count": 1,
   "id": "d44a2f7e-1aee-4ae9-87f3-da8a9a7628b2",
   "metadata": {},
   "outputs": [],
   "source": [
    "import os as os\n",
    "import re\n",
    "\n",
    "# get the current working directory\n",
    "directory = os.getcwd()\n",
    "\n",
    "# define paths to CISI dataset files\n",
    "cisi_all_path = os.path.join(directory, 'CISI.ALL')\n",
    "cisi_qry_path = os.path.join(directory, 'CISI.QRY')\n",
    "cisi_rel_path = os.path.join(directory, 'CISI.REL')"
   ]
  },
  {
   "cell_type": "markdown",
   "id": "f3d54de2-c44f-467a-9a51-463baecff1c3",
   "metadata": {},
   "source": [
    "### cisi.all extraction"
   ]
  },
  {
   "cell_type": "code",
   "execution_count": 2,
   "id": "fa9c956d-e50c-48d1-ab5e-3722a19d7614",
   "metadata": {},
   "outputs": [],
   "source": [
    "def all_extraction(file_name_path):\n",
    "    with open(file_name_path) as f:\n",
    "        file_lines = f.readlines()\n",
    "\n",
    "    doc_ids = []\n",
    "    documents = []\n",
    "    i = 0\n",
    "    while i < len(file_lines):\n",
    "        if file_lines[i].startswith(\".I\"):\n",
    "            doc_id = file_lines[i].split()[1]\n",
    "            doc_ids.append(doc_id)\n",
    "            if file_lines[i+1].startswith(\".T\") and file_lines[i+3].startswith(\".A\"):\n",
    "                title = file_lines[i+2][:].strip()\n",
    "            else:\n",
    "                title = file_lines[i+2].strip() + \" \" + file_lines[i+3].strip()\n",
    "            authors = \"\"\n",
    "            if any([line.startswith(\".A\") for line in file_lines[i+1:]]):\n",
    "                author_start = i+4\n",
    "                author_end = author_start\n",
    "                while author_end < len(file_lines) and not any([file_lines[author_end].startswith(tag) for tag in [\".T\", \".B\", \".W\", \".Y\"]]):\n",
    "                    author_end += 1\n",
    "                authors = \" \".join([file_lines[j].strip() for j in range(author_start, author_end)]).strip()\n",
    "                authors = re.sub(r\"^\\s*\\.\\s*A\\s*\", \"\", authors)\n",
    "                abstract_start = author_end\n",
    "            else:\n",
    "                abstract_start = i+4\n",
    "\n",
    "            for t in range(i+4, len(file_lines)):\n",
    "                if file_lines[t].startswith(\".X\"):\n",
    "                    abstract_end = t\n",
    "                    break\n",
    "            else:\n",
    "                abstract_end = len(file_lines)\n",
    "            abstract = \" \".join(file_lines[abstract_start:abstract_end]).strip().replace('\\n', ' ')\n",
    "            abstract = re.sub(r\"^\\s*\\.\\s*W\\s*\", \"\", abstract)\n",
    "            abstract = \" \".join(abstract.split())\n",
    "            source = re.search(r\"\\.B\\s+(.*)\\.W\", abstract)\n",
    "            if source:\n",
    "                source = source.group(1)\n",
    "                source = re.sub(r\"^\\s*\\.\\s*A\\s*\", \"\", source)\n",
    "                source = re.sub(r\"^\\s*\\.\\s*B\\s*\", \"\", source)\n",
    "            else:\n",
    "                source = \"\"\n",
    "            abstract = re.sub(r\"^\\s*\\.\\s*B\\s*(.*)\\.W\", \"\", abstract)\n",
    "            abstract = \" \".join(abstract.split())\n",
    "            year = re.search(r\"\\.Y\\s+(\\d{4})\", abstract)\n",
    "            if year:\n",
    "                year = int(year.group(1))\n",
    "            else:\n",
    "                year = \"\"\n",
    "            abstract = re.sub(r\"^\\s*\\.\\s*Y\\s*\\d{4}\\s*\", \"\", abstract)\n",
    "            abstract = \" \".join(abstract.split())\n",
    "            documents.append({\"document_id\": doc_id, \"title\": title, \"authors\": authors, \"abstract\": abstract, \"source\": source, \"year\": year})\n",
    "            i = abstract_end\n",
    "        else:\n",
    "            i += 1\n",
    "\n",
    "    return documents"
   ]
  },
  {
   "cell_type": "code",
   "execution_count": 3,
   "id": "399ab28b-7185-4568-bc6d-0407b05b6b02",
   "metadata": {},
   "outputs": [],
   "source": [
    "documents = all_extraction(cisi_all_path)\n",
    "#documents"
   ]
  },
  {
   "cell_type": "markdown",
   "id": "8340675c-b2e9-4b5a-8df7-6bf61d9e7d05",
   "metadata": {},
   "source": [
    "### cisi.qry extraction"
   ]
  },
  {
   "cell_type": "code",
   "execution_count": 4,
   "id": "621be0f8-8b01-4cef-b0d7-64ea84e6f90d",
   "metadata": {},
   "outputs": [],
   "source": [
    "def qry_extraction(filename_path, tag):\n",
    "    with open (filename_path,'r') as f:\n",
    "        all_text = f.read().replace('\\n',\" \")\n",
    "        file_lines = re.split(tag,all_text)\n",
    "        file_lines.pop(0)\n",
    "        return file_lines"
   ]
  },
  {
   "cell_type": "code",
   "execution_count": 5,
   "id": "2e1e5ed4-ede1-43ca-98d8-999bf1c47ebc",
   "metadata": {},
   "outputs": [],
   "source": [
    "qry_id_tag = re.compile('\\.I.')\n",
    "cisi_qry = qry_extraction(cisi_qry_path, qry_id_tag) "
   ]
  },
  {
   "cell_type": "code",
   "execution_count": 6,
   "id": "74dd9e05-41bf-4070-88d7-c1fcf3ae088c",
   "metadata": {},
   "outputs": [],
   "source": [
    "# extracting query id and query text \n",
    "doc_id_tag = re.compile('\\.I.')\n",
    "cisi_qry = qry_extraction(cisi_qry_path, doc_id_tag) \n",
    "queries = []\n",
    "for i, d in enumerate(cisi_qry):\n",
    "    query_id, query_text = d.split(' ', 1)\n",
    "    query_text = query_text.split('.W', 1)[1].strip()\n",
    "    query_text = re.sub(r'\\.B\\s.*', '', query_text).strip()\n",
    "    queries.append({'query_id': int(query_id), 'query_text': query_text})"
   ]
  },
  {
   "cell_type": "code",
   "execution_count": 16,
   "id": "ab45a6bb-e9e7-43e9-89de-d244fc8b26d0",
   "metadata": {},
   "outputs": [],
   "source": [
    "#queries"
   ]
  },
  {
   "cell_type": "code",
   "execution_count": 8,
   "id": "82e26e5e-0bab-4ad6-90d0-7b60b997f595",
   "metadata": {},
   "outputs": [],
   "source": [
    "# extracting query id and publication information '.B'\n",
    "queries1 = []\n",
    "\n",
    "for i, d in enumerate(cisi_qry):\n",
    "    query_id, query_text = d.split(' ', 1)\n",
    "    \n",
    "    # Extract publication date if present\n",
    "    pub_info = re.search(r'\\.B\\s+(.*)', query_text)\n",
    "    if pub_info:\n",
    "        publication = pub_info.group(1)\n",
    "    else:\n",
    "        publication = ''\n",
    "    \n",
    "    queries1.append({'query_id': int(query_id), 'publication': publication})"
   ]
  },
  {
   "cell_type": "code",
   "execution_count": 9,
   "id": "8604208b-59eb-4d4b-9f36-5a99115f3cbd",
   "metadata": {},
   "outputs": [],
   "source": [
    "#queries1"
   ]
  },
  {
   "cell_type": "code",
   "execution_count": 10,
   "id": "23452e7d",
   "metadata": {},
   "outputs": [],
   "source": [
    "# extracting query id and author information '.A'\n",
    "queries2 = []\n",
    "\n",
    "for i, d in enumerate(cisi_qry):\n",
    "    query_id, query_text = d.split(' ', 1)\n",
    "    \n",
    "    author_info = re.search(r'\\.A\\s+(.*?)\\s*\\.W', query_text, re.DOTALL)\n",
    "    if author_info:\n",
    "        author = author_info.group(1).strip()\n",
    "        author = author.replace('\\n', ', ')\n",
    "    else:\n",
    "        author = ''\n",
    "    \n",
    "    queries2.append({'query_id': int(query_id), 'author': author})"
   ]
  },
  {
   "cell_type": "code",
   "execution_count": 11,
   "id": "d57621bc-0772-4a3e-b283-4cbaf1b0f152",
   "metadata": {},
   "outputs": [],
   "source": [
    "#queries2"
   ]
  },
  {
   "cell_type": "code",
   "execution_count": 12,
   "id": "d6626453-dcff-4924-a13c-267e2fc7c278",
   "metadata": {},
   "outputs": [],
   "source": [
    "# extracting query id and title information '.T'\n",
    "queries3 = []\n",
    "\n",
    "for i, d in enumerate(cisi_qry):\n",
    "    query_id, query_text = d.split(' ', 1)\n",
    "    \n",
    "    title_info = re.search(r'\\.T\\s+(.*?)\\s*\\.A', query_text, re.DOTALL)\n",
    "    if title_info:\n",
    "        title = title_info.group(1).strip()\n",
    "    else:\n",
    "        title = ''\n",
    "    \n",
    "    queries3.append({'query_id': int(query_id), 'title': title})"
   ]
  },
  {
   "cell_type": "code",
   "execution_count": 13,
   "id": "988e1f45-7fd3-442b-956a-cf7ddf69cacd",
   "metadata": {},
   "outputs": [],
   "source": [
    "#queries3"
   ]
  },
  {
   "cell_type": "code",
   "execution_count": 14,
   "id": "7fd38ef7-d48c-4cad-b0e3-cbd8c94f1644",
   "metadata": {},
   "outputs": [],
   "source": [
    "# creating function to merge lists over common key 'query_id'\n",
    "def merge_lists(x, y, z, w):\n",
    "    merged_list = []\n",
    "    for dict_x in x:\n",
    "        dict_a = {'query_id': dict_x['query_id']}\n",
    "        for dict_y in y:\n",
    "            if dict_y['query_id'] == dict_x['query_id']:\n",
    "                dict_a.update(dict_y)\n",
    "        for dict_z in z:\n",
    "            if dict_z['query_id'] == dict_x['query_id']:\n",
    "                dict_a.update(dict_z)\n",
    "        for dict_w in w:\n",
    "            if dict_w['query_id'] == dict_x['query_id']:\n",
    "                dict_a.update(dict_w)\n",
    "        merged_list.append(dict_a)\n",
    "    return merged_list"
   ]
  },
  {
   "cell_type": "code",
   "execution_count": 15,
   "id": "a3645643-ab4c-4d7f-bd04-383b248c257e",
   "metadata": {},
   "outputs": [],
   "source": [
    "all_queries = merge_lists(queries1, queries3, queries2, queries) # SO HERE, QUERIES1 CONTAINS QUERY ID AND PUBLICATION INFO, BUT DOESNT PRINT IT OUT....\n",
    "#all_queries"
   ]
  },
  {
   "cell_type": "markdown",
   "id": "33ad2e92-0aec-4261-8ed7-c49849b164e6",
   "metadata": {},
   "source": [
    "### cisi.rel extraction"
   ]
  },
  {
   "cell_type": "code",
   "execution_count": 38,
   "id": "3280e328-d333-4f77-be57-475de94c0ccf",
   "metadata": {},
   "outputs": [
    {
     "name": "stdout",
     "output_type": "stream",
     "text": [
      "False\n"
     ]
    }
   ],
   "source": [
    "import pandas as pd\n",
    "rel_df = pd.read_csv('CISI.REL', names=['query_id', 'document_id', 'relevance', 'score'], delimiter='\\s+')\n",
    "print(rel_df.isnull().values.any())"
   ]
  },
  {
   "cell_type": "code",
   "execution_count": 39,
   "id": "218e7d67-af68-4922-9796-643cc154110e",
   "metadata": {},
   "outputs": [
    {
     "data": {
      "text/html": [
       "<div>\n",
       "<style scoped>\n",
       "    .dataframe tbody tr th:only-of-type {\n",
       "        vertical-align: middle;\n",
       "    }\n",
       "\n",
       "    .dataframe tbody tr th {\n",
       "        vertical-align: top;\n",
       "    }\n",
       "\n",
       "    .dataframe thead th {\n",
       "        text-align: right;\n",
       "    }\n",
       "</style>\n",
       "<table border=\"1\" class=\"dataframe\">\n",
       "  <thead>\n",
       "    <tr style=\"text-align: right;\">\n",
       "      <th></th>\n",
       "      <th>query_id</th>\n",
       "      <th>document_id</th>\n",
       "      <th>relevance</th>\n",
       "      <th>score</th>\n",
       "    </tr>\n",
       "  </thead>\n",
       "  <tbody>\n",
       "    <tr>\n",
       "      <th>0</th>\n",
       "      <td>1</td>\n",
       "      <td>28</td>\n",
       "      <td>0</td>\n",
       "      <td>0.0</td>\n",
       "    </tr>\n",
       "    <tr>\n",
       "      <th>1</th>\n",
       "      <td>1</td>\n",
       "      <td>35</td>\n",
       "      <td>0</td>\n",
       "      <td>0.0</td>\n",
       "    </tr>\n",
       "    <tr>\n",
       "      <th>2</th>\n",
       "      <td>1</td>\n",
       "      <td>38</td>\n",
       "      <td>0</td>\n",
       "      <td>0.0</td>\n",
       "    </tr>\n",
       "    <tr>\n",
       "      <th>3</th>\n",
       "      <td>1</td>\n",
       "      <td>42</td>\n",
       "      <td>0</td>\n",
       "      <td>0.0</td>\n",
       "    </tr>\n",
       "    <tr>\n",
       "      <th>4</th>\n",
       "      <td>1</td>\n",
       "      <td>43</td>\n",
       "      <td>0</td>\n",
       "      <td>0.0</td>\n",
       "    </tr>\n",
       "    <tr>\n",
       "      <th>...</th>\n",
       "      <td>...</td>\n",
       "      <td>...</td>\n",
       "      <td>...</td>\n",
       "      <td>...</td>\n",
       "    </tr>\n",
       "    <tr>\n",
       "      <th>3109</th>\n",
       "      <td>111</td>\n",
       "      <td>422</td>\n",
       "      <td>0</td>\n",
       "      <td>0.0</td>\n",
       "    </tr>\n",
       "    <tr>\n",
       "      <th>3110</th>\n",
       "      <td>111</td>\n",
       "      <td>448</td>\n",
       "      <td>0</td>\n",
       "      <td>0.0</td>\n",
       "    </tr>\n",
       "    <tr>\n",
       "      <th>3111</th>\n",
       "      <td>111</td>\n",
       "      <td>485</td>\n",
       "      <td>0</td>\n",
       "      <td>0.0</td>\n",
       "    </tr>\n",
       "    <tr>\n",
       "      <th>3112</th>\n",
       "      <td>111</td>\n",
       "      <td>503</td>\n",
       "      <td>0</td>\n",
       "      <td>0.0</td>\n",
       "    </tr>\n",
       "    <tr>\n",
       "      <th>3113</th>\n",
       "      <td>111</td>\n",
       "      <td>509</td>\n",
       "      <td>0</td>\n",
       "      <td>0.0</td>\n",
       "    </tr>\n",
       "  </tbody>\n",
       "</table>\n",
       "<p>3114 rows × 4 columns</p>\n",
       "</div>"
      ],
      "text/plain": [
       "      query_id  document_id  relevance  score\n",
       "0            1           28          0    0.0\n",
       "1            1           35          0    0.0\n",
       "2            1           38          0    0.0\n",
       "3            1           42          0    0.0\n",
       "4            1           43          0    0.0\n",
       "...        ...          ...        ...    ...\n",
       "3109       111          422          0    0.0\n",
       "3110       111          448          0    0.0\n",
       "3111       111          485          0    0.0\n",
       "3112       111          503          0    0.0\n",
       "3113       111          509          0    0.0\n",
       "\n",
       "[3114 rows x 4 columns]"
      ]
     },
     "execution_count": 39,
     "metadata": {},
     "output_type": "execute_result"
    }
   ],
   "source": [
    "rel_df"
   ]
  }
 ],
 "metadata": {
  "kernelspec": {
   "display_name": "Python 3 (ipykernel)",
   "language": "python",
   "name": "python3"
  },
  "language_info": {
   "codemirror_mode": {
    "name": "ipython",
    "version": 3
   },
   "file_extension": ".py",
   "mimetype": "text/x-python",
   "name": "python",
   "nbconvert_exporter": "python",
   "pygments_lexer": "ipython3",
   "version": "3.9.13"
  }
 },
 "nbformat": 4,
 "nbformat_minor": 5
}
