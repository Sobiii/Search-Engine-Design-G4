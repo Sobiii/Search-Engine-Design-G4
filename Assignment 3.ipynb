{
 "cells": [
  {
   "cell_type": "markdown",
   "id": "edcffacb-caf3-42f2-bb1d-cbae9059997f",
   "metadata": {
    "tags": []
   },
   "source": [
    "# extraction"
   ]
  },
  {
   "cell_type": "code",
   "execution_count": 77,
   "id": "791e1acc-ef3a-4272-9780-c8da9533d9b7",
   "metadata": {},
   "outputs": [],
   "source": [
    "import os as os\n",
    "\n",
    "# get the current working directory\n",
    "notebook_dir = os.getcwd()\n",
    "\n",
    "# define paths to CISI dataset files\n",
    "cisi_all_path = os.path.join(notebook_dir, 'CISI.ALL')\n",
    "cisi_qry_path = os.path.join(notebook_dir, 'CISI.QRY')\n",
    "cisi_rel_path = os.path.join(notebook_dir, 'CISI.REL')"
   ]
  },
  {
   "cell_type": "code",
   "execution_count": 78,
   "id": "166ddfe3-0448-43ea-8cf9-716703ec4cb0",
   "metadata": {},
   "outputs": [],
   "source": [
    "# extraction function for the CISI.ALL file\n",
    "def extraction(file_name_path):\n",
    "    with open(file_name_path) as f:\n",
    "        file_lines = f.readlines()\n",
    "\n",
    "    documents = []\n",
    "    i = 0\n",
    "    while i < len(file_lines):\n",
    "        if file_lines[i].startswith(\".I\"):\n",
    "            document_id = int(file_lines[i][3:]) # used slicing here to differentiate. maybe other methods too similar to online solutions\n",
    "            if file_lines[i+1].startswith(\".T\") and file_lines[i+3].startswith(\".A\"):\n",
    "                title = file_lines[i+2][:].strip()\n",
    "            else:\n",
    "                title = file_lines[i+2].strip() + \" \" + file_lines[i+3].strip()\n",
    "            if file_lines[i+3].startswith(\".A\"):\n",
    "                author = file_lines[i+4][:].strip()\n",
    "            else:\n",
    "                author = file_lines[i+5][:].strip()\n",
    "            abstract_start = i+6\n",
    "            for t in range(i+6, len(file_lines)):\n",
    "                if file_lines[t].startswith(\".X\"):\n",
    "                    abstract_end = t\n",
    "                    break\n",
    "            else:\n",
    "                abstract_end = len(file_lines)\n",
    "            abstract = \" \".join(file_lines[abstract_start:abstract_end]).strip().replace('\\n', ' ')\n",
    "            abstract = \" \".join(abstract.split())\n",
    "            documents.append({\"document_id\": document_id, \"title\": title, \"author\": author, \"abstract\": abstract})\n",
    "            i = abstract_end\n",
    "        else:\n",
    "            i += 1\n",
    "\n",
    "    return documents"
   ]
  },
  {
   "cell_type": "markdown",
   "id": "78f03c13-d854-4f28-b6cd-64720f8838c5",
   "metadata": {},
   "source": [
    "alternative - the entire text from .I to .X can be input into the dictionary and skip separating it into \"author, title AND abstract\" - just use document ID and \"info\" containing everything else\n",
    "currently looking into this but cba"
   ]
  },
  {
   "cell_type": "code",
   "execution_count": 79,
   "id": "a1f02e2e-ce6a-456a-8b78-18ea174aea95",
   "metadata": {},
   "outputs": [],
   "source": [
    "documents = extraction(cisi_all_path)"
   ]
  },
  {
   "cell_type": "code",
   "execution_count": null,
   "id": "498f2257-7ee2-46f8-8c98-30f398968ba7",
   "metadata": {},
   "outputs": [],
   "source": [
    "documents # output is cleared here because this prints out all 1400 documents "
   ]
  },
  {
   "cell_type": "code",
   "execution_count": 84,
   "id": "5a610995-6acc-4b56-97bd-d60036e2d6cd",
   "metadata": {},
   "outputs": [],
   "source": [
    "# query extraction for the CISI.QRY file\n",
    "def extraction_query(file_name_path):\n",
    "    with open(file_name_path) as f:\n",
    "        file_lines = f.readlines()\n",
    "\n",
    "    queries = []\n",
    "    i = 0\n",
    "    while i < len(file_lines):\n",
    "        if file_lines[i].startswith(\".I\"):\n",
    "            query_id = int(file_lines[i][3:])\n",
    "            if file_lines[i+1].startswith(\".W\"):\n",
    "                query_text = file_lines[i+2].strip()\n",
    "                for t in range(i+3, len(file_lines)):\n",
    "                    if file_lines[t].startswith(\".I\"):\n",
    "                        break\n",
    "                    query_text += \" \" + file_lines[t].strip()\n",
    "            else:\n",
    "                query_text = \"\"\n",
    "            queries.append({\"query_id\": query_id, \"query_text\": query_text})\n",
    "        i += 1\n",
    "\n",
    "    return queries"
   ]
  },
  {
   "cell_type": "code",
   "execution_count": 85,
   "id": "a614a1a7-b3dd-416a-8e47-438fcd80fd7a",
   "metadata": {},
   "outputs": [],
   "source": [
    "queries = extraction_query(cisi_qry_path)"
   ]
  },
  {
   "cell_type": "code",
   "execution_count": null,
   "id": "788255d4-3250-4570-ad13-f5c340519772",
   "metadata": {},
   "outputs": [],
   "source": [
    "queries # again output is cleared"
   ]
  },
  {
   "cell_type": "code",
   "execution_count": 87,
   "id": "7be19828-7e54-4ce9-9672-982b88b9924d",
   "metadata": {},
   "outputs": [],
   "source": [
    "#to do list\n",
    "#make sure author extraction works with multiple authors\n",
    "#add rule to abstract where the .W is removed\n",
    "#double check all abstracts and see if all the lines are actually included"
   ]
  },
  {
   "cell_type": "code",
   "execution_count": 87,
   "id": "dbde7c0d-6cc5-4047-9281-ef842209ddef",
   "metadata": {},
   "outputs": [],
   "source": [
    "#complete extraction for the CISI.REL file"
   ]
  },
  {
   "cell_type": "markdown",
   "id": "9a2192fa-989e-4e43-ae3a-f8792ef33e4f",
   "metadata": {},
   "source": [
    "# preprocessing"
   ]
  },
  {
   "cell_type": "code",
   "execution_count": null,
   "id": "fabb7313-46da-4098-84da-204d1bd3778d",
   "metadata": {},
   "outputs": [],
   "source": []
  },
  {
   "cell_type": "markdown",
   "id": "f52430d7-c6e4-486a-8eff-f3bc5c241e2a",
   "metadata": {},
   "source": [
    "- tokenize all the words in the dictionary\n",
    "- remove stopwords\n",
    "- use stemming/don't use stemming (will this increase performance?)"
   ]
  },
  {
   "cell_type": "markdown",
   "id": "28091b9a-1a6f-4563-a01b-5f5e680fa008",
   "metadata": {},
   "source": [
    "# indexing"
   ]
  },
  {
   "cell_type": "markdown",
   "id": "9937d43e-72be-4b10-8356-8408de85b85e",
   "metadata": {},
   "source": [
    " - use elasticsearch to index documents and terms"
   ]
  },
  {
   "cell_type": "markdown",
   "id": "8e9da7af-513a-4587-aa57-b2f44633b886",
   "metadata": {},
   "source": [
    "# retrieval"
   ]
  },
  {
   "cell_type": "markdown",
   "id": "63f4fa06-c518-49c9-a22a-a4f4bfb41a36",
   "metadata": {},
   "source": [
    "- create bm25 model\n",
    "- create vsm model\n",
    "- design query parser/processor"
   ]
  },
  {
   "cell_type": "markdown",
   "id": "1567629e-e06c-4f00-aa1a-b7199e478638",
   "metadata": {},
   "source": [
    "# evaluation"
   ]
  },
  {
   "cell_type": "markdown",
   "id": "8c43a4d1-5a9e-4441-b8b7-c1ecb56435bf",
   "metadata": {},
   "source": [
    "- somehow use the cisi.qry file to compare our search engine to the relevance judgements (idk what this file is)\n",
    "- obtain the outputs and write a function that calculates the precision, recall and f1 metrics\n",
    "- write a simple function that takes these metrics and puts them into a bar chart"
   ]
  },
  {
   "cell_type": "markdown",
   "id": "1dda8c45-1085-4535-8f88-9d3294bc9081",
   "metadata": {},
   "source": [
    "- also obtain the MAP for the cross-model comparison\n",
    "- write a simple function that takes the MAP and puts it into a bar chart"
   ]
  },
  {
   "cell_type": "markdown",
   "id": "8c6ade7c-b6ce-4710-8158-92f3151fbcb8",
   "metadata": {},
   "source": [
    "1. which model performed the best\n",
    "2. were there exceptions/unusual findings\n",
    "3. conclusion/findings\n",
    "4. FUTURE - OPTIMISATION\n",
    "    - is there room for fine-tuning/optimisation\n",
    "    - give details of this\n",
    "    - implement it if there is time"
   ]
  },
  {
   "cell_type": "code",
   "execution_count": null,
   "id": "5636134c-24bf-4325-bdb1-131720203fff",
   "metadata": {},
   "outputs": [],
   "source": []
  }
 ],
 "metadata": {
  "kernelspec": {
   "display_name": "Python 3 (ipykernel)",
   "language": "python",
   "name": "python3"
  },
  "language_info": {
   "codemirror_mode": {
    "name": "ipython",
    "version": 3
   },
   "file_extension": ".py",
   "mimetype": "text/x-python",
   "name": "python",
   "nbconvert_exporter": "python",
   "pygments_lexer": "ipython3",
   "version": "3.9.13"
  }
 },
 "nbformat": 4,
 "nbformat_minor": 5
}
