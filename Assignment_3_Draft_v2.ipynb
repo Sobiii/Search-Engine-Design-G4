{
  "cells": [
    {
      "cell_type": "markdown",
      "id": "a44ce63f-4719-49a4-ba56-1ed8b314dfc4",
      "metadata": {
        "id": "a44ce63f-4719-49a4-ba56-1ed8b314dfc4"
      },
      "source": [
        "# **Data Loading and Extraction**"
      ]
    },
    {
      "cell_type": "markdown",
      "source": [
        "The section below extracts the 3 files from the CISI data collection:\n",
        "- CISI.ALL: containing information about the documents.\n",
        "- CISI.QRY: containing a list of queries to be executed against our retrieval system.\n",
        "- CISI.REL: contains appropriate relevance assessments to be used in the evaluation of our models.\n"
      ],
      "metadata": {
        "id": "3VUTlXKW79gm"
      },
      "id": "3VUTlXKW79gm"
    },
    {
      "cell_type": "markdown",
      "source": [
        "##### Loading the files"
      ],
      "metadata": {
        "id": "1IZXxp8T8trn"
      },
      "id": "1IZXxp8T8trn"
    },
    {
      "cell_type": "code",
      "execution_count": 1,
      "id": "d44a2f7e-1aee-4ae9-87f3-da8a9a7628b2",
      "metadata": {
        "id": "d44a2f7e-1aee-4ae9-87f3-da8a9a7628b2"
      },
      "outputs": [],
      "source": [
        "import os as os\n",
        "import re\n",
        "\n",
        "# gets the current working directory\n",
        "directory = os.getcwd()\n",
        "\n",
        "# defines paths to CISI dataset files\n",
        "cisi_all_path = os.path.join(directory, 'CISI.ALL')\n",
        "cisi_qry_path = os.path.join(directory, 'CISI.QRY')\n",
        "cisi_rel_path = os.path.join(directory, 'CISI.REL')"
      ]
    },
    {
      "cell_type": "markdown",
      "id": "f3d54de2-c44f-467a-9a51-463baecff1c3",
      "metadata": {
        "id": "f3d54de2-c44f-467a-9a51-463baecff1c3"
      },
      "source": [
        "##### CISI.ALL Extraction"
      ]
    },
    {
      "cell_type": "code",
      "execution_count": 2,
      "id": "fa9c956d-e50c-48d1-ab5e-3722a19d7614",
      "metadata": {
        "id": "fa9c956d-e50c-48d1-ab5e-3722a19d7614"
      },
      "outputs": [],
      "source": [
        "# function extracting text in the CISI.ALL file line by line and populating id, title, author, abstract and publication information fields\n",
        "def all_extraction(file_name_path):\n",
        "    with open(file_name_path) as f:\n",
        "        file_lines = f.readlines()\n",
        "\n",
        "    doc_ids = []\n",
        "    documents = []\n",
        "    i = 0\n",
        "    while i < len(file_lines):\n",
        "        if file_lines[i].startswith(\".I\"):\n",
        "            doc_id = file_lines[i].split()[1]\n",
        "            doc_ids.append(doc_id)\n",
        "            if file_lines[i+1].startswith(\".T\") and file_lines[i+3].startswith(\".A\"):\n",
        "                title = file_lines[i+2][:].strip()\n",
        "            else:\n",
        "                title = file_lines[i+2].strip() + \" \" + file_lines[i+3].strip()\n",
        "            authors = \"\"\n",
        "            if any([line.startswith(\".A\") for line in file_lines[i+1:]]):\n",
        "                author_start = i+4\n",
        "                author_end = author_start\n",
        "                while author_end < len(file_lines) and not any([file_lines[author_end].startswith(tag) for tag in [\".T\", \".B\", \".W\", \".Y\"]]):\n",
        "                    author_end += 1\n",
        "                authors = \" \".join([file_lines[j].strip() for j in range(author_start, author_end)]).strip()\n",
        "                authors = re.sub(r\"^\\s*\\.\\s*A\\s*\", \"\", authors)\n",
        "                abstract_start = author_end\n",
        "            else:\n",
        "                abstract_start = i+4\n",
        "\n",
        "            for t in range(i+4, len(file_lines)):\n",
        "                if file_lines[t].startswith(\".X\"):\n",
        "                    abstract_end = t\n",
        "                    break\n",
        "            else:\n",
        "                abstract_end = len(file_lines)\n",
        "            abstract = \" \".join(file_lines[abstract_start:abstract_end]).strip().replace('\\n', ' ')\n",
        "            abstract = re.sub(r\"^\\s*\\.\\s*W\\s*\", \"\", abstract)\n",
        "            abstract = \" \".join(abstract.split())\n",
        "            source = re.search(r\"\\.B\\s+(.*)\\.W\", abstract)\n",
        "            if source:\n",
        "                source = source.group(1)\n",
        "                source = re.sub(r\"^\\s*\\.\\s*A\\s*\", \"\", source)\n",
        "                source = re.sub(r\"^\\s*\\.\\s*B\\s*\", \"\", source)\n",
        "            else:\n",
        "                source = \"\"\n",
        "            abstract = re.sub(r\"^\\s*\\.\\s*B\\s*(.*)\\.W\", \"\", abstract)\n",
        "            abstract = \" \".join(abstract.split())\n",
        "            year = re.search(r\"\\.Y\\s+(\\d{4})\", abstract)\n",
        "            if year:\n",
        "                year = int(year.group(1))\n",
        "            else:\n",
        "                year = \"\"\n",
        "            abstract = re.sub(r\"^\\s*\\.\\s*Y\\s*\\d{4}\\s*\", \"\", abstract)\n",
        "            abstract = \" \".join(abstract.split())\n",
        "            documents.append({\"document_id\": doc_id, \"title\": title, \"authors\": authors, \"abstract\": abstract, \"source\": source, \"year\": year})\n",
        "            i = abstract_end\n",
        "        else:\n",
        "            i += 1\n",
        "\n",
        "    return documents"
      ]
    },
    {
      "cell_type": "code",
      "execution_count": 3,
      "id": "399ab28b-7185-4568-bc6d-0407b05b6b02",
      "metadata": {
        "id": "399ab28b-7185-4568-bc6d-0407b05b6b02"
      },
      "outputs": [],
      "source": [
        "documents = all_extraction(cisi_all_path)\n",
        "#documents"
      ]
    },
    {
      "cell_type": "markdown",
      "id": "8340675c-b2e9-4b5a-8df7-6bf61d9e7d05",
      "metadata": {
        "id": "8340675c-b2e9-4b5a-8df7-6bf61d9e7d05"
      },
      "source": [
        "##### CISI.QRY Extraction"
      ]
    },
    {
      "cell_type": "markdown",
      "source": [
        "**sabos query extraction - not ran**"
      ],
      "metadata": {
        "id": "yFxId37PbH4i"
      },
      "id": "yFxId37PbH4i"
    },
    {
      "cell_type": "code",
      "execution_count": null,
      "id": "621be0f8-8b01-4cef-b0d7-64ea84e6f90d",
      "metadata": {
        "id": "621be0f8-8b01-4cef-b0d7-64ea84e6f90d"
      },
      "outputs": [],
      "source": [
        "# function extracting data from CISI.QRY file line by line\n",
        "def qry_extraction(filename_path, tag):\n",
        "    with open (filename_path,'r') as f:\n",
        "        all_text = f.read().replace('\\n',\" \")\n",
        "        file_lines = re.split(tag,all_text)\n",
        "        file_lines.pop(0)\n",
        "        return file_lines"
      ]
    },
    {
      "cell_type": "code",
      "execution_count": null,
      "id": "74dd9e05-41bf-4070-88d7-c1fcf3ae088c",
      "metadata": {
        "id": "74dd9e05-41bf-4070-88d7-c1fcf3ae088c"
      },
      "outputs": [],
      "source": [
        "# organising text into query id and query text\n",
        "doc_id_tag = re.compile('\\.I.')\n",
        "cisi_qry = qry_extraction(cisi_qry_path, doc_id_tag) \n",
        "queries = []\n",
        "for i, d in enumerate(cisi_qry):\n",
        "    query_id, query_text = d.split(' ', 1)\n",
        "    query_text = query_text.split('.W', 1)[1].strip()\n",
        "    query_text = re.sub(r'\\.B\\s.*', '', query_text).strip()\n",
        "    queries.append({'query_id': int(query_id), 'query_text': query_text})"
      ]
    },
    {
      "cell_type": "code",
      "execution_count": null,
      "id": "ab45a6bb-e9e7-43e9-89de-d244fc8b26d0",
      "metadata": {
        "id": "ab45a6bb-e9e7-43e9-89de-d244fc8b26d0"
      },
      "outputs": [],
      "source": [
        "#queries"
      ]
    },
    {
      "cell_type": "markdown",
      "source": [
        "**sobs query extraction - ran**"
      ],
      "metadata": {
        "id": "xaUg1TGhbL9r"
      },
      "id": "xaUg1TGhbL9r"
    },
    {
      "cell_type": "code",
      "source": [
        "# query extraction from CISI.QRY file (1st 57 queries only)\n",
        "def extraction_query(file_name_path):\n",
        "    with open(file_name_path) as f:\n",
        "        file_lines = f.readlines()\n",
        "\n",
        "    queries_1 = []\n",
        "    i = 0\n",
        "    while i < len(file_lines):\n",
        "        if file_lines[i].startswith(\".I\"):\n",
        "            query_id = int(file_lines[i][3:])\n",
        "            if query_id > 57:\n",
        "                break\n",
        "            if file_lines[i+1].startswith(\".W\"):\n",
        "                query_text = file_lines[i+2].strip()\n",
        "                for t in range(i+3, len(file_lines)):\n",
        "                    if file_lines[t].startswith(\".I\"):\n",
        "                        break\n",
        "                    query_text += \" \" + file_lines[t].strip()\n",
        "            else:\n",
        "                query_text = \"\"\n",
        "            queries_1.append({\"query_id\": query_id, \"query_text\": query_text})\n",
        "        i += 1\n",
        "\n",
        "    return queries_1\n",
        "     "
      ],
      "metadata": {
        "id": "CqM3U2rHYsFS"
      },
      "id": "CqM3U2rHYsFS",
      "execution_count": 4,
      "outputs": []
    },
    {
      "cell_type": "code",
      "source": [
        "# query extraction from CISI.QRY file (58th query onwards)\n",
        "def extraction_remaining_queries(file_name_path):\n",
        "    with open(file_name_path) as f:\n",
        "        file_lines = f.readlines()\n",
        "\n",
        "    queries = []\n",
        "    i = 0\n",
        "    while i < len(file_lines):\n",
        "        if file_lines[i].startswith(\".I\"):\n",
        "            query_id = int(file_lines[i][3:])\n",
        "            if query_id > 57:\n",
        "                query_title = \"\"\n",
        "                query_author = \"\"\n",
        "                query_text = \"\"\n",
        "                query_source = \"\"\n",
        "                found_text_field = False\n",
        "                found_source_field = False\n",
        "                for t in range(i+1, len(file_lines)):\n",
        "                    if file_lines[t].startswith(\".I\"):\n",
        "                        break\n",
        "                    elif file_lines[t].startswith(\".T\"):\n",
        "                        query_title += file_lines[t][3:].strip()\n",
        "                        # Check if the next line starts with .A and the line after that starts with .T\n",
        "                        next_t = t+1\n",
        "                        if next_t < len(file_lines) and file_lines[next_t].startswith(\".A\") and (next_t+1) < len(file_lines) and file_lines[next_t+1].startswith(\".T\"):\n",
        "                            query_title += \" \" + file_lines[next_t].strip()\n",
        "                            next_t += 1\n",
        "                        # Check if the next line also contains title text\n",
        "                        while next_t < len(file_lines) and not file_lines[next_t].startswith(\".I\") and not file_lines[next_t].startswith(\".A\") and not file_lines[next_t].startswith(\".W\") and not file_lines[next_t].startswith(\".B\"):\n",
        "                            query_title += \" \" + file_lines[next_t].strip()\n",
        "                            next_t += 1\n",
        "                    elif file_lines[t].startswith(\".A\"):\n",
        "                        query_author += file_lines[t+1][3:].strip()\n",
        "                        # Check if the next line also contains author text\n",
        "                        next_t = t+1\n",
        "                        while next_t < len(file_lines) and not file_lines[next_t].startswith(\".I\") and not file_lines[next_t].startswith(\".T\") and not file_lines[next_t].startswith(\".W\") and not file_lines[next_t].startswith(\".B\") and not file_lines[next_t].startswith(\".A\"):\n",
        "                            query_author += \", \" + file_lines[next_t].strip()\n",
        "                            next_t += 1\n",
        "                            query_author += \", \" + file_lines[next_t].strip()\n",
        "                            next_t += 1\n",
        "                    elif file_lines[t].startswith(\".W\"):\n",
        "                        found_text_field = True\n",
        "                        query_text = re.sub(r'^\\.W\\s*', '', file_lines[t].strip())  # Use regex to remove \".W\" tag from the beginning of the line\n",
        "                        for u in range(t+2, len(file_lines)):\n",
        "                            if file_lines[u].startswith(\".I\") or file_lines[u].startswith(\".B\"):\n",
        "                                break\n",
        "                            query_text += \" \" + file_lines[u].strip()\n",
        "                    elif file_lines[t].startswith(\".B\"):\n",
        "                        found_source_field = True\n",
        "                        query_source = file_lines[t][3:].strip()\n",
        "                        for u in range(t+1, len(file_lines)):\n",
        "                            if file_lines[u].startswith(\".I\"):\n",
        "                                break\n",
        "                            query_source += \" \" + file_lines[u].strip()\n",
        "                    elif not found_text_field and not found_source_field:\n",
        "                        # Assume any field that appears before the .W and .B field is either the title or author\n",
        "                        if not query_title:\n",
        "                            query_title = file_lines[t].strip()\n",
        "                        elif query_author:\n",
        "                            query_author = file_lines[t-1].strip()\n",
        "                            query_author += file_lines[t].strip()\n",
        "                queries.append({\"query_id\": query_id, \"query_title\": query_title, \"query_author\": query_author, \"query_text\": query_text, \"query_source\": query_source})\n",
        "        i += 1\n",
        "\n",
        "    return queries"
      ],
      "metadata": {
        "id": "yx7Vl5MnYyAy"
      },
      "id": "yx7Vl5MnYyAy",
      "execution_count": 5,
      "outputs": []
    },
    {
      "cell_type": "code",
      "source": [
        "queries_1 = extraction_query(cisi_qry_path)\n",
        "queries_2 = extraction_remaining_queries(cisi_qry_path)\n",
        "queries_all = queries_1 + queries_2"
      ],
      "metadata": {
        "id": "5t11aYjdY13i"
      },
      "id": "5t11aYjdY13i",
      "execution_count": 6,
      "outputs": []
    },
    {
      "cell_type": "markdown",
      "id": "33ad2e92-0aec-4261-8ed7-c49849b164e6",
      "metadata": {
        "id": "33ad2e92-0aec-4261-8ed7-c49849b164e6"
      },
      "source": [
        "##### CISI.REL Extraction"
      ]
    },
    {
      "cell_type": "code",
      "execution_count": 7,
      "id": "3280e328-d333-4f77-be57-475de94c0ccf",
      "metadata": {
        "colab": {
          "base_uri": "https://localhost:8080/",
          "height": 224
        },
        "id": "3280e328-d333-4f77-be57-475de94c0ccf",
        "outputId": "730e05c4-73df-468c-ea2b-544ab8c99299"
      },
      "outputs": [
        {
          "output_type": "stream",
          "name": "stdout",
          "text": [
            "False\n"
          ]
        },
        {
          "output_type": "execute_result",
          "data": {
            "text/plain": [
              "   query_id  document_id\n",
              "0         1           28\n",
              "1         1           35\n",
              "2         1           38\n",
              "3         1           42\n",
              "4         1           43"
            ],
            "text/html": [
              "\n",
              "  <div id=\"df-19447b51-b758-44da-952d-21167bbc1bfa\">\n",
              "    <div class=\"colab-df-container\">\n",
              "      <div>\n",
              "<style scoped>\n",
              "    .dataframe tbody tr th:only-of-type {\n",
              "        vertical-align: middle;\n",
              "    }\n",
              "\n",
              "    .dataframe tbody tr th {\n",
              "        vertical-align: top;\n",
              "    }\n",
              "\n",
              "    .dataframe thead th {\n",
              "        text-align: right;\n",
              "    }\n",
              "</style>\n",
              "<table border=\"1\" class=\"dataframe\">\n",
              "  <thead>\n",
              "    <tr style=\"text-align: right;\">\n",
              "      <th></th>\n",
              "      <th>query_id</th>\n",
              "      <th>document_id</th>\n",
              "    </tr>\n",
              "  </thead>\n",
              "  <tbody>\n",
              "    <tr>\n",
              "      <th>0</th>\n",
              "      <td>1</td>\n",
              "      <td>28</td>\n",
              "    </tr>\n",
              "    <tr>\n",
              "      <th>1</th>\n",
              "      <td>1</td>\n",
              "      <td>35</td>\n",
              "    </tr>\n",
              "    <tr>\n",
              "      <th>2</th>\n",
              "      <td>1</td>\n",
              "      <td>38</td>\n",
              "    </tr>\n",
              "    <tr>\n",
              "      <th>3</th>\n",
              "      <td>1</td>\n",
              "      <td>42</td>\n",
              "    </tr>\n",
              "    <tr>\n",
              "      <th>4</th>\n",
              "      <td>1</td>\n",
              "      <td>43</td>\n",
              "    </tr>\n",
              "  </tbody>\n",
              "</table>\n",
              "</div>\n",
              "      <button class=\"colab-df-convert\" onclick=\"convertToInteractive('df-19447b51-b758-44da-952d-21167bbc1bfa')\"\n",
              "              title=\"Convert this dataframe to an interactive table.\"\n",
              "              style=\"display:none;\">\n",
              "        \n",
              "  <svg xmlns=\"http://www.w3.org/2000/svg\" height=\"24px\"viewBox=\"0 0 24 24\"\n",
              "       width=\"24px\">\n",
              "    <path d=\"M0 0h24v24H0V0z\" fill=\"none\"/>\n",
              "    <path d=\"M18.56 5.44l.94 2.06.94-2.06 2.06-.94-2.06-.94-.94-2.06-.94 2.06-2.06.94zm-11 1L8.5 8.5l.94-2.06 2.06-.94-2.06-.94L8.5 2.5l-.94 2.06-2.06.94zm10 10l.94 2.06.94-2.06 2.06-.94-2.06-.94-.94-2.06-.94 2.06-2.06.94z\"/><path d=\"M17.41 7.96l-1.37-1.37c-.4-.4-.92-.59-1.43-.59-.52 0-1.04.2-1.43.59L10.3 9.45l-7.72 7.72c-.78.78-.78 2.05 0 2.83L4 21.41c.39.39.9.59 1.41.59.51 0 1.02-.2 1.41-.59l7.78-7.78 2.81-2.81c.8-.78.8-2.07 0-2.86zM5.41 20L4 18.59l7.72-7.72 1.47 1.35L5.41 20z\"/>\n",
              "  </svg>\n",
              "      </button>\n",
              "      \n",
              "  <style>\n",
              "    .colab-df-container {\n",
              "      display:flex;\n",
              "      flex-wrap:wrap;\n",
              "      gap: 12px;\n",
              "    }\n",
              "\n",
              "    .colab-df-convert {\n",
              "      background-color: #E8F0FE;\n",
              "      border: none;\n",
              "      border-radius: 50%;\n",
              "      cursor: pointer;\n",
              "      display: none;\n",
              "      fill: #1967D2;\n",
              "      height: 32px;\n",
              "      padding: 0 0 0 0;\n",
              "      width: 32px;\n",
              "    }\n",
              "\n",
              "    .colab-df-convert:hover {\n",
              "      background-color: #E2EBFA;\n",
              "      box-shadow: 0px 1px 2px rgba(60, 64, 67, 0.3), 0px 1px 3px 1px rgba(60, 64, 67, 0.15);\n",
              "      fill: #174EA6;\n",
              "    }\n",
              "\n",
              "    [theme=dark] .colab-df-convert {\n",
              "      background-color: #3B4455;\n",
              "      fill: #D2E3FC;\n",
              "    }\n",
              "\n",
              "    [theme=dark] .colab-df-convert:hover {\n",
              "      background-color: #434B5C;\n",
              "      box-shadow: 0px 1px 3px 1px rgba(0, 0, 0, 0.15);\n",
              "      filter: drop-shadow(0px 1px 2px rgba(0, 0, 0, 0.3));\n",
              "      fill: #FFFFFF;\n",
              "    }\n",
              "  </style>\n",
              "\n",
              "      <script>\n",
              "        const buttonEl =\n",
              "          document.querySelector('#df-19447b51-b758-44da-952d-21167bbc1bfa button.colab-df-convert');\n",
              "        buttonEl.style.display =\n",
              "          google.colab.kernel.accessAllowed ? 'block' : 'none';\n",
              "\n",
              "        async function convertToInteractive(key) {\n",
              "          const element = document.querySelector('#df-19447b51-b758-44da-952d-21167bbc1bfa');\n",
              "          const dataTable =\n",
              "            await google.colab.kernel.invokeFunction('convertToInteractive',\n",
              "                                                     [key], {});\n",
              "          if (!dataTable) return;\n",
              "\n",
              "          const docLinkHtml = 'Like what you see? Visit the ' +\n",
              "            '<a target=\"_blank\" href=https://colab.research.google.com/notebooks/data_table.ipynb>data table notebook</a>'\n",
              "            + ' to learn more about interactive tables.';\n",
              "          element.innerHTML = '';\n",
              "          dataTable['output_type'] = 'display_data';\n",
              "          await google.colab.output.renderOutput(dataTable, element);\n",
              "          const docLink = document.createElement('div');\n",
              "          docLink.innerHTML = docLinkHtml;\n",
              "          element.appendChild(docLink);\n",
              "        }\n",
              "      </script>\n",
              "    </div>\n",
              "  </div>\n",
              "  "
            ]
          },
          "metadata": {},
          "execution_count": 7
        }
      ],
      "source": [
        "import pandas as pd\n",
        "rel_df = pd.read_csv('CISI.REL', names=['query_id', 'document_id', 'relevance', 'score'], delimiter='\\s+')\n",
        "rel_df = rel_df.drop(columns=['relevance', 'score'])\n",
        "print(rel_df.isnull().values.any()) # checking for any NaN values or errors in the extraction\n",
        "rel_df.head()"
      ]
    },
    {
      "cell_type": "code",
      "source": [
        "# converting dataframe into a dictionary using query id as key and document ids as values\n",
        "query_ids = rel_df['query_id'].unique()\n",
        "rel_dict = {}\n",
        "\n",
        "for query_id in query_ids:\n",
        "    documents1 = rel_df[rel_df['query_id'] == query_id]['document_id'].tolist()\n",
        "    rel_dict[query_id] = documents1\n",
        "\n",
        "# converting our dictionary into a list for easier visualisation\n",
        "rel_list = [(k, v) for k, v in rel_dict.items()]"
      ],
      "metadata": {
        "id": "GRZmd2cG-Tmn"
      },
      "execution_count": 8,
      "outputs": [],
      "id": "GRZmd2cG-Tmn"
    },
    {
      "cell_type": "code",
      "source": [
        "# reformatting 'rel_list' for easier visualisation\n",
        "relevant_documents = [(query_id, document_ids) for query_id, document_ids in rel_list]\n",
        "relevant_documents = [{'query_id': query_id, 'relevant_document_ids': document_ids} for query_id, document_ids in rel_list]\n",
        "relevant_documents[2] # print out the first query and its top 10 results just to see the formatting"
      ],
      "metadata": {
        "colab": {
          "base_uri": "https://localhost:8080/"
        },
        "id": "nz4qdpoABPI8",
        "outputId": "52c90b66-cf24-4d23-b3dd-c8476708533a"
      },
      "id": "nz4qdpoABPI8",
      "execution_count": 9,
      "outputs": [
        {
          "output_type": "execute_result",
          "data": {
            "text/plain": [
              "{'query_id': 3,\n",
              " 'relevant_document_ids': [60,\n",
              "  85,\n",
              "  114,\n",
              "  123,\n",
              "  126,\n",
              "  131,\n",
              "  133,\n",
              "  136,\n",
              "  138,\n",
              "  140,\n",
              "  346,\n",
              "  359,\n",
              "  363,\n",
              "  372,\n",
              "  412,\n",
              "  445,\n",
              "  454,\n",
              "  461,\n",
              "  463,\n",
              "  469,\n",
              "  532,\n",
              "  537,\n",
              "  540,\n",
              "  553,\n",
              "  554,\n",
              "  555,\n",
              "  585,\n",
              "  590,\n",
              "  599,\n",
              "  640,\n",
              "  660,\n",
              "  664,\n",
              "  803,\n",
              "  901,\n",
              "  909,\n",
              "  911,\n",
              "  1027,\n",
              "  1053,\n",
              "  1169,\n",
              "  1179,\n",
              "  1181,\n",
              "  1190,\n",
              "  1191,\n",
              "  1326]}"
            ]
          },
          "metadata": {},
          "execution_count": 9
        }
      ]
    },
    {
      "cell_type": "markdown",
      "source": [
        "# **Preprocessing the Data**"
      ],
      "metadata": {
        "id": "07EziRhOZ1bL"
      },
      "id": "07EziRhOZ1bL"
    },
    {
      "cell_type": "code",
      "source": [
        "# Importing NLP preprocessing libraries\n",
        "import string\n",
        "import nltk\n",
        "from nltk.corpus import stopwords\n",
        "from nltk.tokenize import word_tokenize\n",
        "from nltk.stem import WordNetLemmatizer\n",
        "\n",
        "nltk.download('punkt')\n",
        "nltk.download('stopwords')\n",
        "nltk.download('wordnet')\n",
        "\n",
        "# Creating corpus\n",
        "stop_words = set(stopwords.words('english'))\n",
        "lemmatizer = WordNetLemmatizer()\n",
        "\n",
        "corpus = []\n",
        "\n",
        "for document in documents:\n",
        "    text = \"\"\n",
        "    if \"title\" in document and document[\"title\"]:\n",
        "        text += document[\"title\"]\n",
        "    if \"authors\" in document and document[\"authors\"]:\n",
        "        text += \" \" + document[\"authors\"]\n",
        "    if \"abstract\" in document and document[\"abstract\"]:\n",
        "        text += \" \" + document[\"abstract\"]\n",
        "    if text:  # only add non-empty strings to corpus\n",
        "        # Remove special characters, numbers, and punctuation marks\n",
        "        text = text.translate(str.maketrans('', '', string.punctuation + string.digits))\n",
        "        # Remove quotation marks\n",
        "        text = text.replace(\"'\", \"\").replace('\"', '')\n",
        "        # Tokenize and convert to lowercase\n",
        "        tokens = word_tokenize(text.lower())\n",
        "        # Remove stop words\n",
        "        filtered_text = [word for word in tokens if word not in stop_words]\n",
        "        # Lemmatize words\n",
        "        lemmatized_text = [lemmatizer.lemmatize(word) for word in filtered_text]\n",
        "        # Join tokens back to form a string\n",
        "        preprocessed_text = ' '.join(lemmatized_text)\n",
        "        corpus.append(preprocessed_text)\n"
      ],
      "metadata": {
        "colab": {
          "base_uri": "https://localhost:8080/"
        },
        "id": "VCakO4roZ0eF",
        "outputId": "fd1c33b7-68ea-4481-f244-ce818e727c77"
      },
      "id": "VCakO4roZ0eF",
      "execution_count": 10,
      "outputs": [
        {
          "output_type": "stream",
          "name": "stderr",
          "text": [
            "[nltk_data] Downloading package punkt to /root/nltk_data...\n",
            "[nltk_data]   Package punkt is already up-to-date!\n",
            "[nltk_data] Downloading package stopwords to /root/nltk_data...\n",
            "[nltk_data]   Package stopwords is already up-to-date!\n",
            "[nltk_data] Downloading package wordnet to /root/nltk_data...\n",
            "[nltk_data]   Package wordnet is already up-to-date!\n"
          ]
        }
      ]
    },
    {
      "cell_type": "code",
      "source": [
        "# Printing the 3rd document from corpus to check against CISI.ALL file\n",
        "print(corpus[2])"
      ],
      "metadata": {
        "colab": {
          "base_uri": "https://localhost:8080/"
        },
        "id": "7yxKdrzlZ4Ow",
        "outputId": "4edaa0f8-ff19-4ac3-b5ab-f6279f4712a5"
      },
      "id": "7yxKdrzlZ4Ow",
      "execution_count": 11,
      "outputs": [
        {
          "output_type": "stream",
          "name": "stdout",
          "text": [
            "two kind power essay bibliographic control wilson p relationship organization control writing organization control knowledge information inevitably enter story writing contain along much else great deal mankind stock knowledge information bibliographical control form power knowledge form power familiar slogan claim bibliographical control certain sense power power power obtain knowledge recorded written form writing simply simple way storehouse knowledge satisfactorily discus bibliographical control simply control knowledge information contained writing\n"
          ]
        }
      ]
    },
    {
      "cell_type": "code",
      "source": [
        "# Preprocessing queries\n",
        "stop_words = set(stopwords.words('english'))\n",
        "lemmatizer = WordNetLemmatizer()\n",
        "\n",
        "preprocessed_queries = []\n",
        "\n",
        "for query in queries_all:\n",
        "    query_text = query['query_text']  # Extract query_text from the dictionary\n",
        "    # Tokenize and convert to lowercase\n",
        "    tokens = word_tokenize(query_text.lower())\n",
        "    # Remove special characters, numbers, and punctuation marks\n",
        "    filtered_query = [word for word in tokens if word not in string.punctuation + string.digits]\n",
        "    # Remove quotation marks\n",
        "    filtered_query = [word.replace(\"'\", \"\").replace('\"', '') for word in filtered_query]\n",
        "    # Remove stop words\n",
        "    filtered_query = [word for word in filtered_query if word not in stop_words]\n",
        "    # Lemmatize words\n",
        "    lemmatized_query = [lemmatizer.lemmatize(word) for word in filtered_query]\n",
        "    # Join tokens back to form a string\n",
        "    preprocessed_query = ' '.join(lemmatized_query)\n",
        "    preprocessed_queries.append(preprocessed_query)\n",
        "    qry_terms_all = preprocessed_queries"
      ],
      "metadata": {
        "id": "IvoPRJbfZ-I3"
      },
      "id": "IvoPRJbfZ-I3",
      "execution_count": 12,
      "outputs": []
    },
    {
      "cell_type": "code",
      "source": [
        "# Printing example queries\n",
        "qry_terms_all[2]"
      ],
      "metadata": {
        "colab": {
          "base_uri": "https://localhost:8080/",
          "height": 36
        },
        "id": "g2d2fIfDa3bT",
        "outputId": "a5925032-c6ed-4221-a0e1-746c70315f1f"
      },
      "id": "g2d2fIfDa3bT",
      "execution_count": 13,
      "outputs": [
        {
          "output_type": "execute_result",
          "data": {
            "text/plain": [
              "'information science give definition possible'"
            ],
            "application/vnd.google.colaboratory.intrinsic+json": {
              "type": "string"
            }
          },
          "metadata": {},
          "execution_count": 13
        }
      ]
    },
    {
      "cell_type": "markdown",
      "metadata": {
        "id": "VB6B6gNpNP21"
      },
      "source": [
        "# **Indexing**"
      ],
      "id": "VB6B6gNpNP21"
    },
    {
      "cell_type": "code",
      "source": [
        "# loading in appropriate packages\n",
        "from sklearn.metrics.pairwise import cosine_similarity\n",
        "from sklearn.feature_extraction.text import CountVectorizer, TfidfTransformer, TfidfVectorizer"
      ],
      "metadata": {
        "id": "ld5EylFHi96J"
      },
      "id": "ld5EylFHi96J",
      "execution_count": 14,
      "outputs": []
    },
    {
      "cell_type": "code",
      "source": [
        "# creating TFIDF matrix for our corpus\n",
        "vectorizer = TfidfVectorizer(stop_words='english')\n",
        "documents_vectorized = vectorizer.fit_transform(corpus)"
      ],
      "metadata": {
        "id": "IIV7dX9maUtE"
      },
      "id": "IIV7dX9maUtE",
      "execution_count": 15,
      "outputs": []
    },
    {
      "cell_type": "code",
      "source": [
        "print('We have a {} document corpus with a {} term vocabulary'.format(*documents_vectorized.shape))"
      ],
      "metadata": {
        "colab": {
          "base_uri": "https://localhost:8080/"
        },
        "id": "g0ShH2QxiJ5q",
        "outputId": "64438136-fd42-4be4-bfb5-f8ba756982d7"
      },
      "id": "g0ShH2QxiJ5q",
      "execution_count": 16,
      "outputs": [
        {
          "output_type": "stream",
          "name": "stdout",
          "text": [
            "We have a 1460 document corpus with a 10290 term vocabulary\n"
          ]
        }
      ]
    },
    {
      "cell_type": "markdown",
      "source": [
        "**NOTE - the TFIDF matrices for the documents and queries are created within the VSM implementation. This way, changes made to the preprocessing of the corpus or queries only require re-running the implementation steps.**"
      ],
      "metadata": {
        "id": "eWBVNUK1C2Bx"
      },
      "id": "eWBVNUK1C2Bx"
    },
    {
      "cell_type": "markdown",
      "source": [
        "# **VSM Implementation**"
      ],
      "metadata": {
        "id": "DS2DdGJRp96H"
      },
      "id": "DS2DdGJRp96H"
    },
    {
      "cell_type": "code",
      "source": [
        "# function to automatically generate TFIDF matrices and return a list of the top 10 results for each query\n",
        "def VSM(corpus, queries, num_results):\n",
        "    # Step 1-4: Preprocess corpus and create document-term frequency matrix and fit TfidfTransformer to it\n",
        "    vectorizer = CountVectorizer()\n",
        "    term_matrix = vectorizer.fit_transform(corpus)\n",
        "    tfidf_transformer = TfidfTransformer()\n",
        "    tfidf_matrix = tfidf_transformer.fit_transform(term_matrix)\n",
        "\n",
        "    # Initialize list to store query-document tuples\n",
        "    results = []\n",
        "\n",
        "    # Step 5-9: Loop through queries, calculate cosine similarity, and print top matching documents for each query\n",
        "    for query_id, query in enumerate(queries):\n",
        "        # Step 5: Convert the query into a term frequency matrix using the vocabulary from the CountVectorizer used to create tfidf_matrix\n",
        "        query_matrix = vectorizer.transform([query])\n",
        "\n",
        "        # Step 6: Transform the query-term frequency matrix into a TF-IDF matrix using the TfidfTransformer fitted to the document-term frequency matrix\n",
        "        query_tfidf = tfidf_transformer.transform(query_matrix)\n",
        "\n",
        "        # Step 7: Calculate cosine similarity between query TF-IDF matrix and document TF-IDF matrix\n",
        "        cosine_similarities = cosine_similarity(query_tfidf, tfidf_matrix).flatten()\n",
        "\n",
        "        # Step 8: Get indices of documents with highest similarity scores\n",
        "        top_indices = cosine_similarities.argsort()[::-1][:num_results]\n",
        "\n",
        "        # Step 9: Append query-document tuple to list\n",
        "        results.append((query_id+1, [index+1 for index in top_indices]))\n",
        "\n",
        "        # Print top matching documents\n",
        "        print(f\"Top {num_results} matching documents for query '{query}':\")\n",
        "        for i, index in enumerate(top_indices):\n",
        "            print(f\"Rank {i+1}: {documents[index]}\")\n",
        "        print()\n",
        "    return results"
      ],
      "metadata": {
        "id": "us8DejNb6VZr"
      },
      "id": "us8DejNb6VZr",
      "execution_count": 17,
      "outputs": []
    },
    {
      "cell_type": "code",
      "source": [
        "#results = VSM(corpus, qry_terms_all, 10) # executes all queries against the search engine"
      ],
      "metadata": {
        "id": "lRvXWGI66Vfx"
      },
      "id": "lRvXWGI66Vfx",
      "execution_count": 32,
      "outputs": []
    },
    {
      "cell_type": "code",
      "source": [
        "retrieved_documents = [(query_id, document_ids) for query_id, document_ids in results]\n",
        "retrieved_documents = [{'query_id': query_id, 'retrieved_document_ids': document_ids} for query_id, document_ids in results]\n",
        "retrieved_documents[0] # print out the first query and its top 10 results just to see the formatting"
      ],
      "metadata": {
        "colab": {
          "base_uri": "https://localhost:8080/"
        },
        "id": "i73GAoxBNU9k",
        "outputId": "502f50a0-6099-403d-80ec-a61e066699d3"
      },
      "id": "i73GAoxBNU9k",
      "execution_count": 19,
      "outputs": [
        {
          "output_type": "execute_result",
          "data": {
            "text/plain": [
              "{'query_id': 1,\n",
              " 'retrieved_document_ids': [722, 429, 589, 1281, 1299, 38, 603, 813, 620, 650]}"
            ]
          },
          "metadata": {},
          "execution_count": 19
        }
      ]
    },
    {
      "cell_type": "code",
      "source": [
        "relevant_documents[0] # from the cisi.rel file - put here to compare"
      ],
      "metadata": {
        "colab": {
          "base_uri": "https://localhost:8080/"
        },
        "id": "jrgC2AQ6CN2V",
        "outputId": "ba71b4e4-583b-4042-ada6-de1b502991a4"
      },
      "id": "jrgC2AQ6CN2V",
      "execution_count": 20,
      "outputs": [
        {
          "output_type": "execute_result",
          "data": {
            "text/plain": [
              "{'query_id': 1,\n",
              " 'relevant_document_ids': [28,\n",
              "  35,\n",
              "  38,\n",
              "  42,\n",
              "  43,\n",
              "  52,\n",
              "  65,\n",
              "  76,\n",
              "  86,\n",
              "  150,\n",
              "  189,\n",
              "  192,\n",
              "  193,\n",
              "  195,\n",
              "  215,\n",
              "  269,\n",
              "  291,\n",
              "  320,\n",
              "  429,\n",
              "  465,\n",
              "  466,\n",
              "  482,\n",
              "  483,\n",
              "  510,\n",
              "  524,\n",
              "  541,\n",
              "  576,\n",
              "  582,\n",
              "  589,\n",
              "  603,\n",
              "  650,\n",
              "  680,\n",
              "  711,\n",
              "  722,\n",
              "  726,\n",
              "  783,\n",
              "  813,\n",
              "  820,\n",
              "  868,\n",
              "  869,\n",
              "  894,\n",
              "  1162,\n",
              "  1164,\n",
              "  1195,\n",
              "  1196,\n",
              "  1281]}"
            ]
          },
          "metadata": {},
          "execution_count": 20
        }
      ]
    },
    {
      "cell_type": "markdown",
      "source": [
        "# **Evaluation**"
      ],
      "metadata": {
        "id": "Q66rNiFeBsbE"
      },
      "id": "Q66rNiFeBsbE"
    },
    {
      "cell_type": "markdown",
      "source": [
        "**VSM Evaluation**"
      ],
      "metadata": {
        "id": "wM56yxO6YELU"
      },
      "id": "wM56yxO6YELU"
    },
    {
      "cell_type": "code",
      "source": [
        "# for some reason, not all queries have relevance assessments\n",
        "# we need to remove those that dont to calculate precision/recall\n",
        "relevant_query_ids = [rd['query_id'] for rd in relevant_documents]\n",
        "rel_retrieved_documents = [rd for rd in retrieved_documents if rd['query_id'] in relevant_query_ids]"
      ],
      "metadata": {
        "id": "F-AaX6C2LD-g"
      },
      "id": "F-AaX6C2LD-g",
      "execution_count": 21,
      "outputs": []
    },
    {
      "cell_type": "code",
      "source": [
        "rel_retrieved_documents[34]\n",
        "# look at the difference between 'retrieved_documents[34] and 'rel_retrieved_documents[34]!!\n",
        "# there are no relevance assessments for document 36!"
      ],
      "metadata": {
        "colab": {
          "base_uri": "https://localhost:8080/"
        },
        "id": "lGmRY0IDP2ZC",
        "outputId": "4d254b2f-1229-4021-c206-dbd04cacbc58"
      },
      "id": "lGmRY0IDP2ZC",
      "execution_count": 22,
      "outputs": [
        {
          "output_type": "execute_result",
          "data": {
            "text/plain": [
              "{'query_id': 35,\n",
              " 'retrieved_document_ids': [1207,\n",
              "  1298,\n",
              "  18,\n",
              "  1362,\n",
              "  717,\n",
              "  402,\n",
              "  375,\n",
              "  1284,\n",
              "  990,\n",
              "  481]}"
            ]
          },
          "metadata": {},
          "execution_count": 22
        }
      ]
    },
    {
      "cell_type": "code",
      "source": [
        "print('The number of queries that have relevance assessments is', len(rel_retrieved_documents))"
      ],
      "metadata": {
        "colab": {
          "base_uri": "https://localhost:8080/"
        },
        "id": "U5CB6oHaTIOl",
        "outputId": "9322dc9a-0055-4950-e862-3dffb87db881"
      },
      "id": "U5CB6oHaTIOl",
      "execution_count": 23,
      "outputs": [
        {
          "output_type": "stream",
          "name": "stdout",
          "text": [
            "The number of queries that have relevance assessments is 76\n"
          ]
        }
      ]
    },
    {
      "cell_type": "code",
      "source": [
        "for i, retrieved_doc in enumerate(rel_retrieved_documents):\n",
        "    # Get the corresponding relevant documents for the query\n",
        "    relevant_doc = next(rd for rd in relevant_documents if rd['query_id'] == retrieved_doc['query_id'])\n",
        "\n",
        "    # Calculate precision\n",
        "    retrieved_set = set(retrieved_doc['retrieved_document_ids'])\n",
        "    relevant_set = set(relevant_doc['relevant_document_ids'])\n",
        "    true_positives = len(retrieved_set.intersection(relevant_set))\n",
        "    precision = true_positives / len(retrieved_set)\n",
        "\n",
        "    # Print the precision for the query\n",
        "    print(f\"Query {i+1} Precision: {precision}\")\n"
      ],
      "metadata": {
        "colab": {
          "base_uri": "https://localhost:8080/"
        },
        "id": "rLr7LvUcGBtI",
        "outputId": "af4e5977-033e-4961-a62c-5269dbf14b97"
      },
      "id": "rLr7LvUcGBtI",
      "execution_count": 24,
      "outputs": [
        {
          "output_type": "stream",
          "name": "stdout",
          "text": [
            "Query 1 Precision: 0.8\n",
            "Query 2 Precision: 0.0\n",
            "Query 3 Precision: 0.8\n",
            "Query 4 Precision: 0.1\n",
            "Query 5 Precision: 0.1\n",
            "Query 6 Precision: 0.0\n",
            "Query 7 Precision: 0.1\n",
            "Query 8 Precision: 0.0\n",
            "Query 9 Precision: 0.4\n",
            "Query 10 Precision: 0.4\n",
            "Query 11 Precision: 0.4\n",
            "Query 12 Precision: 0.3\n",
            "Query 13 Precision: 0.3\n",
            "Query 14 Precision: 0.0\n",
            "Query 15 Precision: 0.3\n",
            "Query 16 Precision: 0.1\n",
            "Query 17 Precision: 0.1\n",
            "Query 18 Precision: 0.3\n",
            "Query 19 Precision: 0.7\n",
            "Query 20 Precision: 0.3\n",
            "Query 21 Precision: 0.0\n",
            "Query 22 Precision: 0.0\n",
            "Query 23 Precision: 0.2\n",
            "Query 24 Precision: 0.5\n",
            "Query 25 Precision: 0.3\n",
            "Query 26 Precision: 0.7\n",
            "Query 27 Precision: 0.2\n",
            "Query 28 Precision: 0.6\n",
            "Query 29 Precision: 0.3\n",
            "Query 30 Precision: 0.7\n",
            "Query 31 Precision: 0.2\n",
            "Query 32 Precision: 0.3\n",
            "Query 33 Precision: 0.1\n",
            "Query 34 Precision: 0.4\n",
            "Query 35 Precision: 0.3\n",
            "Query 36 Precision: 0.1\n",
            "Query 37 Precision: 0.2\n",
            "Query 38 Precision: 0.3\n",
            "Query 39 Precision: 0.2\n",
            "Query 40 Precision: 0.0\n",
            "Query 41 Precision: 0.6\n",
            "Query 42 Precision: 0.3\n",
            "Query 43 Precision: 0.5\n",
            "Query 44 Precision: 0.3\n",
            "Query 45 Precision: 0.7\n",
            "Query 46 Precision: 0.7\n",
            "Query 47 Precision: 0.2\n",
            "Query 48 Precision: 1.0\n",
            "Query 49 Precision: 0.0\n",
            "Query 50 Precision: 0.2\n",
            "Query 51 Precision: 0.9\n",
            "Query 52 Precision: 0.0\n",
            "Query 53 Precision: 0.6\n",
            "Query 54 Precision: 0.2\n",
            "Query 55 Precision: 0.7\n",
            "Query 56 Precision: 0.2\n",
            "Query 57 Precision: 0.3\n",
            "Query 58 Precision: 0.3\n",
            "Query 59 Precision: 0.8\n",
            "Query 60 Precision: 0.3\n",
            "Query 61 Precision: 0.2\n",
            "Query 62 Precision: 0.0\n",
            "Query 63 Precision: 0.0\n",
            "Query 64 Precision: 0.2\n",
            "Query 65 Precision: 0.3\n",
            "Query 66 Precision: 0.5\n",
            "Query 67 Precision: 0.2\n",
            "Query 68 Precision: 0.3\n",
            "Query 69 Precision: 0.5\n",
            "Query 70 Precision: 0.6\n",
            "Query 71 Precision: 0.1\n",
            "Query 72 Precision: 0.1\n",
            "Query 73 Precision: 0.6\n",
            "Query 74 Precision: 0.1\n",
            "Query 75 Precision: 0.3\n",
            "Query 76 Precision: 0.2\n"
          ]
        }
      ]
    },
    {
      "cell_type": "code",
      "source": [
        "# creating function to plot the precisions of all queries\n",
        "import matplotlib.pyplot as plt\n",
        "\n",
        "# Create lists to store query numbers and precisions\n",
        "query_nums_precision = []\n",
        "precisions = []\n",
        "\n",
        "# Calculate precision for each of the first 5 queries\n",
        "for i, retrieved_doc in enumerate(rel_retrieved_documents[::]):\n",
        "    # Get the corresponding relevant documents for the query\n",
        "    relevant_doc = next(rd for rd in relevant_documents if rd['query_id'] == retrieved_doc['query_id'])\n",
        "\n",
        "    # Calculate precision\n",
        "    retrieved_set = set(retrieved_doc['retrieved_document_ids'])\n",
        "    relevant_set = set(relevant_doc['relevant_document_ids'])\n",
        "    true_positives = len(retrieved_set.intersection(relevant_set))\n",
        "    precision = true_positives / len(retrieved_set)\n",
        "\n",
        "    # Append query number and precision to lists\n",
        "    query_nums_precision.append(i+1)\n",
        "    precisions.append(precision)\n",
        "\n",
        "# Create bar chart\n",
        "plt.bar(query_nums_precision, precisions)\n",
        "plt.xlabel(\"Query Number\")\n",
        "plt.ylabel(\"Precision\")\n",
        "plt.title(\"Precision For All Queries\")\n",
        "plt.show()"
      ],
      "metadata": {
        "colab": {
          "base_uri": "https://localhost:8080/",
          "height": 472
        },
        "id": "6cK-qs0oSgWt",
        "outputId": "3518215a-7c0f-4587-e19c-fd3e01a15bcb"
      },
      "id": "6cK-qs0oSgWt",
      "execution_count": 25,
      "outputs": [
        {
          "output_type": "display_data",
          "data": {
            "text/plain": [
              "<Figure size 640x480 with 1 Axes>"
            ],
            "image/png": "[encoded data removed]"
          },
          "metadata": {}
        }
      ]
    },
    {
      "cell_type": "code",
      "source": [
        "# creating function to plot the recalls of all queries\n",
        "\n",
        "# Create lists to store query numbers and recalls\n",
        "query_nums_recall = []\n",
        "recalls = []\n",
        "\n",
        "# Calculate recall for each query\n",
        "for i, retrieved_doc in enumerate(rel_retrieved_documents):\n",
        "    # Get the corresponding relevant documents for the query\n",
        "    relevant_doc = next(rd for rd in relevant_documents if rd['query_id'] == retrieved_doc['query_id'])\n",
        "\n",
        "    # Calculate true positives and recall\n",
        "    retrieved_set = set(retrieved_doc['retrieved_document_ids'])\n",
        "    relevant_set = set(relevant_doc['relevant_document_ids'])\n",
        "    true_positives = len(retrieved_set.intersection(relevant_set))\n",
        "    recall = true_positives / len(relevant_set)\n",
        "\n",
        "    # Append query number and recall to lists\n",
        "    query_nums_recall.append(i+1)\n",
        "    recalls.append(recall)\n",
        "\n",
        "# Create bar chart\n",
        "plt.bar(query_nums_recall, recalls)\n",
        "plt.xlabel(\"Query Number\")\n",
        "plt.ylabel(\"Recall\")\n",
        "plt.title(\"Recall For All Queries\")\n",
        "plt.show()\n"
      ],
      "metadata": {
        "colab": {
          "base_uri": "https://localhost:8080/",
          "height": 472
        },
        "id": "rHtS9O6dGBvo",
        "outputId": "98e3b397-fe14-4978-841b-eaeb13cc47f8"
      },
      "id": "rHtS9O6dGBvo",
      "execution_count": 26,
      "outputs": [
        {
          "output_type": "display_data",
          "data": {
            "text/plain": [
              "<Figure size 640x480 with 1 Axes>"
            ],
            "image/png": "[encoded data removed]"
          },
          "metadata": {}
        }
      ]
    },
    {
      "cell_type": "code",
      "source": [
        "# creating function to plot the recalls of all queries\n",
        "# Create lists to store query numbers and F1 scores\n",
        "query_nums_f1 = []\n",
        "f1_scores = []\n",
        "\n",
        "# Calculate F1 score for each of the first 5 queries\n",
        "for i, retrieved_doc in enumerate(rel_retrieved_documents[:5]):\n",
        "    # Get the corresponding relevant documents for the query\n",
        "    relevant_doc = next(rd for rd in relevant_documents if rd['query_id'] == retrieved_doc['query_id'])\n",
        "\n",
        "    # Calculate precision, recall, and F1 score\n",
        "    retrieved_set = set(retrieved_doc['retrieved_document_ids'])\n",
        "    relevant_set = set(relevant_doc['relevant_document_ids'])\n",
        "    true_positives = len(retrieved_set.intersection(relevant_set))\n",
        "    precision = true_positives / len(retrieved_set)\n",
        "    recall = true_positives / len(relevant_set)\n",
        "    f1_score = 2 * (precision * recall) / (precision + recall)\n",
        "\n",
        "    # Append query number and F1 score to lists\n",
        "    query_nums_f1.append(i+1)\n",
        "    f1_scores.append(f1_score)\n",
        "\n",
        "# Create bar chart\n",
        "plt.bar(query_nums_f1, f1_scores)\n",
        "plt.xlabel(\"Query Number\")\n",
        "plt.ylabel(\"F1 Score\")\n",
        "plt.title(\"F1 Score for First 5 Queries\")\n",
        "plt.show()"
      ],
      "metadata": {
        "colab": {
          "base_uri": "https://localhost:8080/",
          "height": 235
        },
        "id": "sDbSkB7hGBzk",
        "outputId": "29584fe0-4f0c-4e28-e7ef-16291adc6740"
      },
      "id": "sDbSkB7hGBzk",
      "execution_count": 27,
      "outputs": [
        {
          "output_type": "error",
          "ename": "ZeroDivisionError",
          "evalue": "ignored",
          "traceback": [
            "\u001b[0;31m---------------------------------------------------------------------------\u001b[0m",
            "\u001b[0;31mZeroDivisionError\u001b[0m                         Traceback (most recent call last)",
            "\u001b[0;32m<ipython-input-27-0703f0e72591>\u001b[0m in \u001b[0;36m<cell line: 7>\u001b[0;34m()\u001b[0m\n\u001b[1;32m     15\u001b[0m     \u001b[0mprecision\u001b[0m \u001b[0;34m=\u001b[0m \u001b[0mtrue_positives\u001b[0m \u001b[0;34m/\u001b[0m \u001b[0mlen\u001b[0m\u001b[0;34m(\u001b[0m\u001b[0mretrieved_set\u001b[0m\u001b[0;34m)\u001b[0m\u001b[0;34m\u001b[0m\u001b[0;34m\u001b[0m\u001b[0m\n\u001b[1;32m     16\u001b[0m     \u001b[0mrecall\u001b[0m \u001b[0;34m=\u001b[0m \u001b[0mtrue_positives\u001b[0m \u001b[0;34m/\u001b[0m \u001b[0mlen\u001b[0m\u001b[0;34m(\u001b[0m\u001b[0mrelevant_set\u001b[0m\u001b[0;34m)\u001b[0m\u001b[0;34m\u001b[0m\u001b[0;34m\u001b[0m\u001b[0m\n\u001b[0;32m---> 17\u001b[0;31m     \u001b[0mf1_score\u001b[0m \u001b[0;34m=\u001b[0m \u001b[0;36m2\u001b[0m \u001b[0;34m*\u001b[0m \u001b[0;34m(\u001b[0m\u001b[0mprecision\u001b[0m \u001b[0;34m*\u001b[0m \u001b[0mrecall\u001b[0m\u001b[0;34m)\u001b[0m \u001b[0;34m/\u001b[0m \u001b[0;34m(\u001b[0m\u001b[0mprecision\u001b[0m \u001b[0;34m+\u001b[0m \u001b[0mrecall\u001b[0m\u001b[0;34m)\u001b[0m\u001b[0;34m\u001b[0m\u001b[0;34m\u001b[0m\u001b[0m\n\u001b[0m\u001b[1;32m     18\u001b[0m \u001b[0;34m\u001b[0m\u001b[0m\n\u001b[1;32m     19\u001b[0m     \u001b[0;31m# Append query number and F1 score to lists\u001b[0m\u001b[0;34m\u001b[0m\u001b[0;34m\u001b[0m\u001b[0m\n",
            "\u001b[0;31mZeroDivisionError\u001b[0m: float division by zero"
          ]
        }
      ]
    },
    {
      "cell_type": "code",
      "source": [
        "n = len(precisions)\n",
        "VSM_map = sum(precisions) / n\n",
        "print(f\"The mean average precision of our Vector Space Model is: {VSM_map}\")"
      ],
      "metadata": {
        "colab": {
          "base_uri": "https://localhost:8080/"
        },
        "id": "o1BseFrdGB15",
        "outputId": "0ddbfd54-3dd1-4a94-e981-fd4797fbf874"
      },
      "id": "o1BseFrdGB15",
      "execution_count": 28,
      "outputs": [
        {
          "output_type": "stream",
          "name": "stdout",
          "text": [
            "The mean average precision of our Vector Space Model is: 0.3171052631578948\n"
          ]
        }
      ]
    },
    {
      "cell_type": "code",
      "source": [
        "MAP_sabs_queries = 0.32763157894736833\n",
        "MAP_sobs_queries = 0.3171052631578948 # why is this different"
      ],
      "metadata": {
        "id": "TealqpICZKu6"
      },
      "id": "TealqpICZKu6",
      "execution_count": 29,
      "outputs": []
    },
    {
      "cell_type": "markdown",
      "source": [
        "**BM25 Evaluation**"
      ],
      "metadata": {
        "id": "jlYys8POYKuT"
      },
      "id": "jlYys8POYKuT"
    },
    {
      "cell_type": "code",
      "source": [
        "BM25_map = 0.5 # placeholder value"
      ],
      "metadata": {
        "id": "gomZ9WysWuw4"
      },
      "id": "gomZ9WysWuw4",
      "execution_count": 30,
      "outputs": []
    },
    {
      "cell_type": "markdown",
      "source": [
        "# **Comparative Analysis**"
      ],
      "metadata": {
        "id": "BtqIAOYgYPPJ"
      },
      "id": "BtqIAOYgYPPJ"
    },
    {
      "cell_type": "code",
      "source": [
        "plt.bar(['VSM', 'BM25'], [VSM_map, BM25_map])\n",
        "\n",
        "# Set the axis labels and title\n",
        "plt.xlabel('Model Type')\n",
        "plt.ylabel('Mean Average Precision')\n",
        "plt.title('Performance of VSM and BM25 Retrieval Models')\n",
        "\n",
        "# Display the plot\n",
        "plt.show()"
      ],
      "metadata": {
        "colab": {
          "base_uri": "https://localhost:8080/",
          "height": 472
        },
        "id": "FU6bEM5yGB4S",
        "outputId": "c4403186-85de-41fa-9f6a-55989b29eb7a"
      },
      "id": "FU6bEM5yGB4S",
      "execution_count": 31,
      "outputs": [
        {
          "output_type": "display_data",
          "data": {
            "text/plain": [
              "<Figure size 640x480 with 1 Axes>"
            ],
            "image/png": "[encoded data removed]"
          },
          "metadata": {}
        }
      ]
    },
    {
      "cell_type": "markdown",
      "source": [
        "# **Optimisation Steps (if any)**"
      ],
      "metadata": {
        "id": "zS3gpzPWXLj6"
      },
      "id": "zS3gpzPWXLj6"
    },
    {
      "cell_type": "markdown",
      "source": [
        "- fix the F1 function\n",
        "- try stemming instead of lemmatization\n",
        "- preprocessing needs to be fine-tuned and checked again\n",
        "- tune the bm25 model's parameters if possible"
      ],
      "metadata": {
        "id": "GTZLyZV5XQtb"
      },
      "id": "GTZLyZV5XQtb"
    }
  ],
  "metadata": {
    "kernelspec": {
      "display_name": "Python 3 (ipykernel)",
      "language": "python",
      "name": "python3"
    },
    "language_info": {
      "codemirror_mode": {
        "name": "ipython",
        "version": 3
      },
      "file_extension": ".py",
      "mimetype": "text/x-python",
      "name": "python",
      "nbconvert_exporter": "python",
      "pygments_lexer": "ipython3",
      "version": "3.9.13"
    },
    "colab": {
      "provenance": []
    }
  },
  "nbformat": 4,
  "nbformat_minor": 5
}